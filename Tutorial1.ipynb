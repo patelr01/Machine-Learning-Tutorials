{
 "cells": [
  {
   "cell_type": "markdown",
   "metadata": {},
   "source": [
    "# Tutorial 1"
   ]
  },
  {
   "cell_type": "markdown",
   "metadata": {},
   "source": [
    "# 1. Basic Jupyter notebook manipulation and command line"
   ]
  },
  {
   "cell_type": "markdown",
   "metadata": {},
   "source": [
    "1.1- **Research** Investigate the components of the Jupyter notebook. Explain what happens when you press Shift + Enter on a cell with Python code? **Use your own words**"
   ]
  },
  {
   "cell_type": "code",
   "execution_count": 1,
   "metadata": {
    "collapsed": true
   },
   "outputs": [],
   "source": [
    "## Write your answers here"
   ]
  },
  {
   "cell_type": "markdown",
   "metadata": {},
   "source": [
    "1.2- **Command line **"
   ]
  },
  {
   "cell_type": "markdown",
   "metadata": {},
   "source": [
    "In Jupyter notebooks, you can run command line commands by using the special string `%%bash` at the beginning of a cell.\n",
    "\n",
    "For example, bellow we will run a simple count of how many folders are in `/datasets/sentiment_analysis`"
   ]
  },
  {
   "cell_type": "code",
   "execution_count": 2,
   "metadata": {
    "collapsed": true
   },
   "outputs": [],
   "source": [
    "%%bash\n",
    "# Write your code below"
   ]
  },
  {
   "cell_type": "markdown",
   "metadata": {},
   "source": [
    "Now open a terminal and click New -> Terminal) and, using `man` and `info`, investigate how the commands `cat`, `grep`, `sort`, and `head` work."
   ]
  },
  {
   "cell_type": "markdown",
   "metadata": {},
   "source": [
    "1.3-  Use the command `cat` to display the contents of `csv` files inside the folder `/datasets/mfudge/customers`. You can use the pattern matching feature (e.g., `*.csv`) of Bash. These files contain comma-separated information about the customers."
   ]
  },
  {
   "cell_type": "code",
   "execution_count": 3,
   "metadata": {
    "collapsed": true
   },
   "outputs": [],
   "source": [
    "%%bash\n",
    "# put your command here\n"
   ]
  },
  {
   "cell_type": "markdown",
   "metadata": {},
   "source": [
    "1.4-  Use a pipe and `grep` to filter the result of the previous command to display only the Syracuse customers."
   ]
  },
  {
   "cell_type": "code",
   "execution_count": 50,
   "metadata": {
    "collapsed": true
   },
   "outputs": [],
   "source": [
    "%%bash\n",
    "# put your command here"
   ]
  },
  {
   "cell_type": "markdown",
   "metadata": {},
   "source": [
    "1.5- Combine `sort`, and `head` (or `tail`). Explore the syntax of `sort` with `man` or `info`. Get the information of the customers sorted by the number of months and then pipe into `head` (or `tail`) to get the customer with most number of active months"
   ]
  },
  {
   "cell_type": "code",
   "execution_count": 51,
   "metadata": {
    "collapsed": true
   },
   "outputs": [],
   "source": [
    "%%bash\n",
    "# put your code here"
   ]
  },
  {
   "cell_type": "markdown",
   "metadata": {},
   "source": [
    "## 2. Basic Python programming"
   ]
  },
  {
   "cell_type": "markdown",
   "metadata": {},
   "source": [
    "#### Lists\n",
    "\n",
    "In Python, it is very easy to programmatically construct a list of things by using the `append` method of list."
   ]
  },
  {
   "cell_type": "markdown",
   "metadata": {},
   "source": [
    "For example, if we define an empty list:"
   ]
  },
  {
   "cell_type": "code",
   "execution_count": 6,
   "metadata": {
    "collapsed": true
   },
   "outputs": [],
   "source": [
    "all_content = []"
   ]
  },
  {
   "cell_type": "markdown",
   "metadata": {},
   "source": [
    "we can add content to that list using the method append:"
   ]
  },
  {
   "cell_type": "code",
   "execution_count": 7,
   "metadata": {
    "collapsed": true
   },
   "outputs": [],
   "source": [
    "all_content.append([1,2,3])\n",
    "all_content.append([4,5,6])\n",
    "all_content.append([7,8,9])"
   ]
  },
  {
   "cell_type": "code",
   "execution_count": 8,
   "metadata": {},
   "outputs": [
    {
     "data": {
      "text/plain": [
       "[[1, 2, 3], [4, 5, 6], [7, 8, 9]]"
      ]
     },
     "execution_count": 8,
     "metadata": {},
     "output_type": "execute_result"
    }
   ],
   "source": [
    "all_content"
   ]
  },
  {
   "cell_type": "markdown",
   "metadata": {},
   "source": [
    "We can use this functionality to build up results before we return them as part of a calculation."
   ]
  },
  {
   "cell_type": "markdown",
   "metadata": {},
   "source": [
    "#### Reading files"
   ]
  },
  {
   "cell_type": "markdown",
   "metadata": {},
   "source": [
    "In Python, you can open text files and store their lines using a very simple syntax:"
   ]
  },
  {
   "cell_type": "code",
   "execution_count": 9,
   "metadata": {
    "collapsed": true
   },
   "outputs": [],
   "source": [
    "with open('/datasets/mfudge/exam-scores/exam-scores.csv') as fp:\n",
    "    content = fp.read()"
   ]
  },
  {
   "cell_type": "markdown",
   "metadata": {},
   "source": [
    "After running the above code, there will be a new variable `content` which contains a string with the file's content"
   ]
  },
  {
   "cell_type": "code",
   "execution_count": 10,
   "metadata": {},
   "outputs": [
    {
     "data": {
      "text/plain": [
       "'Class Section,Exam Version,Completion Time,Made Own Study Guide,Did Exam Prep Assignment,Studied In Groups,Student Score,Percentage,Letter Grade\\nM01,A,20,N,N,Y,24,80.00%,B\\nM01,A,20,?,?,?,27,90.00%,A-\\nM01,A,30,Y,Y,Y,30,100.00%,A\\nM01,A,50,N,Y,Y,18,60.00%,C-\\nM01,A,55,Y,Y,N,24,80.00%,B\\nM01,A,60,N,Y,Y,25,83.30%,B\\nM01,A,60,Y,Y,Y,30,100.00%,A\\nM01,B,15,Y,Y,Y,26,86.70%,B+\\nM01,B,20,N,N,Y,13,43.30%,F\\nM01,B,20,Y,Y,N,27,90.00%,A-\\nM01,B,25,?,?,?,20,66.70%,C\\nM01,B,25,N,N,N,24,80.00%,B\\nM01,B,35,Y,N,Y,29,96.70%,A\\nM01,B,60,Y,N,N,26,86.70%,B+\\nM01,C,20,Y,Y,Y,26,86.70%,B+\\nM01,C,40,N,Y,N,23,76.70%,B-\\nM01,C,45,Y,N,N,22,73.30%,C+\\nM01,C,45,N,Y,Y,23,76.70%,B-\\nM01,C,50,Y,Y,Y,27,90.00%,A-\\nM01,C,55,Y,N,N,23,76.70%,B-\\nM01,C,60,?,?,?,22,73.30%,C+\\nM01,D,25,N,N,Y,15,50.00%,D\\nM01,D,25,?,?,?,24,80.00%,B\\nM01,D,35,?,?,?,13,43.30%,F\\nM01,D,40,?,?,?,20,66.70%,C\\nM01,D,55,Y,N,N,20,66.70%,C\\nM01,D,60,Y,Y,N,19,63.30%,C-\\nM01,D,60,Y,N,Y,21,70.00%,C+\\nM01,D,60,?,?,?,26,86.70%,B+\\nM02,A,20,N,N,N,16,53.30%,D\\nM02,A,25,?,?,?,17,56.70%,D\\nM02,A,30,N,Y,Y,24,80.00%,B\\nM02,A,35,?,?,?,22,73.30%,C+\\nM02,A,40,?,?,?,27,90.00%,A-\\nM02,A,45,Y,Y,N,24,80.00%,B\\nM02,A,50,?,?,?,27,90.00%,A-\\nM02,A,55,Y,Y,N,25,83.30%,B\\nM02,A,60,N,N,N,19,63.30%,C-\\nM02,A,60,Y,N,N,23,76.70%,B-\\nM02,B,15,N,N,Y,19,63.30%,C-\\nM02,B,25,?,?,?,25,83.30%,B\\nM02,B,35,N,N,Y,21,70.00%,C+\\nM02,B,40,Y,Y,Y,28,93.30%,A-\\nM02,B,45,N,N,Y,24,80.00%,B\\nM02,B,45,Y,Y,Y,25,83.30%,B\\nM02,B,50,Y,Y,N,28,93.30%,A-\\nM02,B,55,Y,N,N,17,56.70%,D\\nM02,B,60,N,N,Y,22,73.30%,C+\\nM02,C,25,Y,Y,Y,28,93.30%,A-\\nM02,C,30,N,Y,Y,24,80.00%,B\\nM02,C,35,N,Y,N,23,76.70%,B-\\nM02,C,35,N,Y,Y,23,76.70%,B-\\nM02,C,40,Y,Y,N,16,53.30%,D\\nM02,C,45,N,Y,N,20,66.70%,C\\nM02,C,45,N,N,N,21,70.00%,C+\\nM02,C,45,N,Y,Y,25,83.30%,B\\nM02,C,60,N,N,Y,16,53.30%,D\\nM02,D,20,Y,Y,N,21,70.00%,C+\\nM02,D,25,N,N,Y,23,76.70%,B-\\nM02,D,30,N,N,N,21,70.00%,C+\\nM02,D,40,?,?,?,23,76.70%,B-\\nM02,D,45,Y,Y,N,22,73.30%,C+\\nM02,D,45,?,?,?,24,80.00%,B\\nM02,D,55,Y,Y,N,24,80.00%,B\\nM02,D,60,N,N,Y,24,80.00%,B\\n'"
      ]
     },
     "execution_count": 10,
     "metadata": {},
     "output_type": "execute_result"
    }
   ],
   "source": [
    "content"
   ]
  },
  {
   "cell_type": "markdown",
   "metadata": {},
   "source": [
    "We can split the lines with `split('\\n')`:"
   ]
  },
  {
   "cell_type": "code",
   "execution_count": 11,
   "metadata": {},
   "outputs": [
    {
     "data": {
      "text/plain": [
       "['Class Section,Exam Version,Completion Time,Made Own Study Guide,Did Exam Prep Assignment,Studied In Groups,Student Score,Percentage,Letter Grade',\n",
       " 'M01,A,20,N,N,Y,24,80.00%,B',\n",
       " 'M01,A,20,?,?,?,27,90.00%,A-',\n",
       " 'M01,A,30,Y,Y,Y,30,100.00%,A',\n",
       " 'M01,A,50,N,Y,Y,18,60.00%,C-',\n",
       " 'M01,A,55,Y,Y,N,24,80.00%,B',\n",
       " 'M01,A,60,N,Y,Y,25,83.30%,B',\n",
       " 'M01,A,60,Y,Y,Y,30,100.00%,A',\n",
       " 'M01,B,15,Y,Y,Y,26,86.70%,B+',\n",
       " 'M01,B,20,N,N,Y,13,43.30%,F',\n",
       " 'M01,B,20,Y,Y,N,27,90.00%,A-',\n",
       " 'M01,B,25,?,?,?,20,66.70%,C',\n",
       " 'M01,B,25,N,N,N,24,80.00%,B',\n",
       " 'M01,B,35,Y,N,Y,29,96.70%,A',\n",
       " 'M01,B,60,Y,N,N,26,86.70%,B+',\n",
       " 'M01,C,20,Y,Y,Y,26,86.70%,B+',\n",
       " 'M01,C,40,N,Y,N,23,76.70%,B-',\n",
       " 'M01,C,45,Y,N,N,22,73.30%,C+',\n",
       " 'M01,C,45,N,Y,Y,23,76.70%,B-',\n",
       " 'M01,C,50,Y,Y,Y,27,90.00%,A-',\n",
       " 'M01,C,55,Y,N,N,23,76.70%,B-',\n",
       " 'M01,C,60,?,?,?,22,73.30%,C+',\n",
       " 'M01,D,25,N,N,Y,15,50.00%,D',\n",
       " 'M01,D,25,?,?,?,24,80.00%,B',\n",
       " 'M01,D,35,?,?,?,13,43.30%,F',\n",
       " 'M01,D,40,?,?,?,20,66.70%,C',\n",
       " 'M01,D,55,Y,N,N,20,66.70%,C',\n",
       " 'M01,D,60,Y,Y,N,19,63.30%,C-',\n",
       " 'M01,D,60,Y,N,Y,21,70.00%,C+',\n",
       " 'M01,D,60,?,?,?,26,86.70%,B+',\n",
       " 'M02,A,20,N,N,N,16,53.30%,D',\n",
       " 'M02,A,25,?,?,?,17,56.70%,D',\n",
       " 'M02,A,30,N,Y,Y,24,80.00%,B',\n",
       " 'M02,A,35,?,?,?,22,73.30%,C+',\n",
       " 'M02,A,40,?,?,?,27,90.00%,A-',\n",
       " 'M02,A,45,Y,Y,N,24,80.00%,B',\n",
       " 'M02,A,50,?,?,?,27,90.00%,A-',\n",
       " 'M02,A,55,Y,Y,N,25,83.30%,B',\n",
       " 'M02,A,60,N,N,N,19,63.30%,C-',\n",
       " 'M02,A,60,Y,N,N,23,76.70%,B-',\n",
       " 'M02,B,15,N,N,Y,19,63.30%,C-',\n",
       " 'M02,B,25,?,?,?,25,83.30%,B',\n",
       " 'M02,B,35,N,N,Y,21,70.00%,C+',\n",
       " 'M02,B,40,Y,Y,Y,28,93.30%,A-',\n",
       " 'M02,B,45,N,N,Y,24,80.00%,B',\n",
       " 'M02,B,45,Y,Y,Y,25,83.30%,B',\n",
       " 'M02,B,50,Y,Y,N,28,93.30%,A-',\n",
       " 'M02,B,55,Y,N,N,17,56.70%,D',\n",
       " 'M02,B,60,N,N,Y,22,73.30%,C+',\n",
       " 'M02,C,25,Y,Y,Y,28,93.30%,A-',\n",
       " 'M02,C,30,N,Y,Y,24,80.00%,B',\n",
       " 'M02,C,35,N,Y,N,23,76.70%,B-',\n",
       " 'M02,C,35,N,Y,Y,23,76.70%,B-',\n",
       " 'M02,C,40,Y,Y,N,16,53.30%,D',\n",
       " 'M02,C,45,N,Y,N,20,66.70%,C',\n",
       " 'M02,C,45,N,N,N,21,70.00%,C+',\n",
       " 'M02,C,45,N,Y,Y,25,83.30%,B',\n",
       " 'M02,C,60,N,N,Y,16,53.30%,D',\n",
       " 'M02,D,20,Y,Y,N,21,70.00%,C+',\n",
       " 'M02,D,25,N,N,Y,23,76.70%,B-',\n",
       " 'M02,D,30,N,N,N,21,70.00%,C+',\n",
       " 'M02,D,40,?,?,?,23,76.70%,B-',\n",
       " 'M02,D,45,Y,Y,N,22,73.30%,C+',\n",
       " 'M02,D,45,?,?,?,24,80.00%,B',\n",
       " 'M02,D,55,Y,Y,N,24,80.00%,B',\n",
       " 'M02,D,60,N,N,Y,24,80.00%,B',\n",
       " '']"
      ]
     },
     "execution_count": 11,
     "metadata": {},
     "output_type": "execute_result"
    }
   ],
   "source": [
    "content.split('\\n')"
   ]
  },
  {
   "cell_type": "markdown",
   "metadata": {},
   "source": [
    "Now, we might split the content of a line using `split(',')`. For example, for the first line, we can do:"
   ]
  },
  {
   "cell_type": "code",
   "execution_count": 12,
   "metadata": {},
   "outputs": [
    {
     "data": {
      "text/plain": [
       "['M01', 'A', '20', 'N', 'N', 'Y', '24', '80.00%', 'B']"
      ]
     },
     "execution_count": 12,
     "metadata": {},
     "output_type": "execute_result"
    }
   ],
   "source": [
    "content.split('\\n')[1].split(',')"
   ]
  },
  {
   "cell_type": "markdown",
   "metadata": {},
   "source": [
    "2.1- ** Processing strings ** Using the previous knowledge, create a function that processes the contents of a file and returns a list with the contents of each line, where the columns are separated. Discard lines that do not have content.\n",
    "**Hint**: Create an emtpy list that will hold the list of results. Create a list with the lines using `split`. Iterate over each line and split by tab. If the line has content (its length is more than 1), append it to the list of results. At the end of the loop, return the list of results."
   ]
  },
  {
   "cell_type": "code",
   "execution_count": 13,
   "metadata": {
    "collapsed": true
   },
   "outputs": [],
   "source": [
    "def read_lines(listlines):\n",
    "    entryList = list()\n",
    "    listlines = listlines.split('\\n')\n",
    "    listlines = list(filter(None, listlines))   # Discarding lines that do not have content\n",
    "    for row in listlines:\n",
    "        Singleentry = row.split('\\t')\n",
    "        entryList.append(Singleentry)\n",
    "    return entryList"
   ]
  },
  {
   "cell_type": "markdown",
   "metadata": {},
   "source": [
    "For the file `/datasets/mfudge/grades/fall2015.tsv`, the output should work like this:\n",
    "\n",
    "```python\n",
    "with open('/datasets/mfudge/exam-scores/exam-scores.csv') as fp:\n",
    "    content = fp.read()\n",
    "read_lines(content)\n",
    "```\n",
    "\n",
    "```bash\n",
    "[['Class Section,Exam Version,Completion Time,Made Own Study Guide,Did Exam Prep Assignment,Studied In Groups,Student Score,Percentage,Letter Grade'],\n",
    " ['M01,A,20,N,N,Y,24,80.00%,B'],\n",
    " ['M01,A,20,?,?,?,27,90.00%,A-'],\n",
    " ['M01,A,30,Y,Y,Y,30,100.00%,A'],\n",
    " ['M01,A,50,N,Y,Y,18,60.00%,C-'],\n",
    " ['M01,A,55,Y,Y,N,24,80.00%,B'],\n",
    "```"
   ]
  },
  {
   "cell_type": "code",
   "execution_count": 14,
   "metadata": {
    "collapsed": true
   },
   "outputs": [],
   "source": [
    "# Test your function here"
   ]
  },
  {
   "cell_type": "markdown",
   "metadata": {},
   "source": [
    "2.2- **Encapsulate functionality ** Now create a function that reads a comma separated file directly. **Hint**: Encapsulate the file reading functionality from before and call `read_lines` to transform the string into a list"
   ]
  },
  {
   "cell_type": "code",
   "execution_count": 15,
   "metadata": {
    "collapsed": true
   },
   "outputs": [],
   "source": [
    "def read_csv(filepath):\n",
    "    with open(filepath) as file:\n",
    "        content = file.read()\n",
    "    return read_lines(content)"
   ]
  },
  {
   "cell_type": "markdown",
   "metadata": {},
   "source": [
    "You execution should look like this:\n",
    "    \n",
    "```python\n",
    "read_csv('/datasets/mfudge/exam-scores/exam-scores.csv')\n",
    "```\n",
    "\n",
    "```bash\n",
    "[['Class Section,Exam Version,Completion Time,Made Own Study Guide,Did Exam Prep Assignment,Studied In Groups,Student Score,Percentage,Letter Grade'],\n",
    " ['M01,A,20,N,N,Y,24,80.00%,B'],\n",
    " ['M01,A,20,?,?,?,27,90.00%,A-'],\n",
    " ['M01,A,30,Y,Y,Y,30,100.00%,A'],\n",
    " ['M01,A,50,N,Y,Y,18,60.00%,C-'],\n",
    " ['M01,A,55,Y,Y,N,24,80.00%,B'],\n",
    "```"
   ]
  },
  {
   "cell_type": "code",
   "execution_count": 16,
   "metadata": {},
   "outputs": [
    {
     "data": {
      "text/plain": [
       "[['Class Section,Exam Version,Completion Time,Made Own Study Guide,Did Exam Prep Assignment,Studied In Groups,Student Score,Percentage,Letter Grade'],\n",
       " ['M01,A,20,N,N,Y,24,80.00%,B'],\n",
       " ['M01,A,20,?,?,?,27,90.00%,A-'],\n",
       " ['M01,A,30,Y,Y,Y,30,100.00%,A'],\n",
       " ['M01,A,50,N,Y,Y,18,60.00%,C-'],\n",
       " ['M01,A,55,Y,Y,N,24,80.00%,B'],\n",
       " ['M01,A,60,N,Y,Y,25,83.30%,B'],\n",
       " ['M01,A,60,Y,Y,Y,30,100.00%,A'],\n",
       " ['M01,B,15,Y,Y,Y,26,86.70%,B+'],\n",
       " ['M01,B,20,N,N,Y,13,43.30%,F'],\n",
       " ['M01,B,20,Y,Y,N,27,90.00%,A-'],\n",
       " ['M01,B,25,?,?,?,20,66.70%,C'],\n",
       " ['M01,B,25,N,N,N,24,80.00%,B'],\n",
       " ['M01,B,35,Y,N,Y,29,96.70%,A'],\n",
       " ['M01,B,60,Y,N,N,26,86.70%,B+'],\n",
       " ['M01,C,20,Y,Y,Y,26,86.70%,B+'],\n",
       " ['M01,C,40,N,Y,N,23,76.70%,B-'],\n",
       " ['M01,C,45,Y,N,N,22,73.30%,C+'],\n",
       " ['M01,C,45,N,Y,Y,23,76.70%,B-'],\n",
       " ['M01,C,50,Y,Y,Y,27,90.00%,A-'],\n",
       " ['M01,C,55,Y,N,N,23,76.70%,B-'],\n",
       " ['M01,C,60,?,?,?,22,73.30%,C+'],\n",
       " ['M01,D,25,N,N,Y,15,50.00%,D'],\n",
       " ['M01,D,25,?,?,?,24,80.00%,B'],\n",
       " ['M01,D,35,?,?,?,13,43.30%,F'],\n",
       " ['M01,D,40,?,?,?,20,66.70%,C'],\n",
       " ['M01,D,55,Y,N,N,20,66.70%,C'],\n",
       " ['M01,D,60,Y,Y,N,19,63.30%,C-'],\n",
       " ['M01,D,60,Y,N,Y,21,70.00%,C+'],\n",
       " ['M01,D,60,?,?,?,26,86.70%,B+'],\n",
       " ['M02,A,20,N,N,N,16,53.30%,D'],\n",
       " ['M02,A,25,?,?,?,17,56.70%,D'],\n",
       " ['M02,A,30,N,Y,Y,24,80.00%,B'],\n",
       " ['M02,A,35,?,?,?,22,73.30%,C+'],\n",
       " ['M02,A,40,?,?,?,27,90.00%,A-'],\n",
       " ['M02,A,45,Y,Y,N,24,80.00%,B'],\n",
       " ['M02,A,50,?,?,?,27,90.00%,A-'],\n",
       " ['M02,A,55,Y,Y,N,25,83.30%,B'],\n",
       " ['M02,A,60,N,N,N,19,63.30%,C-'],\n",
       " ['M02,A,60,Y,N,N,23,76.70%,B-'],\n",
       " ['M02,B,15,N,N,Y,19,63.30%,C-'],\n",
       " ['M02,B,25,?,?,?,25,83.30%,B'],\n",
       " ['M02,B,35,N,N,Y,21,70.00%,C+'],\n",
       " ['M02,B,40,Y,Y,Y,28,93.30%,A-'],\n",
       " ['M02,B,45,N,N,Y,24,80.00%,B'],\n",
       " ['M02,B,45,Y,Y,Y,25,83.30%,B'],\n",
       " ['M02,B,50,Y,Y,N,28,93.30%,A-'],\n",
       " ['M02,B,55,Y,N,N,17,56.70%,D'],\n",
       " ['M02,B,60,N,N,Y,22,73.30%,C+'],\n",
       " ['M02,C,25,Y,Y,Y,28,93.30%,A-'],\n",
       " ['M02,C,30,N,Y,Y,24,80.00%,B'],\n",
       " ['M02,C,35,N,Y,N,23,76.70%,B-'],\n",
       " ['M02,C,35,N,Y,Y,23,76.70%,B-'],\n",
       " ['M02,C,40,Y,Y,N,16,53.30%,D'],\n",
       " ['M02,C,45,N,Y,N,20,66.70%,C'],\n",
       " ['M02,C,45,N,N,N,21,70.00%,C+'],\n",
       " ['M02,C,45,N,Y,Y,25,83.30%,B'],\n",
       " ['M02,C,60,N,N,Y,16,53.30%,D'],\n",
       " ['M02,D,20,Y,Y,N,21,70.00%,C+'],\n",
       " ['M02,D,25,N,N,Y,23,76.70%,B-'],\n",
       " ['M02,D,30,N,N,N,21,70.00%,C+'],\n",
       " ['M02,D,40,?,?,?,23,76.70%,B-'],\n",
       " ['M02,D,45,Y,Y,N,22,73.30%,C+'],\n",
       " ['M02,D,45,?,?,?,24,80.00%,B'],\n",
       " ['M02,D,55,Y,Y,N,24,80.00%,B'],\n",
       " ['M02,D,60,N,N,Y,24,80.00%,B']]"
      ]
     },
     "execution_count": 16,
     "metadata": {},
     "output_type": "execute_result"
    }
   ],
   "source": [
    "read_csv('/datasets/mfudge/exam-scores/exam-scores.csv')"
   ]
  },
  {
   "cell_type": "markdown",
   "metadata": {},
   "source": [
    "2.3- **Putting it all together ** Put all the funcionality together by creating a function `read_csv_list` that receives a list of file paths and returns a list with contents of the files concatenated. ** Hint:** Create an empty list that will contain all the contents of the files. Iterate over the file paths. Iterate over the results of `read_csv` and append to the list of results. At the end of all iterations, return the list of results:"
   ]
  },
  {
   "cell_type": "code",
   "execution_count": 22,
   "metadata": {
    "collapsed": true
   },
   "outputs": [],
   "source": [
    "def read_csv_list(path_list):\n",
    "    all_content=[]\n",
    "    for singlepath in path_list:\n",
    "        all_content.append(read_csv(singlepath))\n",
    "    return all_content"
   ]
  },
  {
   "cell_type": "markdown",
   "metadata": {},
   "source": [
    "#### Test the above function\n"
   ]
  },
  {
   "cell_type": "code",
   "execution_count": 23,
   "metadata": {
    "scrolled": true
   },
   "outputs": [
    {
     "data": {
      "text/plain": [
       "[[['\\ufeffDate / Time,City,State,Shape,Duration,Summary,Posted'],\n",
       "  ['1/31/16 23:10,Stanton,TX,Triangle,4 seconds,\"Flying Triangle object Martin County, TX.\",2/4/2016'],\n",
       "  ['1/31/16 23:00,Emigrant Pass (near; foothills of),OR,Other,,\"Seen a object with a solid orange bar that lit up bright on the base and the top, it moved slow like a helicopter and was 40 feet off t\",2/4/2016'],\n",
       "  ['1/31/16 22:00,Allentown,PA,Fireball,4 seconds,\"Yellow beam of light falling from the sky, with a burning fireball tip.\",2/4/2016'],\n",
       "  ['1/31/16 20:57,Sandpoint,ID,Fireball,90 seconds,\"Object came in from west to east below approx 500\\' elevation cloud cover , I thought it was a meteorite.\",2/4/2016'],\n",
       "  ['1/31/16 20:46,West Suffield,CT,Circle,~2 minutes,I saw 3 orange lights in a formation coming to a stop moving west to east.,2/4/2016'],\n",
       "  ['1/31/16 20:45,West Suffield,CT,Circle,2 minutes,When letting my dog out approx 8:45pm I was checking out the stars when I turned around and saw 5 large bright orange lights flying in,2/4/2016'],\n",
       "  ['1/31/16 20:30,Big Lake,AK,Circle,10 seconds,Orange circle with a rotating sphere on the top making no sound very fast,2/4/2016'],\n",
       "  [\"1/31/16 20:00,Ten mile,TN,Light,Seconds,I look at the sky every night and again a light moving close to Orion's belt and it disappeared.,2/4/2016\"],\n",
       "  ['1/31/16 20:00,Ten mile,TN,Circle,Seconds,Gazing at stars. This one was red and left a tail behind it. No noise again. ((NUFORC Note: Possible meteor?? PD)),2/4/2016'],\n",
       "  ['1/31/16 20:00,Philadelphia,PA,Changing,10 minutes,\"Eight fire ball shapes flying west , north, and straight up, but calm manner. They were focused.\",2/4/2016'],\n",
       "  ['1/31/16 15:00,Baltimore,MD,Triangle,,https://www.youtube.com/watch?v=Gq-yIuNsRtk ((NUFORC Note: Good video of a large cluster of orange lights. PD)),2/4/2016'],\n",
       "  ['1/31/16 13:00,Hampton Bays,NY,Disk,4 seconds,It appears the he caught a UFO shooting out of the water possible doing a barrel roll. ((NUFORC Note: Bird in flight. PD)),2/11/2016'],\n",
       "  ['1/31/16 05:30,Carmel,ME,Triangle,2-3 minutes,\"Craft with lights in triangular form hovers, shines beam, then descends.\",2/4/2016'],\n",
       "  ['1/31/16 03:17,Port Charlotte,FL,Unknown,15 seconds,Sitting on porch and saw bright flash across sky through trees. No direct visual of an object. Thought it may have been lightning.,2/4/2016'],\n",
       "  ['1/30/16 22:45,Parkersburg,WV,Formation,8 seconds,6 objects flying from WV across the Ohio river moving into different formations with no noise and fast.,2/4/2016'],\n",
       "  ['1/30/16 21:00,Greenville,SC,,2 minutes,\"Orange ball of light hovering over Greenville, SC.\",2/4/2016'],\n",
       "  ['1/30/16 21:00,Hopkins,MN,Formation,3 minutes,Mulitple points of orange-colored lights moving in formation over the ground and then accelerating into space.,2/4/2016'],\n",
       "  ['1/30/16 20:00,Middleburg,FL,Sphere,6 minutess,Seven orange lights fly over SW Jacksonville,2/4/2016'],\n",
       "  ['1/30/16 19:15,Rover,TN,Changing,10 minutes,V-shaped then spreading out into a long line with red lights in what looked like along the edges.,2/4/2016'],\n",
       "  ['1/30/16 19:10,Pennsburg,PA,Light,Seconds,It looked like a shooting star but was larger and came straight down from the sky onto i assume the land. I was on my back porch and co,2/4/2016'],\n",
       "  ['1/30/16 18:30,La Plata,MD,Fireball,2 seconds,\"Bright green streak of light moving from east to west in La Plata, Maryland.\",2/4/2016'],\n",
       "  ['1/30/16 18:20,Dickinson,TX,Changing,6 minutes,Very bright colors.,2/4/2016'],\n",
       "  ['1/30/16 18:17,Williamsburg,VA,Flash,10 seconds,Object falling in the sky disintegrated in bright white and light green flames.,2/4/2016'],\n",
       "  ['1/30/16 18:17,Clark,NJ,Light,1 second,Light moving downward in western sky. Looked like meteorite that broke in two before disappearing.,2/4/2016'],\n",
       "  ['1/30/16 18:00,Hillsville,VA,Fireball,10 seconds,\"Bright white fireball, turned green as it fell and finally \"\"burned out.\"\"\",2/26/2016'],\n",
       "  ['1/30/16 18:00,Coopersburg,PA,Fireball,1 minute,\"Fireball Falls From Sky Bucks County, PA.\",2/4/2016'],\n",
       "  ['1/30/16 14:30,Rockville,MD,Other,Seconds,Two small white/metallic objects about 30 to 40 degrees below and equidistant to the sun,2/11/2016'],\n",
       "  ['1/30/16 02:00,Naalehu,HI,Sphere,90 seconds,\"Orange/Bright White Seeming Metallic Ball(40 ft diameter) Seen Descending Near South Point, Hawaii\",5/6/2016'],\n",
       "  ['1/30/16 01:00,Grande Prairie (Canada),AB,Light,1 hour,\"Saw a blinking light in the sky, at first I thought it was a plane but then I noticed how it was moving. ((NUFORC Note: Sirius? PD))\",2/4/2016'],\n",
       "  ['1/29/16 23:55,Pontiac,MI,Triangle,2 minutes,\"Object was triangular in shape, it had 9 lights on it made no noise, was flying above tree tops, at a low rate of speed.\",6/1/2016'],\n",
       "  ['1/29/16 23:50,Cerritos,CA,Fireball,1 minute,Odd Red- Orange orb - then becomes a fireball seen on 405 freeway in Orange county 1/29/2016.,2/4/2016'],\n",
       "  ['1/29/16 23:00,Lafayette,LA,Chevron,1 minute,\"Large grey, chevron-like, rows of lights underneath. Jan. 29, 2016, Lafayette, LA\",2/4/2016'],\n",
       "  ['1/29/16 22:45,Baltimore (West Hampden),MD,Triangle,5 minutes,In West Hampden. Swirling pulsing noise prompted me to look outside where I saw a large floating illuminated object by the tower/antenn,2/4/2016'],\n",
       "  ['1/29/16 21:27,Burbank,CA,Circle,9 minutes,Red orbs crossing horizon.,2/4/2016'],\n",
       "  ['1/29/16 21:00,Trenton,KY,Light,5 minutes,The three bright solid red lights changed to one solid purple light moving in several directions.,2/4/2016'],\n",
       "  ['1/29/16 21:00,Orono,MN,Light,3 minutes,18-20 orange light spheres moving SW to NE. Silent. About the size of a nickel held at arms length.,2/11/2016'],\n",
       "  ['1/29/16 20:00,Antioch,TN,Circle,10 minutes,\"Formation of lights slowly moving over head, all pretty close to each other, never seen anything like this. Thought maybe drones? Whate\",2/4/2016'],\n",
       "  ['1/29/16 19:05,Fairbanks,AK,,5 minutes +,\"19:05 Fairbanks, Ak. Seen at least 10 bright objects that appeared at first to be falling until I realized they we\\'re coming from the N\",2/4/2016'],\n",
       "  ['1/29/16 18:45,Umatilla,FL,Formation,8 seconds,4 silent fiery lights heading towards Ocala National Forest NNW from Umatilla Jan 29th 2016 at 1845,2/4/2016'],\n",
       "  ['1/29/16 18:00,Helenville,WI,Light,30 second,\"Saw a round light hovering in sky like maybe a satellite but it was way to low. Then a larger light switched on like a spotlight,like i\",2/4/2016'],\n",
       "  ['1/29/16 14:24,New Orleans,LA,Circle,02 minutes,Object in the clear blue sky,2/11/2016'],\n",
       "  ['1/29/16 14:10,Springfield,MO,Rectangle,10 minutes,\"Clear sky. 2 section, rectangular, 3 dimensional, silver, low-flying object, approx. semi trailer size.\",2/4/2016'],\n",
       "  ['1/29/16 12:30,Rochester Hills,MI,Unknown,5 minutes,\"Saw a stationary object in the sky giving off a light, the light grew and the craft vanished.\",2/26/2016'],\n",
       "  ['1/29/16 11:20,Indio,CA,Diamond,20 seconds,\"Unknown black, diamond-shaped craft, slightly smaller than an F-16.\",2/4/2016'],\n",
       "  ['1/29/16 09:00,Barrington,NJ,Disk,7 minutes,Saucer like ship in the sky that was hovering unnaturally and made a immediate vertical ascent.,2/4/2016'],\n",
       "  ['1/29/16 01:40,Murfreesboro,TN,Light,18 minutes,\"Light source changed colors, no movement, then gone. ((NUFORC Note: Possible sighting of a star, perhaps Sirius?? PD))\",1/29/2016'],\n",
       "  ['1/29/16 00:15,Taos,NM,Other,10 minutes,2 large bright red lights flying as one object.,1/29/2016'],\n",
       "  ['1/28/16 23:35,Littleton,CO,Circle,.01,To fast and irregular to be man made.,1/29/2016'],\n",
       "  ['1/28/16 23:00,Amsterdam,NY,Unknown,Several minutes,My mother saw a weird craft flying in an abnormal pattern. She said it had suddenly stopped behind the tree.,1/29/2016'],\n",
       "  ['1/28/16 22:49,La Luz,NM,Light,3 minutes,\"Yellowish/orange sphere seen by 3 witness in Alamogordo, New Mexico.\",1/29/2016'],\n",
       "  ['1/28/16 21:30,Tempe/Phoenix,AZ,Circle,5 minutes,4 bright circular lights in sky over South Phoenix.,1/29/2016'],\n",
       "  [\"1/28/16 21:00,Tome,NM,Light,30 minutes,I'm constantly seeing orange lights hovering over the bosque in los lunas.,1/29/2016\"],\n",
       "  ['1/28/16 20:40,Waukee,IA,Fireball,5 minutes,Large orange fireball moved across the sky from north to south.,1/29/2016'],\n",
       "  ['1/28/16 20:15,Waukesha,WI,Fireball,5 seconds,Green object with light shot from tree top level into the sky.,1/29/2016'],\n",
       "  ['1/28/16 20:15,Ayer/Harvard,MA,Sphere,,\"3 reddish/orange orbs over rte 2 in Ayer, MA.\",2/4/2016'],\n",
       "  ['1/28/16 19:30,Phoenix (Fort McDowell),AZ,Light,20 minutes,Multiple lights hovering in a row North of Phoenix!,2/4/2016'],\n",
       "  [\"1/28/16 19:00,Portland,OR,Circle,,Saw three orange circles near each other and then they spread apart but weren't definitely airplanes or stars. They were slowly moving.,1/29/2016\"],\n",
       "  ['1/28/16 15:30,Rowlett,TX,Other,~2 minutes,I saw what looked like an airplane with a large orange flame behind it and the engine roar was quite loud.,2/4/2016'],\n",
       "  ['1/28/16 14:00,Knoxville,TN,Triangle,20 seconds,Large triangular metal object hurling through the sky.,1/29/2016'],\n",
       "  ['1/28/16 13:30,Forked River,NJ,,30 seconds each. 3X,\"I live on water in South Jersey. On Jan 28, 2016. At approximately 13:30 I was in my home with my two adult children and 2 small grandc\",2/4/2016'],\n",
       "  ['1/28/16 13:23,Absecon (most reports),NJ,,90 minutes,\"Analysis of \"\"sonic booms\"\" and shaking reported along New Jersey coast.\",2/4/2016'],\n",
       "  ['1/28/16 05:15,Shippensburg,PA,Unknown,3-4 minutes,Four large white lights on bottom flew directly overhead,2/4/2016'],\n",
       "  ['1/28/16 01:30,Uniontown,OH,Other,>1 hour,\"3 or more objects over Uniontown Ohio. ((NUFORC Note: Possible sighting of a twinkling star, perhaps Sirius?? PD))\",1/29/2016'],\n",
       "  ['1/28/16 00:30,Concord,OH,Flash,30 minutes,\"Distant stationary object in SE sky, with flashing red and green lights. ((NUFORC Note: Probably Sirius, we suspect. PD))\",1/29/2016'],\n",
       "  ['1/27/16 20:45,Arden,NC,Triangle,5 minutes,I witnessed one loud triangle shaped aircraft flying very low over my home. Less than 5 minutes later another one came through. I did,1/29/2016'],\n",
       "  ['1/27/16 20:15,Phoenix,AZ,Light,10-15 minutes,6 bright red lights ascending form horizon in the western sky.,1/29/2016'],\n",
       "  ['1/27/16 19:30,Keaau,HI,Circle,3 minutes,Horizontal flying bright white lite that turns bright red and disappears.,1/29/2016'],\n",
       "  ['1/27/16 18:07,Camdenton,MO,Cone,3+ hours,Brightly lit cone shaped object remained hours in same location making no sound. ((NUFORC Note: Sighting of Sirius?? PD)),1/29/2016'],\n",
       "  ['1/27/16 18:00,St. Louis,MO,Light,2 seconds,\"Bright ball coming from large star. ((NUFORC Note: We suspect the object may have been a \"\"twinkling\"\" star. PD))\",1/29/2016'],\n",
       "  [\"1/27/16 17:33,Florence,CO,Circle,5 seconds,Yellow/orange sphere hovering 20' off the ground above a neighbors yard.,4/1/2016\"],\n",
       "  ['1/27/16 13:38,Ocean & Monmouth Counties,NJ,,10 seconds,We heard and felt what was like an earthquake throughout Southern New Jersey. ((NUFORC Note: Possible sonic booms from a/c? PD)),1/29/2016'],\n",
       "  ['1/27/16 08:00,East Aurora,NY,Other,10 seconds,\"Branch type stick hovered erratically, moved sideways in lateral position then disappeared into clouds.\",1/29/2016'],\n",
       "  ['1/27/16 06:00,Mumbai (India),,Chevron,1 second,Unknown object clicked along with ISS.,1/29/2016'],\n",
       "  ['1/27/16 03:00,Falmouth,MA,Light,30 minutes,\"At 3am, noticed this strange light, which looks like a bright star. My BR window looks due E. ((NUFORC Note: Planet? Planet? PD))\",2/4/2016'],\n",
       "  ['1/26/16 22:10,Rohnert Park,CA,Circle,10-15 minutes,\"Cigar-shaped UFO seen flying low to ground, and flashing, in Rohnert Park.\",1/29/2016'],\n",
       "  ['1/26/16 20:30,Buckeye,AZ,Light,30 minutes,\"Two large bright flickering amber lights seen in the southwest sky of Buckeye, AZ.\",1/29/2016'],\n",
       "  [\"1/26/16 12:40,Route 66 West (Exit 50),VA,Flash,5 seconds,It was super fast. Idk what it was to be honest but It really freaked me out. I know it wasn't a shooting star cause it was a lot bigge,1/29/2016\"],\n",
       "  ['1/26/16 12:25,Moncks Corner,SC,Other,~2 seconds,\"We, my husband & myself, heard a very loud, hard, noise and it seemed to impact the front of the roof over the kitchen and the porch.\",1/29/2016'],\n",
       "  ['1/26/16 07:05,Queen Creek,AZ,Light,A few seconds,\"3 of us were looking at Venus and Jupiter in the early a.m. sky, when we noticed a large ball of light about the brightness of Venus.\",1/29/2016'],\n",
       "  [\"1/26/16 01:26,Denver,CO,Unknown,Ongoing,Is anyone else seeing this now?? I'm downtown Denver and I'm looking W above the mountains. Really high up there are lights pulsating.,1/29/2016\"],\n",
       "  ['1/25/16 21:00,Seneca,KS,Diamond,1 hour,\"Star in the sky that moved. An airplane would move in a straight line. ((NUFORC Note: Sighting of star, we believe. PD))\",2/4/2016'],\n",
       "  ['1/25/16 20:20,New Braunfels,TX,Light,7 minutes,On my porch facing southwest I saw an orange light in the sky about 7 to 10 miles out over the horizon headed east. I thought it was a,1/29/2016'],\n",
       "  ['1/25/16 20:14,Manchester,CT,Disk,1 minute,I looked up and seen what I thought at first was a plane but when I realized that it was not.,1/29/2016'],\n",
       "  ['1/25/16 19:28,Windsor (Canada),NS,Light,Continous,Flashing lights of mulitiple colors in sky. Not moving and flashes not consistant. ((NUFORC Note: Twinkling star? PD)),1/29/2016'],\n",
       "  ['1/25/16 19:00,Boynton Beach,FL,Rectangle,7 minutes,\"We were (my husband was driving and I was the passenger) traveling north on Congress Ave., Boynton Beach\",1/29/2016'],\n",
       "  ['1/25/16 18:35,Columbia,SC,Sphere,2-3 minutes,\"BRIGHT light, east-facing, above I-20W\",1/29/2016'],\n",
       "  ['1/25/16 14:15,Salem,NM,Rectangle,10 minutes,\"Massive square shaped lights forming 2 lines in the sky over Hatch, NM.\",1/29/2016'],\n",
       "  ['1/25/16 11:00,Salem,OR,Oval,~4 minutes,\"White oval object, hovering very smooth.\",1/29/2016'],\n",
       "  ['1/25/16 05:45,San Diego,CA,Sphere,30 seconds,Steady light traveling at a high velocity across the southern dark morning sky.,1/29/2016'],\n",
       "  ['1/25/16 01:11,Ten Mile to Knox,TN,Formation,Seconds,\"Lights in Knox no noise. ten mile, triangler shape, it was black, red spot underneath it, three stories high off ground off 305. again\",1/29/2016'],\n",
       "  ['1/24/16 23:45,Whitestone,NY,Light,3 minutes,Bright light.,1/29/2016'],\n",
       "  ['1/24/16 23:35,Auburn,WA,Light,4 minutes,Green bright light. Fast and slow. Circular patterns. Part force field around it. ((NUFORC Note: Laser advertising light?? PD)),1/29/2016'],\n",
       "  ['1/24/16 23:00,Lake Elsinore,CA,Unknown,5 minutes,\"Craft about the size of a 747, flying less than 1000 feet off the ground, hovering over a small hill near the 15 freeway.\",1/29/2016'],\n",
       "  ['1/24/16 22:30,Four Oaks,NC,Light,10 minutes,\"Strange yellow lights near Garner, NC.\",1/29/2016'],\n",
       "  ['1/24/16 21:30,Lakveville,MN,Fireball,2 minutes,Two orange glows in the sky going fast an low with absolutly no sound of jet engines or rotor blades.,1/29/2016'],\n",
       "  ['1/24/16 19:45,Henderson,NV,Fireball,2-3 minutes,\"Two orangish glowing orbs silent, extreme acceleration and speed.\",1/29/2016'],\n",
       "  ['1/24/16 18:45,Huntingdon,TN,Formation,2 minutes,\"There were three reddish orange lights, then a fourth light came up and joined the first three then all four disappeared.\",1/29/2016'],\n",
       "  ['1/24/16 18:43,Montevallo,AL,Light,45 seconds,\"We were heading towards W, when I look into the sky and saw at first one light that seemed between yellow & orange.\",1/29/2016'],\n",
       "  ['1/24/16 18:10,Virginia Beach,VA,Unknown,15 minutes,Walked outside & the object caught my attention. I live behind Oceana Air Base (US Government owned). ((NUFORC Note: Sirius? PD)),1/29/2016'],\n",
       "  ['1/24/16 18:00,Loveland,CO,Formation,15 minutes,My husband called me and told me that there where lights over the mountains towards the west and I looked and saw quite a few like 5 bu,1/29/2016'],\n",
       "  ['1/24/16 18:00,Douglas,GA,Cross,~2 minutes,I work for circus pages and after our last show I was loading the animals and I looked up for some reason and thought I saw a helicopte,1/29/2016'],\n",
       "  ['1/24/16 17:40,Sterling,IL,Light,5 minutes,20 pulsing orange orbs fly a few miles before disappearing.,1/29/2016'],\n",
       "  ['1/24/16 16:49,Bolton,NY,Changing,05-07 minutes,\"Object over Lake George, NY observed by commercial aircraft\",2/4/2016'],\n",
       "  [\"1/24/16 04:30,Reno,NV,Circle,75 minutes,4-5 UFO's (orange lights) circled around a bobbling circular UFO mothership (white light with a red light on the top or rear),2/11/2016\"],\n",
       "  ['1/24/16 02:41,Ridgecrest,CA,Sphere,5 minutes,Orange Orb With Odd Flight-path In Sky.,1/29/2016'],\n",
       "  ['1/24/16 01:00,Damascus,MD,Light,>30 minutes,\"When getting ready for bed, I noticed an object moving across the sky. It was emitting a red and blue-green light.\",1/29/2016'],\n",
       "  ['1/23/16 23:45,Azusa,CA,Triangle,1 minute,\"8 bright yellow red and orange triangular objects. One was blinking, then they disappeared.\",1/29/2016'],\n",
       "  ['1/23/16 22:30,Council Grove,KS,Light,1 minute,\"Red orange light hovered in the sky in front of my car, then disappeared.\",1/29/2016'],\n",
       "  ['1/23/16 21:20,Long Beach,CA,Circle,5 minutes,\"Large bright orange circle, rapidly ascending from sea level straight up in to the stars.\",1/29/2016'],\n",
       "  ['1/23/16 20:23,Quartzsite,AZ,Changing,30 minutes,UFO changes from red to green to white then projects a beam to the ground that also changes color.,1/29/2016'],\n",
       "  ['1/23/16 20:15,Huntington,TX,Light,5-8 minutes,Seven orange lights moving slowly at low altitude beside highway.,1/29/2016'],\n",
       "  ['1/23/16 19:45,Santa Fe,NM,Flash,5 seconds,\"Green-blue, thick, falling star-like flash.\",1/29/2016'],\n",
       "  ['1/23/16 19:07,Concord,CA,Sphere,2 minutes,\"Ball shaped object with green glow in sky near full moon. ((NUFORC Note: Lens flares, caused by photographing the Moon. PD))\",1/29/2016'],\n",
       "  ['1/23/16 18:45,Spring,TX,Fireball,15:00,Orange lights from Northeast to Southwest.,1/29/2016'],\n",
       "  ['1/23/16 18:25,Franklin,TN,Fireball,3 minutes,\"2 orange balls of light approaching from the W and moving ESE slowly and silently, disappeared one by one as get closer.\",1/29/2016'],\n",
       "  ['1/23/16 18:09,Niles,MI,Other,~4 minutes,I saw a black line crossing the face of the moon. The line covered approx 5% of the visable moon.,1/29/2016'],\n",
       "  ['1/23/16 12:00,Stafford,VA,Triangle,3 minutes,I saw 3 triangluar crafts sit there outside they where then gone when i got to get my phone.,1/29/2016'],\n",
       "  ['1/23/16 10:30,Yuma,AZ,Egg,12 minutes,\"Videoed 2 egg shaped, multi-color pulsing craft near full moon above Yuma.\",1/29/2016'],\n",
       "  ['1/23/16 02:30,Orting,WA,Triangle,5 minutes,The second sighting in my life in the same spot.,1/29/2016'],\n",
       "  ['1/23/16 01:00,Honolulu,HI,,2 seconds,Green-blue streak over nightime ocean.,1/29/2016'],\n",
       "  ['1/23/16 00:00,Pasadena,CA,Cylinder,1 minute,Series of 4 white lights appeared to be part of a single craft hovered almost 1 minute over eastern Pasadena at about 2000 ft.,1/23/2016'],\n",
       "  ['1/22/16 23:55,Tacoma,WA,Other,15 seconds,Flaming silent object near joint military base JBLM in south Tacoma.,1/23/2016'],\n",
       "  ['1/22/16 21:45,Salt Lake City,UT,Light,10 minutes,Four fast moving lights moving east to west across the sky for 10 minutes before fading away.,1/23/2016'],\n",
       "  ['1/22/16 20:00,Appleton,WI,Light,10 seconds,Ball of light in the sky was falling to the ground.,1/23/2016'],\n",
       "  ['1/22/16 19:00,Hoquiam,WA,Fireball,15 minutes,7 fireball UFO crafts pass over Hoquiam.,1/23/2016'],\n",
       "  ['1/22/16 12:00,Antinito,CO,Cylinder,,Object discovered in picture.,2/4/2016'],\n",
       "  ['1/22/16 05:48,Middle Village,NY,Other,2 minutes,Bright object arched path across dark sky.,1/23/2016'],\n",
       "  ['1/22/16 04:55,Centreville,VA,Disk,5 minutes,My daughter and I looked out the window and saw a mysterious flying object. It is grayish in color.,1/23/2016'],\n",
       "  ['1/21/16 23:30,Burbank,CA,Sphere,1-2 minutes,\"Large bright orange sphere, rapidly descending from NE to W.\",1/23/2016'],\n",
       "  ['1/21/16 22:10,Maywood,CA,Cylinder,ongoing,Flying object moving towards planet.,1/29/2016'],\n",
       "  ['1/21/16 22:00,Phoenix,AZ,Disk,4 minutes,HUGE BLUISH AND PURPLE DISK-LIKE SAUCER HOOVERING ABOVE THE CANYON SKYLINE,1/29/2016'],\n",
       "  ['1/21/16 22:00,Clayton,CA,Circle,5 minutes,Two bright red circular objects. Hovered brightly in one spot and then vanished.,1/23/2016'],\n",
       "  ['1/21/16 22:00,Port Adelaide (South Australia),,Triangle,Minutes,I was driving north on the lefevre peninsula. Just over the birkenhead bridge. I looked up and saw a triangle flying in the same direct,1/23/2016'],\n",
       "  ['1/21/16 21:00,Skokie,IL,Sphere,Still,I notice everyone stopping their car to take pictures of this reddish orange sphere.,1/23/2016'],\n",
       "  ['1/21/16 19:00,Santa Maria,CA,Oval,7 minutes,GLOWING GREEN PULSATING ROUND OBJECT IN SKY TONIGHT.,1/23/2016'],\n",
       "  ['1/21/16 18:24,Durham,NC,Triangle,20 seconds,Triangle craft.,2/4/2016'],\n",
       "  ['1/21/16 11:30,Asheville,NC,Unknown,90 seconds,UFO followed by JETS,2/4/2016'],\n",
       "  ['1/21/16 11:30,Asheville,NC,Unknown,30 seconds,At 11:30 am I witnessed a seemingly round craft flying west to east in the sky directly above me.,1/23/2016'],\n",
       "  ['1/21/16 03:00,North Canton,OH,Fireball,4-6 minutes,\"((HOAX??)) Sound very loud like an engine, shook windows of home. Fireball could be seen in the W sky for @5 min..\",1/23/2016'],\n",
       "  ['1/21/16 02:00,Manassas Park,VA,Disk,20-25 minutes,Saucer move close slowly. Came to rest above neighbors house. Size of city bus. Windows and flashing lights.,1/23/2016'],\n",
       "  ['1/20/16 20:00,Barre Town,VT,Circle,10 seconds,\"3 bright-warm yellow colored solid circles-tear shape (?), dancing in-out of clouds in circular pattern. Lasted 5-10 sec; 2 times over\",1/20/2016'],\n",
       "  ['1/20/16 19:00,Norwich/Thetford,VT,Other,10 minutes,Trio of very bright lights appear then fade,1/23/2016'],\n",
       "  ['1/20/16 19:00,Montpelier,VT,Circle,1-2 minutes,\"Red, twinkling, disappearing and reappearing lights in the sky.\",1/20/2016'],\n",
       "  ['1/20/16 18:12,Levittown,PA,Rectangle,5 minutes,\"Large, low-flying boomerang-shaped object moving very slowly over Levittown, PA, 1/20/16.\",1/23/2016'],\n",
       "  ['1/20/16 17:20,Las Vegas,NV,Changing,10,\"Blinking red, green and blue lights. ((NUFORC Note: Possibly a \"\"twinkling\"\" star?? PD))\",1/29/2016'],\n",
       "  ['1/20/16 06:07,Sunnyside,WA,Unknown,15 minutes still there,Lights just appeared and no movement the disappeared. ((NUFORC Note: Planets in the eastern morning sky? PD)),1/20/2016'],\n",
       "  ['1/19/16 23:00,Millville,NJ,Fireball,2-3 seconds,\"Strange green fireball shooting toward the ground, seen driving on Route 55 south\",1/23/2016'],\n",
       "  ['1/19/16 17:59,Bray (Ireland),,Light,10 seconds,Two bright stationary objects that suddenly appeared and slowly faded while staying in the same position. Duration 10 seconds.,1/20/2016'],\n",
       "  ['1/19/16 10:30,Clio,MI,Circle,30 minutes,\"Was driving down I-75 south, saw extremely right lights to the right of the freeway and it did not move for at least 10 mins.\",1/20/2016'],\n",
       "  ['1/19/16 08:49,Cedar Springs,MI,Unknown,30 seconds,A bright light changed intensity over 30 seconds.,1/20/2016'],\n",
       "  ['1/19/16 06:25,Little Chute,WI,Oval,1 minute,\"Distinct orange oval globes seen twice south of Little Chute, WI on 2 different dates and times in Jan 2016.\",2/4/2016'],\n",
       "  ['1/19/16 05:45,Camby/Indianapolis,IN,Light,60 seconds,6 vertical beams of light in the morning sky.,1/20/2016'],\n",
       "  ['1/19/16 05:30,Foley,MN,Disk,3 hours +,UFO hovering over Sherburne- more than 3 hours. ((NUFORC Note: Possible sighting of 5 planets in eastern a.m. sky? PD)),1/20/2016'],\n",
       "  ['1/19/16 03:00,Ivor,VA,Other,3 hours,Stargazing at 3am... We were not supposed to see this...,1/20/2016'],\n",
       "  ['1/18/16 23:50,Manheim,PA,Light,Few seconds,Bright White Light Moving Slowly Above Buildings Then Arked Sharply Downward,1/20/2016'],\n",
       "  ['1/18/16 23:20,Bakersfield,CA,Fireball,2 minutes,A ball engulfed in flames tumbled through the sky towards the south as I was taking out the trash. I ran inside and got my brother and,1/20/2016'],\n",
       "  ['1/18/16 22:40,Scottsdale,AZ,Light,unknown,Bright white lights and lots of helicopters.,1/20/2016'],\n",
       "  ['1/18/16 20:45,Anchorage,AK,Light,2 seconds,Two separate bright lights within a few seconds of each other.,1/20/2016'],\n",
       "  ['1/18/16 20:45,Goodyear,AZ,Light,2,\"Three in triangle form followed by approximately 12 others, tight formation, quickly disappeared\",1/20/2016'],\n",
       "  ['1/18/16 20:30,Heber City,UT,Formation,3 minutes,Five oranges lights in a formation slowly moving east and fading away.,1/20/2016'],\n",
       "  ['1/18/16 20:00,Fort McMurray (Canada),AB,Other,10-15 minutes,Was walking home from work seen four red circles moving in the sky as if they were weightless me and several people in the community se,1/20/2016'],\n",
       "  ['1/18/16 19:07,Effort,PA,Disk,10 minutes,2 blue/red/white lights saucers hovering near my house.,1/20/2016'],\n",
       "  ['1/18/16 16:00,Hillsboro,ND,Circle,5 minutes,\"7 or 8 bright round, or cylinder shaped, orange balls,moving high across the sky in staggered, but straight line formation. Enter\",1/20/2016'],\n",
       "  ['1/18/16 07:41,Coleman,WI,Other,2 seconds,Bright light with trail heading straight towards ground off in the distance. ((NUFORC Note: Possible meteor?? PD)),1/20/2016'],\n",
       "  ['1/17/16 20:30,New York City (Manhattan),NY,Other,2 minutes,Bright white circular cloud with rotating orbs and metallic light,1/20/2016'],\n",
       "  [\"1/17/16 19:30,Angleton,TX,Light,5 minutes,Me and my wife we're driving from lake Jackson to Angleton on 288 look up and saw a bright lite thought it was a star.,1/20/2016\"],\n",
       "  ['1/17/16 15:00,Ponte Vedra,FL,Formation,5 minutes,10 oblong metallic objects creating formations high in air,1/20/2016'],\n",
       "  ['1/17/16 14:56,Mineola,TX,Other,20 seconds,Extreme altitude object moving at high speed North. Possible near Earth pass by a large asteroid.,2/4/2016'],\n",
       "  ['1/17/16 11:47,Joppatown,MD,Other,1 minutes,ISS live feed images.,2/26/2016'],\n",
       "  ['1/17/16 11:00,San Francisco,CA,Triangle,,A photo showing what appears to be a flying object above a ship in San Francisco.,1/20/2016'],\n",
       "  ['1/17/16 04:15,Accord,NY,Triangle,2 minutes,Three gold/white lights - either an individual craft of three separate in tight formation - silentlymoving at slow speed - traveling S-,1/20/2016'],\n",
       "  ['1/16/16 23:30,Trou-Aux Biches (Mauritius),,Circle,5 minutes,Perfect circle cloud.,1/20/2016'],\n",
       "  ['1/16/16 22:00,Amery/Star Prairie,WI,Other,,\"Saw big white lights, scattered 100 miles appart, sparks off of the light, looked like it bouned on the atmosphere but under clouds.\",1/23/2016'],\n",
       "  ['1/16/16 21:12,Neskowin,OR,Oval,10 seconds,\"The misty, illuminated oval traveled from the East losing altitude until it disappeared into the ocean.\",1/20/2016'],\n",
       "  ['1/16/16 21:00,Bend,OR,Chevron,5 minutes,We were driving East on Cooley Road and saw an extremely bright white light in the distance. This light flew parallel of us until we tu,1/20/2016'],\n",
       "  ['1/16/16 19:54,Woodside,NY,Oval,10 minutes,\"We saw a large, oval bright blue light in the sky that stayed for about 10 minutes. ((NUFORC Note: Advertising lights. PD))\",1/20/2016'],\n",
       "  ['1/16/16 19:54,Woodside,NY,Oval,10 minutes,An enormous purple/indigo oval shaped light seen peering through the clouds. ((NUFORC Note: Advertising lights. PD)),1/20/2016'],\n",
       "  ['1/16/16 19:35,Mill Spring,NC,Cigar,5 minutes,Slim object with band of flickering lights seen hovering above nearby mountain peak - making unbelievable erratic maneuvers.,1/20/2016'],\n",
       "  ['1/16/16 19:30,Sacramento,CA,Circle,5 minutes,Flying object with red flames shooting from top,1/20/2016'],\n",
       "  ['1/16/16 19:00,Greensburg,PA,Other,3 minutes,Lantern-shaped lights in the sky.,1/20/2016'],\n",
       "  ['1/16/16 18:30,Denvile,NJ,Circle,4 seconds,Driving along route 10 near tabor road in morrisplains and saw two white lights with a red light at the center,1/20/2016'],\n",
       "  ['1/16/16 17:54,Deerfield Beach,FL,Circle,3 minutes,2 dark circles moving parallel in the sky and disappearing abruptly after few minutes,1/20/2016'],\n",
       "  ['1/16/16 16:45,Florham Park,NJ,Disk,,Objects appeared in photo taken at sunset.,1/20/2016'],\n",
       "  ['1/16/16 15:00,Columbia,SC,Disk,20 seconds,Extremely fast bullet shaped craft moving E-W no sound. Veteran observer.,1/20/2016'],\n",
       "  ['1/16/16 03:00,Kawartha Lakes (Canada),ON,,20 minutes,Bright Light followed by pulsating red glow,1/20/2016'],\n",
       "  ['1/16/16 01:00,Roseburg,OR,Fireball,1 minute,\"I was standing on my front deck which faces to the west ,looking south talking to a friend on the phone when 3 orange looking orbs,or s\",1/20/2016'],\n",
       "  ['1/16/16 01:00,Manassas Park,VA,Disk,every night from 01-13-16,\"At times resembles a star. At times resembles cigar shape standing on end, or disk with lights circling the disk. Two of them over Quan\",1/20/2016'],\n",
       "  ['1/15/16 00:00,Scranton,PA,Rectangle,15 minutes,\"((HOAX??)) UFO over Scranton, PA.\",1/20/2016'],\n",
       "  ['1/15/16 23:00,Warren,IL,Circle,5 minutes,Bright star. but with binoculars I saw green lights with < in solid white inside right side of circle.,1/23/2016'],\n",
       "  ['1/15/16 22:30,Morganza,MD,Light,1-3 minutes,((HOAX??)) I happened to look up and stare for a moment at the stars and noticed one the stood out the most.,2/11/2016'],\n",
       "  ['1/15/16 20:30,Austin,TX,Circle,5 minutes,\"2 orange lights and a giant white circle spotted in Austin, TX\",1/20/2016'],\n",
       "  ['1/15/16 20:00,Sherwood Park (Canada),AB,Formation,5 minutes,\"Red lights in sky, flying in formation.\",1/20/2016'],\n",
       "  ['1/15/16 19:15,Liverpool,NY,Light,15-20 minutes,\"Red/orange light moving very slowly above treeline, with no sound.\",1/20/2016'],\n",
       "  ['1/15/16 17:30,Round Rock,TX,Light,5 minutes,\"I was playing with grand kid and lay on ground and looked up and saw them stationary, now one did move quickly but just a short dist..\",1/20/2016'],\n",
       "  ['1/15/16 14:00,Carson City,NV,Unknown,45 seconds,\"I was training horses (4) when they all stopped to look in to the south east sky @about 50 degrees, then a loud blast ( like a air-brak\",1/20/2016'],\n",
       "  ['1/15/16 11:45,Road,TX,Diamond,1 minutes,Diamond in the sky.,1/20/2016'],\n",
       "  ['1/14/16 22:30,Mount Airy,NC,Light,15 seconds,\"((HOAX??)) Blue light over Mount Airy, NC.\",1/20/2016'],\n",
       "  ['1/14/16 22:05,Dayton,TN,Cigar,2-3 seconds,\"I saw a bright green, cigar-shaped object streak across the sky and veer off course.\",1/20/2016'],\n",
       "  ['1/14/16 22:00,Marion,IN,Triangle,1 minutes,Triangle shaped ufo over I-69 Marion exit,1/20/2016'],\n",
       "  ['1/14/16 21:10,Marion,IA,Fireball,3 minutes,\"Burning fireball traveling fast over Marion, Iowa, towards the northeast.\",1/29/2016'],\n",
       "  ['1/14/16 20:00,Conway,SC,Flash,2 seconds,\"Bright blue green orb went across sky , then arced down. The obj. disappeared in the middle of a clear sky with no obstructions.\",1/20/2016'],\n",
       "  [\"1/14/16 19:55,Florence,SC,,2 seconds,Neon light 'dripped' from the sky like a huge droplet.,1/20/2016\"],\n",
       "  ['1/14/16 18:45,I-495 North (driving on),MD,Triangle,10-15 seconds,Triangle UFO over Maryland Highway 495N.,1/20/2016'],\n",
       "  ['1/14/16 18:30,Burbank,OH,Fireball,5 minutes,I saw a rather large fireball in the sky that did not move for around five minutes.,1/20/2016'],\n",
       "  ['1/14/16 18:25,Antioch,IL,Sphere,10 minutes,Seen in the E sky heading N at least 50 or more moving not in a flight path pattern bright red sphere shapes.,1/20/2016'],\n",
       "  ['1/14/16 18:20,Antioch,IL,Sphere,3 minutes,Formation of orange spheres in sky.,1/20/2016'],\n",
       "  ['1/14/16 14:45,Philadelphia,PA,,3.5,\"Flashing red/ green light, circling in sky. NE Philly. ((NUFORC Note: We suspect the time is wrong, but will check. PD))\",1/20/2016'],\n",
       "  ['1/14/16 13:50,Bakersfield,CA,Unknown,5 minutes,Plane trailing behind gray smoke coming from unseen object.,1/20/2016'],\n",
       "  ['1/14/16 13:00,Jerome,AZ,Other,Seconds,\"4 unknown objects in the daytime sky appear in a photo, though they were undetected at the time the photo was taken.\",1/20/2016'],\n",
       "  ['1/14/16 07:20,Bradenton,FL,Other,2-3 minutes,\"Unexplained Sighting Over BRADENTON, FL *January 14th, 2016 7:20 a.m *\",1/29/2016'],\n",
       "  ['1/14/16 06:30,Hendersonville,NC,Light,2.5 hours,\"Very bright object in the sky with faint red light at the top, not a star. ((NUFORC Note: Venus? PD))\",1/14/2016'],\n",
       "  ['1/14/16 06:30,Santa Clarita,CA,Circle,6 hours,Very large UFO chased away with fighter jets numerous times,1/20/2016'],\n",
       "  ['1/14/16 03:15,North Hollywood,CA,Circle,10 seconds,Facing SE from 2nd floor apt. Facing Studio City/Burbank. Glowing turquoise circular light.,1/20/2016'],\n",
       "  ['1/14/16 00:00,\"Curchorem, Savordem (Goa)(India)\",,Disk,7 minutes,It was Just a True Event that I Saw during this Sighting! It was not a Fake Sighting! It was Witnessed by 4 People. It was a True UFO!!,2/26/2016'],\n",
       "  ['1/13/16 23:19,Albuquerque,NM,Oval,4 minutes,We watch a orange light on the E side of town move from L to R. We then saw it drop what looked like a long line.,1/20/2016'],\n",
       "  ['1/13/16 22:15,Cedar Falls,IA,Fireball,10 minutes,Red/Orange sphere seen descending over Cedar Falls/North Cedar.,1/14/2016'],\n",
       "  ['1/13/16 21:50,Seattle,WA,Cigar,2 seconds,\"Cigar shape with wings, the wings were, one on top of the craft the other on the bottom. It looked on fire or all lit up.\",2/4/2016'],\n",
       "  ['1/13/16 21:50,Sutherlin,CA,Fireball,Fireball in sky,I was driving home from work tonight going N and it was very dark and there was light fog. On the right side of the freeway.,1/14/2016'],\n",
       "  ['1/13/16 21:50,Conway,AR,Light,5,Five yellow lights hovering in formation.,1/14/2016'],\n",
       "  ['1/13/16 21:45,Maumelle,AR,Chevron,90 seconds,\"2 large lights descended over the hwy., a row of lights appeared before breaking away in two pieces and reappearing.\",1/20/2016'],\n",
       "  ['1/13/16 20:11,Mecca,CA,Other,Unsure,Very bright just appeared then more appeared out of nowhere.,1/23/2016'],\n",
       "  ['1/13/16 19:00,Albuquerque,NM,Light,10 seconds,2 adjacent yellow orange lights with large space between move across sky before vanishing CLEARLY VISIBLE!,1/14/2016'],\n",
       "  ['1/13/16 18:45,Kamloops (Canada),BC,Unknown,1-2 minutes,\"Massive dome shaped bright brilliant blue light, like a huge welding arc spanning a massive distance on the hor., of crown land.\",1/14/2016'],\n",
       "  [\"1/13/16 18:27,Metairie,LA,Light,3-5 seconds,I was walking on Meadowdale St. by St. Ann's church when I saw a bright white light move in an arc across the sky w/ a dimmer white.,1/14/2016\"],\n",
       "  ['1/13/16 18:05,Longview,MO,Teardrop,2 minutes,Three large red and white lights hovered aand moved slowly until fizzing out slowly within about 5 seconds.,1/14/2016'],\n",
       "  ['1/13/16 16:20,Phoenix,AZ,Other,12,Sighting of small white orbs high over Phoenix.,1/20/2016'],\n",
       "  ['1/13/16 13:00,Woodland Township,NJ,Light,10,\"Bright light with flashing lights hovering over rte 72, lt began following me. Scared tried to get away.\",1/20/2016'],\n",
       "  ['1/13/16 06:30,Winter Park,FL,Rectangle,5 minutes,Wide object (football field plus) with bright white lights and two flashing,1/14/2016'],\n",
       "  ['1/13/16 06:20,Danville,VA,Diamond,30 minutes,\"I turned onto my road from my drive way. As soon as I straightened up, I saw it. I thought what in the heck is that!! I drove several m\",1/14/2016'],\n",
       "  ['1/13/16 04:30,Peoria,AZ,Light,10 seconds,I had gone out for a walk at 3:00am Wednesday 1/13/2016 which is approximately a six mile walk I had turned right back off the street a,1/23/2016'],\n",
       "  ['1/12/16 23:00,Columbus,OH,Triangle,20 seconds,L-shaped lights.,1/14/2016'],\n",
       "  ['1/12/16 22:30,Knoxville,TN,Flash,5 seconds,I was driving to work last night when I saw a flash of light streak across the sky and then disappear. I was heading southwest.,1/14/2016'],\n",
       "  ['1/12/16 22:30,Lafayette (14 mi. E of),LA,Other,~1 minute,Half V-formation lights with plan not far behind.,1/14/2016'],\n",
       "  [\"1/12/16 22:30,Elk Grove Village,IL,Cigar,20 seconds,I was outside with my boyfriend on our back patio. I live right next to airport so I'm used to seeing lots of lights and airplanes and,1/14/2016\"],\n",
       "  ['1/12/16 20:30,Lake Havasu City,AZ,Sphere,3 minutes,\"Bright, moving fast orange sphere over Lake Havasu City.\",1/14/2016'],\n",
       "  ['1/12/16 19:00,Columbia,MS,Triangle,,\"Aunt, sister, and I was traveling home when we notice a colorful flying object in the sky on the opposite side of the hwy..\",1/14/2016'],\n",
       "  ['1/12/16 17:40,Houston,MO,Cigar,15 minutes,\"Two narrow, black cigar shaped objects in the horizon that moved towards each other then away very slowly as if they were frozen.\",1/14/2016'],\n",
       "  ['1/12/16 17:30,Joplin,MO,Cigar,30 minutes,\"Grey cigar-shape, w/ short Chem Trail traveling at high rate of speed northbound over Carl Junction/Joplin Mo area.\",1/14/2016'],\n",
       "  ['1/12/16 14:00,Colorado Springs (east of),CO,Changing,3 minutes,\"Dark, elongated horizontal streak, which changed shape, seen by airline passengers over southern Colorado on January 12, 2016.\",1/20/2016'],\n",
       "  ['1/12/16 07:48,Wichita,KS,Circle,2 minutes,We all looked and saw an airplane leaving a contrail lit up by the rising sun.,1/14/2016'],\n",
       "  ['1/12/16 02:10,Lafayette,CO,Unknown,10 minutes,The sky was pitch black but when looking towards the South/West I saw an object(s) with numerous lights. One of the lights was pulsing,1/14/2016'],\n",
       "  ['1/11/16 22:00,Rifton,NY,Rectangle,3-5 minutes,Saw a rectangular object fireball orange/reddish/yellow approximately 300 feet up moving in a straight path east northeast direction.,1/14/2016'],\n",
       "  ['1/11/16 21:30,Gilbert,AZ,Triangle,On going,Driving in Gilbert. Looking to the west towards south mountain there was three lights equally spaced forming a triangle shape. It was,1/14/2016'],\n",
       "  ['1/11/16 21:00,Biloxi,MS,Teardrop,45 minutes,\"Bright red lights moving slowly, that hovered shortly, no noise, then went straight up and disappeared a minute later.\",1/14/2016'],\n",
       "  ['1/11/16 20:30,Bolton (Canada),ON,Light,30 minutes,Circular changing lights. ((NUFORC Note: Possibly Sirius. PD)),1/14/2016'],\n",
       "  ['1/11/16 20:20,Fountain,CO,Diamond,2 minutes,\"Craft hovers over neighborhood, then moves sideways and disappears.\",1/14/2016'],\n",
       "  ['1/11/16 20:00,Nashville,NC,Light,20 minutes,\"\"\"Helicopter\"\" lights are completely silent while moving very slowly through night sky.\",1/14/2016'],\n",
       "  ['1/11/16 19:50,Ivanhoe,NC,Triangle,10 minutes,\"An object with red flashing lights flying low in front of my house in open blueberry field, and then to the left of my house over small\",1/14/2016'],\n",
       "  ['1/11/16 19:30,Wrightsville,GA,Circle,1-2 hours,Unbelievable lights over Georgia.,1/14/2016'],\n",
       "  ['1/11/16 19:30,Denton,MD,Light,12-15 seconds,Traveling NW there were 4 dim lights perfectly in order side to side. The color was a brownish white light. The craft on the left made,1/14/2016'],\n",
       "  ['1/11/16 19:00,Raleigh,NC,Other,60 seconds,Bright flashing and kept moving fast and faded.,1/14/2016'],\n",
       "  ['1/11/16 18:30,Natchitoches,LA,Light,15-20 minutes,Traveling north on interstate 49 in Louisiana between Nacogdoches Louisiana and Shreveport I witnessed to bluish green objects lights,1/14/2016'],\n",
       "  ['1/11/16 18:18,Kingsburg,CA,Triangle,2 minutes,\"Triangle objects near Kingsburg, CA.\",1/14/2016'],\n",
       "  ['1/11/16 17:03,St. Louis,MO,Fireball,15 minutes,I believe I was abducted for a short period of time. I have a new scar on my armpit.,1/14/2016'],\n",
       "  ['1/11/16 16:30,Snellville,GA,,15 minutes,Two large light in clouds over Atlanta.,1/14/2016'],\n",
       "  ['1/11/16 07:00,Dixmont,ME,Triangle,10 seconds,Similr to the black knight satelite but had triangle wings on top and was silver and red on the lower left side of the barrell shape,1/14/2016'],\n",
       "  ['1/10/16 22:40,Four Oaks,NC,Light,15 minutes,\"Strange yellow lights near Garner, NC\",1/14/2016'],\n",
       "  ['1/10/16 22:30,Ocala,RI,Diamond,2-3 minutes,\"I walk my dogs every night about 10:30 or 11:00. A COUPLE MONTHS AGO i spotted two diamond shaped objects in the West,NorthWest sky.Abo\",2/11/2016'],\n",
       "  ['1/10/16 20:00,Snohomish,WA,Changing,6 hours,This all started on 10 January with 5 strange lights in the sky that changed colors. ((NUFORC Note: Stars?? PD)),2/11/2016'],\n",
       "  ['1/10/16 16:53,Denver,CO,Teardrop,5-10 seconds,Object had a tail and maintained shape and speed.,1/14/2016'],\n",
       "  ['1/10/16 16:00,Cooperstown,NY,Rectangle,5-8 minutes,Slow moving white rectangle with bright amber lights on bottom. Clear blue sky at the time of sighting. Post stormy day.,1/14/2016'],\n",
       "  ['1/9/16 22:00,Hampshire,IL,Light,3 hours,Light was always in the same place and always last 2-3 seconds. Scariest thing was it went from the ground to the sky and was blue.,1/14/2016'],\n",
       "  ['1/9/16 22:00,Rockville,VA,Triangle,15,\"Huge flash to right side of sky, then triangle object appeared after &quot;summoning&quot;?? Please help\",2/4/2016'],\n",
       "  ['1/9/16 21:30,Bainbridge Island,WA,Light,10 minutes,2 glowing redish orbs spotted NW of island.,1/14/2016'],\n",
       "  ['1/9/16 20:00,Corona del Mar,CA,Light,,((HOAX. Contact information is bogus.)) Mysterious bright lights in Pacific Ocean.,1/14/2016'],\n",
       "  ['1/9/16 08:30,Pueblo,CO,Light,2-5 minutes,Two bright red lights that disappeared.,1/14/2016'],\n",
       "  ['1/9/16,Hutchinson,KS,,,Read Hutchinson News Kansas today front page on cattle mutilation happening in area again.,1/14/2016'],\n",
       "  ['1/8/16 23:40,Meridian,ID,Unknown,3 minutes,Rapidly flashing lights.,1/14/2016'],\n",
       "  ['1/8/16 23:00,Issaquah,WA,Oval,30 minutes,\"January 9, 2016. Last night there was a very bright light in the sky over Issaquah. It was a very clear sky.\",1/14/2016'],\n",
       "  ['1/8/16 22:15,Surprise,AZ,Light,,\"5 amber lights floating low in the sky, with 3 in a triangular shape and shifting positions. Lights slowly disappeared one by one.\",1/14/2016'],\n",
       "  ['1/8/16 21:30,Pasadena,TX,Circle,3 seconds,Bright white large ball did not change size and went out of sight. Flew at at a slight arc and disappeared.,1/14/2016'],\n",
       "  ['1/8/16 19:20,Susanville,CA,Light,1-2 minutes,More Russian space-junk?,1/14/2016'],\n",
       "  ['1/8/16 08:10,Royal Oak,MI,Light,5-10 minutes,I saw a white light due south just above the horizon. It looked like a bright white star. It was motionless and it sat stationary in th,1/8/2016'],\n",
       "  ['1/8/16 02:30,Birmingham,AL,Other,1 minute,What is this type of object without lights?,1/14/2016'],\n",
       "  ['1/8/16 02:23,Las Vegas,NV,Light,1 minute,Green blinking light in the sky.,1/8/2016'],\n",
       "  ['1/7/16 21:18,Odessa,TX,Cylinder,1 minutes,Helicopter chasing UFO.,1/8/2016'],\n",
       "  ['1/7/16 20:30,Clanton,AL,Cylinder,20 minutes,Cylinder or Cigar Shaped Object (Vertical) with 3 Orange Lights.,1/14/2016'],\n",
       "  ['1/7/16 20:00,Unity,PA,Fireball,3 minutes,\"Yellowish/orange sphere seen over town of Mutual, PA, near Kecksburg, PA.\",1/14/2016'],\n",
       "  ['1/7/16 17:15,Candler,NC,Sphere,10 minutes,\"Cluster of black spheres seen over Candler, NC.\",1/8/2016'],\n",
       "  [\"1/7/16 16:40,Brodheadsville,PA,Light,12 minutes,Object 'falling' with trails of steam/ice in the sky and shiny object motionless below it.,1/8/2016\"],\n",
       "  ['1/7/16 12:25,New York City (Brooklyn),NY,Oval,1 minute,Object shows up in photo but not to the naked eye.,1/14/2016'],\n",
       "  ['1/7/16 08:45,Honolulu,HI,Light,20,\"((HOAX??)) Objects looked like low descending meteors, until they started dramatically changing paths in various zig-zag formations.\",1/8/2016'],\n",
       "  ['1/7/16 03:00,Greenville,SC,Unknown,<1 second,\"Object appeared to fall straight down through overcast skies, growing brighter green before falling out of sight.\",1/8/2016'],\n",
       "  ['1/6/16 23:16,Jenkins,KY,Formation,5 minutes,Formation Re-Fueling UFO.,1/8/2016'],\n",
       "  ['1/6/16 21:30,Holden,ME,Unknown,2 hours,High altitude object??????,1/8/2016'],\n",
       "  ['1/6/16 21:30,North Vancouver,BC,Disk,15,\"We saw a giant silent floating disc hovering above Deep Cove\\'s marina inlet in North Vancouver, shining very bright lights around.\",1/8/2016'],\n",
       "  ['1/6/16 21:30,North Vancouver (Canada),BC,Disk,1-2 minutes,\"Giant mother ship sighted in Indian Arm-Mount Seymour side, from Deep Cove.\",1/14/2016'],\n",
       "  ['1/6/16 19:30,Scottsdale,AZ,Changing,>1 hour,Three bright lights in a triangle formation low on the horizon; disappearing and reappearing as well as traveling.,1/8/2016'],\n",
       "  ['1/6/16 19:00,Goliad,TX,Circle,2 seconds,\"Orange orb seen in South Tx, heading north\",2/4/2016'],\n",
       "  ['1/6/16 19:00,Bow,NH,Unknown,30 minutes,We were walking the dog.. we stood at the powerlines and watched there would be a pink flash and then one would appear. they were compl,2/4/2016'],\n",
       "  ['1/6/16 18:30,Nashville,TN,Light,1 second,Green light quickly shoots across sky and changes direction before fading.,1/8/2016'],\n",
       "  ['1/6/16 18:00,Vassar,MI,Triangle,5 minutes,\"Silent, hovering craft.\",1/29/2016'],\n",
       "  ['1/6/16 18:00,Albuquerque,NM,Triangle,2 minutes,Last night after dinner me and my girlfriend went outside to smoke a cigarette. Me and my girlfriend are constantly witnessing strange,1/8/2016'],\n",
       "  ['1/6/16 17:30,West Hartford,CT,Light,8 minutes,4 red lights in a line some distance apart flying towards downtown Hartford. Theses lights were very high in the sky. No strobes but a,1/8/2016'],\n",
       "  ['1/6/16 06:30,Oswego,IL,Rectangle,5 minutes,((HOAX??))3 lights.,1/8/2016'],\n",
       "  ['1/6/16 06:00,Hubertus,WI,Light,30 seconds,On my deck pre-dawn (dark) 6am 1/6/2016 observed planet-sized bright light quickly moving overhead and out of line of sight (house),1/8/2016'],\n",
       "  ['1/6/16 05:55,Phenix city,AL,Cone,1 minutes,I was heading to work around 05:50 when I spotted a different looking object in the sky. It looked nothing like an aircraft carrier. I,1/8/2016'],\n",
       "  ['1/6/16 05:50,Arlington/Marysville,WA,Chevron,3-5 minutes,\"As a pilot I recognized these as aircraft landing lights, but they never moved.\",1/14/2016'],\n",
       "  ['1/6/16 05:45,Sarasota,FL,Triangle,15 minutes plus,\"Triangle bright light, hovering low altitude.\",1/14/2016'],\n",
       "  ['1/6/16 04:30,Putnam,CT,,2 hours,Very bright light just under the moon. ((NUFORC Note: Possible planet or star. PD)),1/8/2016'],\n",
       "  ['1/6/16 03:00,Carolina Beach,NC,Other,5:00,Reddish-orange lights sighted at Carolina Beach,1/8/2016'],\n",
       "  ['1/6/16 00:46,Hereford Township,PA,Light,2 hours,\"There are 2 lights hovering just about the tree line. Upon flashing a spot light in the light balls directions, they seemed to approach\",1/8/2016'],\n",
       "  ['1/6/16 00:25,Auburn,WA,Cylinder,25 minutes,Very bright light; looked like a plane and then As we watched it seemed to turn around. ((NUFORC Note: Sighting of Sirius? PD)),1/8/2016'],\n",
       "  ['1/6/16,North Riverside,IL,Unknown,10 seconds,Bee-like flying light like the sun &quot;star color brightness&quot; and size of the moon from my bed!,1/14/2016'],\n",
       "  ['1/5/16 23:15,Eliot,ME,Circle,3 seconds,\"Red light dropped straight in from sky to near horizon, and rapidly changed direction to south east - viewed from central Eliot.\",1/8/2016'],\n",
       "  ['1/5/16 22:40,Philadelphia,PA,Oval,4-5 seconds,\"Dark half oval flying over house, then disappearing into the dark sky.\",1/8/2016'],\n",
       "  ['1/5/16 21:45,Windsor Heights,IA,Chevron,150 seconds,\"5 lights in chevron pattern, very low in the sky (maybe 250ft from ground).\",1/8/2016'],\n",
       "  ['1/5/16 21:35,Las Vegas,NV,Triangle,i don\\'t know,\"Driving on 95S, saw a triangle with an inverted bottom, outlined in chasing white lights. ((NUFORC Note: Former law enforcement. PD))\",1/14/2016'],\n",
       "  ['1/5/16 21:30,State College,PA,Formation,1 minute,Line of 10-15 lights west of State College moving south.,1/8/2016'],\n",
       "  ['1/5/16 21:18,San Diego,CA,Light,5-10 seconds,I was sitting on my front porch when I witnessed two objects flying from south to north at an apparent high rate of speed at about 50-5,1/29/2016'],\n",
       "  ['1/5/16 20:30,Scarborough,ME,Circle,30 minutes,\"Blinking light, white, red, green. Moving up and down. ((NUFORC Note: Sighting of Sirius?? PD))\",1/8/2016'],\n",
       "  ['1/5/16 20:15,Oxford,AL,Triangle,8-10 seconds,\"Triangular shaped UFO spotted on HW 21 heading into Oxford, Alabama, tonight.\",1/8/2016'],\n",
       "  ['1/5/16 20:10,Lake Wylie,SC,Fireball,8 minutes,\"15-20 bright, red-orange lights moving from horizon to horizon over an 8 minute period.\",1/8/2016'],\n",
       "  ['1/5/16 08:00,Chapin,SC,Unknown,5 minutes,My niece and I were on the front balcony she looked up and saw something huge in the sky. I turned around and to my amazement there was,1/8/2016'],\n",
       "  ['1/5/16 03:00,Blue Hill,ME,Light,30 minutes,Bright light with blue strobe hovering over Blue Hill Bay.,1/5/2016'],\n",
       "  ['1/5/16 00:05,Seymour,TN,Changing,1-2 minutes,\"Intense ball of white light that changed shape from a ball to a line, to a pyramid in three minutes observed.\",1/5/2016'],\n",
       "  ['1/5/16 00:00,Jackson,NJ,Light,5-8 hrs. for past 2 p.m.,\"White light in sky south/southeast of Jackson, NJ.\",1/8/2016'],\n",
       "  ['1/5/16 00:00,Maurice River TWP,NJ,,1 second,Two bright flashes of light in clear night sky. Probably 5 seconds apart of one another. The flashes of light strong enough to brighten,1/5/2016'],\n",
       "  ['1/5/16,Lordstown (near; on I-80),OH,Light,3 seconds,\"Travelling W on I-80 near Lordstown, OH, I suddenly saw a very bright light just south of the highway.'],\n",
       "  ['It appears there is a milit\",1/14/2016'],\n",
       "  ['1/4/16 21:20,San Diego,CA,Triangle,10 minutes,\"Driving home from class, looked up, and saw the orangish reddish lights flyung slow and lower than a plane would. Then the three lights\",2/11/2016'],\n",
       "  ['1/4/16 21:00,New Blaine,AR,Triangle,30 seconds,Triangle shape moving slowly north to south at night.,1/5/2016'],\n",
       "  ['1/4/16 20:44,Twin Lake,MI,Oval,Still going,\"Seen it tonight and 2 nights ago. White, green, orange/red lights. Moving up and down, side to side. ((NUFORC Note: Sirius? PD))\",1/5/2016'],\n",
       "  ['1/4/16 20:30,Citrus Heights,CA,Unknown,30 minutes,Colored lights in the sky over Sacramento,1/8/2016'],\n",
       "  ['1/4/16 20:30,Orangevale,CA,Other,30 minutes,\"Pulsing, changing colors, but relatively stationary in the NE sky, at about 30 degrees from horizon.\",1/5/2016'],\n",
       "  ['1/4/16 20:00,Warrensburg,MO,Circle,1 hour,We seen a very bright round light we thought it was a star till we seen blueish flashes. ((NUFORC Note: Sirius?? PD)),1/5/2016'],\n",
       "  ['1/4/16 19:30,Sarasota,FL,Oval,5 minutes,\"Three large red lights hovered over neighborhood in Sarasota, FL\",1/8/2016'],\n",
       "  ['1/4/16 18:30,Kennewick,WA,Triangle,20 minutes,Observed three fireballs in triangular formation. Objects were moving slowly accross sky. NNW heading. Hovered for 3 to five minutes. B,1/8/2016'],\n",
       "  ['1/4/16 18:30,Roberts County,SD,Sphere,5 minutes,Mystery orb which changed direction.,1/5/2016'],\n",
       "  ['1/4/16 17:45,Suffolk,VA,Light,30 minutes,\"Objects over Suffolk, VA, January 4, 2016.\",1/5/2016'],\n",
       "  ['1/4/16 07:05,Des Moines,IA,Formation,<5 seconds,6 bright orange lights in 2 vertical lines of 3.,1/8/2016'],\n",
       "  ['1/4/16 06:30,Fort St. John (Canada),BC,Light,30 seconds,Flash of light a white beem at the end opened a blue starshap opening and vanish,2/19/2016'],\n",
       "  ['1/4/16 03:00,North Shore,HI,Light,10 minutes,USO pipeline surfcam.,1/5/2016'],\n",
       "  ['1/4/16 00:00,Stanardsville,VA,Other,ongoing,\"Dimming \"\"star\"\" moving in a circular pattern. ((NUFORC Note: Sirius. PD))\",1/5/2016'],\n",
       "  ['1/4/16,Burien,WA,Unknown,all night,\"((HOAX??) This a.m. the sky was normal blue, but the sky over Puget Sound to Vashon became dark gray this a.m., then rain mixed snow.\",1/5/2016'],\n",
       "  ['1/3/16 23:00,Woodbury,MN,Triangle,10 seconds,\"Triangular aircraft with blue/pink lights arranged into a triangle at the base, blinking every second, quiet & hovering low in the sky.\",1/8/2016'],\n",
       "  ['1/3/16 22:40,Delray Beach,FL,,,It looked like a plane flying very low I followed it so it pulled back up and the orange lights turned off. I thought my mind was playi,1/5/2016'],\n",
       "  ['1/3/16 21:45,Milford,CT,Fireball,45+ minutes,\"The object was turning colors (white, red, green, blue) and It had lightning-ish tails coming from it.. ((NUFORC Note: Sirius? PD))\",1/5/2016'],\n",
       "  ['1/3/16 21:00,Walpole Island (Canada),ON,Light,30 minutes,One bright light at helicopter height where black triangle showed up last month.,1/5/2016'],\n",
       "  ['1/3/16 20:30,Taylors,SC,Light,15 minutes,\"20 odd orange lights in Taylors, SC.\",1/5/2016'],\n",
       "  ['1/3/16 20:00,Forest Acres,SC,Light,10 minutes,Red light over Columbia.,1/8/2016'],\n",
       "  ['1/3/16 19:20,Broomfield,CO,Formation,1 minute,\"Group of 7 red orbs, moving independently at different altitudes, were seen for 1 minute before they disappeared one-by-one\",1/5/2016'],\n",
       "  ['1/3/16 19:05,Chula Vista,CA,Fireball,2 seconds,Yellow ball of light flies over Chula Vista California.,1/5/2016'],\n",
       "  ['1/3/16 18:15,Santee,CA,Fireball,2 second,\"Wife and I facing N, fluorescent green streak moving E. Appeared low in atmosphere, and larger in diameter than a shooting star.\",1/5/2016'],\n",
       "  ['1/3/16 18:10,Townsville (Australia),,Circle,60 seconds,Object that was round and blue and travelled at the speed of the space station passing over.,1/5/2016'],\n",
       "  ['1/3/16 16:30,Nashville,TN,Changing,~2 minutes,\"White light above highway, changed shape, then disappeared.\",1/29/2016'],\n",
       "  ['1/3/16 06:30,Hagerstown,MD,Unknown,5 minutes,\"At exactly 6:15am, Sunday morning, the third of January,2016, I woke up and looked out of my bedroom window which is at the head of my\",1/8/2016'],\n",
       "  ['1/3/16 03:25,Playa del Carmen (Mexico),,Disk,2 minutes,Bright dish with strong lights hovering over Cozumel Island.,1/5/2016'],\n",
       "  ['1/3/16 01:20,Newtown,CT,Fireball,25 seconds,\"Saw a bright white burning object falling from sky to the ground from my car as I was travelling east on 84 it was \"\"crashing.\"\"\",1/5/2016'],\n",
       "  ['1/3/16 01:15,Southington,CT,Teardrop,2 seconds,White ball surrounded by a green glow falls from the sky and lasts 2 seconds. ((NUFORC Note: Possibly a green meteor?? PD)),1/5/2016'],\n",
       "  ['1/2/16 23:47,Dickinson,ND,Fireball,1 second,\"Fireball, orange then turns green.\",1/5/2016'],\n",
       "  [\"1/2/16 22:00,Gallatin,TN,Triangle,,I came outside to smoke a cigarette around 10pm I was looking at the sky because I've been seeing redish orangish spheres in the sky.,1/5/2016\"],\n",
       "  ['1/2/16 21:35,Black Canyon City,AZ,Light,5 minutes,\"Three orange lights fly south above I-17 towards Phoenix, Arizona.\",5/20/2016'],\n",
       "  ['1/2/16 21:30,Spring Hill,TN,Other,2 minutes,4 objects with red lights in their centers in a kite-like formation seen in Spring Hill TN,1/5/2016'],\n",
       "  ['1/2/16 20:45,Billings,MT,Fireball,3 seconds,I saw a bright neon green fireball with a tail like a comet streak N through the sky toward the Billings Logan International Airport.,1/5/2016'],\n",
       "  ['1/2/16 20:00,Meridian,ID,Light,5 minutes,Orange amber orbs drifting westward.,1/5/2016'],\n",
       "  ['1/2/16 20:00,Aurora,IN,Unknown,75 minutes,\"Approximately 20:00 hrs., SE of my home, was an odd object in the sky. ((NUFORC Note: Sirius?? PD))\",1/5/2016'],\n",
       "  ['1/2/16 19:30,Whitmire,SC,Circle,5 minute,Orange circular lights in a uniformed parade.,1/5/2016'],\n",
       "  ['1/2/16 19:15,Norwich,CT,Triangle,10 minutes,I saw two triangular shaped objects with a glowing aura or haze surrounding them. The corners were rounded.,1/5/2016'],\n",
       "  ['1/2/16 19:15,Phoenix,AZ,Oval,2-3 minutes,\"At about 19:15 hrs. this evening, walking dog, noticed 2 bright red objects in W sky heading W; one was following the other.\",1/5/2016'],\n",
       "  ['1/2/16 19:00,Cornelius,OR,Formation,8 seconds,Red lights (non-flashing) in line (no sound) high rate of speed 7-8 PM heading North bound Cornelius Oregon.,1/5/2016'],\n",
       "  ['1/2/16 19:00,Whitecourt (Canada),AB,Flash,,\"Quick, bright flash in the sky.\",1/5/2016'],\n",
       "  ['1/2/16 17:00,Pound Ridge,NY,Triangle,30 seconds,\"Dark gray triangular object spotted very close, saw it clear as day.\",1/5/2016'],\n",
       "  ['1/2/16 16:40,Langhorne,PA,Unknown,8 minutes,Five yellow flying objects with tails.,1/5/2016'],\n",
       "  ['1/2/16 16:30,Annapolis,MD,Disk,15 minutes,Bright objects witnessed in the western sky near Annapolis.,1/5/2016'],\n",
       "  ['1/2/16 16:00,Scarborough,ME,Circle,,Circular. Not moving. Bright. I have a picture.,1/5/2016'],\n",
       "  ['1/2/16 14:10,Albuquerque,NM,Formation,7 minutes,Multiple blue metallic lights heading east in formation witnessed in clear weather.,1/5/2016'],\n",
       "  ['1/2/16 05:30,Hollywood,FL,Circle,>1 hour,It was completely stationary and shaped like a ring. We looked at it through binoculars. It had four lights side by side.,1/5/2016'],\n",
       "  ['1/2/16 04:00,Tempe,AZ,Changing,3 hours,Mothership UFO in Tempe probed by airforce helicopters and jets. Very strange sighting.,1/5/2016'],\n",
       "  ['1/2/16 03:00,Imperial Beach,CA,Fireball,20 minutes,Two fireballs side by side.,1/5/2016'],\n",
       "  ['1/2/16 02:20,St. Paul,MN,Light,10+ minutes,Blinking white and red star-like object in sky.,1/5/2016'],\n",
       "  ['1/1/16 23:32,Branchland,WV,Sphere,10 minutes,Saw three white orbs while camping. Moving at high speeds and doing 90 degree turns.,1/5/2016'],\n",
       "  ['1/1/16 21:00,French Creek,WV,Other,Extended,Huge object with multiple multicolored lights.,1/5/2016'],\n",
       "  ['1/1/16 20:30,Salt Lake City,UT,Circle,10 minutes,10 glowing orbs in western sky.,1/5/2016'],\n",
       "  ['1/1/16 20:30,Colville,WA,Circle,1 hour,At ~8:30 pm I went out and turned off the yard light. I noticed a light that blinked different colors. ((NUFORC Note: Sirius? PD)),1/5/2016'],\n",
       "  ['1/1/16 20:00,Aptos,CA,Triangle,2 minutes,Driving northbound on Highway 1 coming through aptos. Noticed three bright orange/yellow lights in the sky. They formed the shape of a,1/5/2016'],\n",
       "  ['1/1/16 19:45,Fuquay Varina,NC,Other,3 minutes,Rectangular object rise from the field and followed along with my car for 2 miles.,1/5/2016'],\n",
       "  ['1/1/16 18:40,Irmo,SC,Light,Minutes,Two orange lights moving in a vertical formation.,1/5/2016'],\n",
       "  ['1/1/16 17:00,Newburgh,ME,Light,1 minute,Fast moving light in later afternoon sky.,1/5/2016'],\n",
       "  ['1/1/16 14:00,Corinth,KY,Circle,10 seconds,Funny looking plane. ((NUFORC Note: Possibly an a/c reflecting sunlight?? PD)),1/5/2016'],\n",
       "  ['1/1/16 12:10,Amelia Island,FL,Circle,30 seconds,An Orange Circle Object Flying in the Sky at Amelia Island.,2/19/2016'],\n",
       "  ['1/1/16 12:00,Phoenix,AZ,Light,60 seconds,\"White, round, object in sky, zigzag. Phoenix, AZ.\",1/5/2016'],\n",
       "  ['1/1/16 05:30,Medford,NY,Circle,2 minutes,\"Bright orange sphere in sky traveling N to E. Moving slowly, hovering, then again moving slowly and disappeared into eastern sky.\",1/5/2016'],\n",
       "  ['1/1/16 00:38,Fenton,MO,Fireball,3 minutes,Fireball object without sound.,1/5/2016'],\n",
       "  ['1/1/16 00:30,Bremerton,WA,Other,2 minutes,Two red and white cigar shaped craft seen flying at high rate of speed over Bremerton on New Years Day.,1/5/2016'],\n",
       "  ['1/1/16 00:30,Thermopolis,WY,Triangle,30 minutes,One black triangle shaped ufo hovering with flashing different colored lights on all 3 sides of object.,1/14/2016'],\n",
       "  ['1/1/16 00:26,Kennewick,WA,Formation,10 minutes,\"Kennewick residents witness 3 orange lights in formation, with 4 indivdual lights following for several minutes.\",1/5/2016'],\n",
       "  ['1/1/16 00:25,Florence,KY,Light,10 minutes,Several large red moving objects appeared in a constellation pattern moving throughout the sky over a 10 min. duration.,1/5/2016'],\n",
       "  ['1/1/16 00:20,Sacramento,CA,Fireball,2 minutes,I seen along with my fiance an orange fireball covering at about hundred feet and proceeded to get home.,1/5/2016'],\n",
       "  ['1/1/16 00:15,Glendale,AZ,Light,1 hour,Lights and flash in the sky,4/29/2016'],\n",
       "  ['1/1/16 00:15,Joppatowne,MD,Circle,4-5 minutes,\"My dad called me into his room to look at what I thought was fire works due to it be the new year. But instead I saw, at first, three c\",1/5/2016'],\n",
       "  ['1/1/16 00:15,Longmont,CO,Diamond,20,4 or 5 red/orange lights moving W. One went down closer to the ground. Moved west. No sound.,1/5/2016'],\n",
       "  [\"1/1/16 00:15,Las Vegas,NV,Other,20 minutes,Red orbs after the New Year's eve celebration. Flying over the Las Vegas Valley.,1/5/2016\"],\n",
       "  ['1/1/16 00:15,Sacramento,CA,Fireball,10 seconds,Missiles or flares seen on New Year.,1/5/2016'],\n",
       "  ['1/1/16 00:12,Malabar,FL,Oval,25 minutes,Eight orange orbs flew over my house minutes apart in the same pattern with three witness.,1/5/2016'],\n",
       "  ['1/1/16 00:11,London (UK/England),,Disk,3 seconds,https://www.youtube.com/watch?v=bmZ2bpJKXUI 11 minutes 8 seconds London Fireworks show… ((NUFORC Note: Pigeons? PD)),2/4/2016'],\n",
       "  ['1/1/16 00:10,Bayville,NJ,Light,1 - 1:30 minutes,Orange lights.,1/14/2016'],\n",
       "  ['1/1/16 00:05,Titusville,FL,Sphere,15 minutes,1 Jan 2016 12:05AM Observed three red-orange spherical objects traveling in a line from SW to TE over the northern end of Brevard Coun,1/5/2016'],\n",
       "  ['1/1/16 00:05,Las Vegas,NV,Light,15 minutes,My wife and I witnessed 3 bright red objects that rose one behind the other shortly after midnight.,1/5/2016'],\n",
       "  ['1/1/16 00:05,Matthews,NC,Triangle,3-5 minutes,\"Pyramid formation lights above Matthews, NC.\",1/5/2016'],\n",
       "  ['1/1/16 00:04,Richland,WA,Circle,15 minutes,\"Multiple craft, long duration event.\",1/5/2016'],\n",
       "  ['1/1/16 00:03,Bangkok (Thailand),,Light,continuous,\"Bright, stationary object in orbit above Bangkok, Thailand, on New Year\\'s day. ((NUFORC Note: Planet near Moon? PD))\",1/5/2016'],\n",
       "  ['1/1/16 00:02,Satellite Beach,FL,Sphere,10 minutes,\"Around the midnight, my wife and I went out to our porch watch the fireworks. Several single objects with orange haze traveling steady.\",1/14/2016'],\n",
       "  [\"1/1/16 00:01,Crystal City,MO,Light,60 seconds,I observed a orange light hovering over near or fireworks were being displayed I thought maybe that's a drone.,1/5/2016\"],\n",
       "  ['1/1/16 00:00,Covington,WA,Sphere,15 minutes,6 objects low in sky heading north.,1/5/2016'],\n",
       "  ['1/1/16 00:00,Sodaville,OR,Sphere,3 minutes,Two balls of orange light seen above the trees; one split into two!,1/5/2016'],\n",
       "  ['1/1/16 00:00,Arnold,MO,Triangle,10 seconds,Triangle obj. moving W to SE from my position. Three red lights one on each corner. Half a mile in the sky. Moving steady,1/5/2016'],\n",
       "  ['1/1/16 00:00,Hereford Township,PA,Light,5 minutes,\"Red Light balls hovering, splitting, hovering and then vanishing with no change in elevation for 5 minutes.\",1/14/2016'],\n",
       "  ['1/1/16 00:00,Elk Grove,CA,Light,1 minute,6-7 peach-colored craft moving easterly direction. Sacramento area. Midnight 2016 New Years.,1/5/2016'],\n",
       "  ['1/1/16 00:00,Anchorage,AK,Circle,5 minutes,New Years yellow objects.,1/5/2016'],\n",
       "  ['1/1/16,Vernon,CT,Sphere,10 minutes,Red sphere in the sky.,1/5/2016']],\n",
       " [['\\ufeffDate / Time,City,State,Shape,Duration,Summary,Posted'],\n",
       "  ['2/29/16 23:45,Harbor Beach,MI,Light,1 minute,Yellow/white ball of light.,3/4/2016'],\n",
       "  ['2/29/16 23:30,Sebastian,FL,Triangle,20-40 minutes,6 low flying craft with loud engines and 2 white lights on wings and 2 red flashing lights near center,3/4/2016'],\n",
       "  ['2/29/16 23:00,Salunga/Landisville area right by highway 283,PA,Triangle,5-15 minutes,Pennsylvania triangular aircraft sighting.,3/4/2016'],\n",
       "  [\"2/29/16 22:00,York,PA,Triangle,30 minutes,Myself and 2 friends of mine were driving to the store and noticed a small string of connected lights and didn't think much of it. I su,3/4/2016\"],\n",
       "  ['2/29/16 21:35,Joliet,IL,Unknown,10 minutes,At approximately 21:35 we heard a very loud noise coming from the sky. It sound like a very loud jet plane.,3/4/2016'],\n",
       "  ['2/29/16 21:00,London (Buckinghamshire)(UK/England),,Triangle,45 minutes,\"Black triangle, no noise, impossible mobility for its size, sighting lasted 45 minutes.\",4/1/2016'],\n",
       "  ['2/29/16 20:45,Port Hope (Canada),ON,Light,20 minutes,\"Strange glowing lights, approximately 4, moving in circular motion through the clouds lighting up behind the clouds.\",3/4/2016'],\n",
       "  ['2/29/16 20:29,Warner Robins,GA,Fireball,2 minutes,There were several (8 or 9) glowing orange balls of light moving north north-east.,3/4/2016'],\n",
       "  ['2/29/16 19:50,Athens,GA,Other,Few seconds,Object with a line of white lights moving slowly and close to the ground.,3/4/2016'],\n",
       "  ['2/29/16 19:30,Clinton,MO,Unknown,20 minutes,Orange low level lights appearing and disappearing in an irregular manner repeatedly.,3/4/2016'],\n",
       "  ['2/29/16 19:20,Stover,MO,Formation,5 minutes,\"At least 6 orange orbs appeared and disappeared S-SE of Stover, MO.\",3/4/2016'],\n",
       "  ['2/29/16 19:20,Chandler,AZ,Triangle,10 minutes,\"Flashing red/orange light looking like it was on fire in the sky near Warner & Dobson Rds in Chandler, Az then disappeared!!!\",3/4/2016'],\n",
       "  ['2/29/16 19:00,Sarasota,FL,Circle,4 minutes,\"Two bright orange orbs were moving west to east, one behind the other. They seemed to have a \"\"gassy\"\" look and sparks were falling.\",3/4/2016'],\n",
       "  ['2/29/16 18:45,\"Bolivar, Hermitage, and Urbana\",MO,Light,45 minutes,\"I was driving N from Bolivar, MO, to Hermitage Mo and then to Urbana at approx. 6:45 I noticed a bright light in the northern sky the\",3/4/2016'],\n",
       "  ['2/29/16 18:30,LaMonte,MO,,40 minutes,((HOAX??)) Bright red horizontal balls of light.,3/4/2016'],\n",
       "  ['2/29/16 18:20,Edwards,CA,Chevron,30 seconds,\"Line of numerous lights moving in unison toward the W, disappearing and reappearing, multiple witnesses. Possibly a single object.\",3/4/2016'],\n",
       "  ['2/29/16 18:15,San Antonio,TX,Cigar,3 minutes,Metallic cigar shaped objects. Changed to round or were pulling away upwards.,3/4/2016'],\n",
       "  ['2/29/16 18:09,Mojave,CA,Circle,~2 minutes,Line of lights high above the Mojave Desert near Mojave.,3/4/2016'],\n",
       "  ['2/29/16 18:00,Parker,CO,Light,3 hours,\"Lights flickered in the sky, eventually surrounding one larger, brighter light.\",3/4/2016'],\n",
       "  ['2/29/16 17:45,Ridgecrest,CA,Cigar,7 seconds,\"Multiple lights in the sky, burnout.\",3/4/2016'],\n",
       "  ['2/29/16 17:28,Worcester,MA,Changing,2:02,Day time morphing ufo. From one object to 5 objects !!,4/22/2016'],\n",
       "  [\"2/29/16 09:05,Cherryville,NC,Unknown,30 minutes,Loud horn-like noise for thirty minutes every few minutes - didn't notice a pattern.,3/4/2016\"],\n",
       "  ['2/29/16 01:46,Alpharetta,GA,Light,10 seconds,\"2 lights flying with abnormal way, similar to an insect\",3/4/2016'],\n",
       "  ['2/29/16 01:00,Phoenix,AZ,Circle,2 hours,\"UFO sighting over Phoenix, AZ 02/29/16\",3/4/2016'],\n",
       "  ['2/29/16 00:00,Thornton,CO,Fireball,2 minutes,2 orange fireballs traveling together.,3/4/2016'],\n",
       "  ['2/28/16 23:30,Lapeer,MI,Unknown,3 seconds/2 seconds,\"((HOAX??)) Bright turquoise light in the sky over Lapeer, MI.\",3/4/2016'],\n",
       "  ['2/28/16 22:35,Marshfield,MO,Triangle,10 minutes,\"The craft was close enough we could see it perfectly, it was a triangle craft, low flying and completely silent.\",3/4/2016'],\n",
       "  ['2/28/16 22:30,Tannersville,PA,Circle,2 seconds,Bright ball of light shooting past us.,3/4/2016'],\n",
       "  ['2/28/16 22:30,Tannersville,PA,Circle,Few seconds,Blue/white orb spotted at a very low altitude moving in a linear fashion at a medium-high speed.,3/4/2016'],\n",
       "  ['2/28/16 21:30,Centreville,VA,Triangle,10 seconds,V-shaped UFO flew by directly overhead fast and silently.,3/4/2016'],\n",
       "  ['2/28/16 21:00,Rosiclare,IL,Triangle,5 minutes,\"7 \"\"satellite\"\" objects within five minutes? ((NUFORC Note: Possible sightings of satellites?? PD))\",3/4/2016'],\n",
       "  ['2/28/16 20:55,Suffern,NY,Chevron,on-going,\"Many hovering, quiet aircraft over Rockland Co (NY) & Bergen County (NJ).\",3/4/2016'],\n",
       "  ['2/28/16 20:30,DuBois,PA,Light,1 minute,\"Increase from soft light to a bright glow, 90 degree movement.\",3/4/2016'],\n",
       "  ['2/28/16 20:05,Chula Vista,CA,Unknown,5,((HOAX??)) Lights that moved abnormaly.,3/4/2016'],\n",
       "  ['2/28/16 20:01,Bandon,OR,Oval,2.5 hours,\"Bright white hovering oval light with spires shooting out from it. Looks like a star, but doesn\\'t twinkle. Isn\\'t a planet.\",3/4/2016'],\n",
       "  ['2/28/16 19:30,Pray/Livingston (between),MT,Cigar,1 minute,\"40 foot long Cigar shaped object with 2 beaming lights transitioning from white to green, very bright, moving in an unidentified motion\",3/4/2016'],\n",
       "  ['2/28/16 19:00,Colorado Springs,CO,Circle,45 seconds,Read full report.,3/4/2016'],\n",
       "  ['2/28/16 18:45,New York City,NY,Light,2 minutes,Two bright stationary lights seen in the sky. ((NUFORC Note: Possible landing lights on approaching airliners?? PD)),3/4/2016'],\n",
       "  ['2/28/16 17:18,Pittstown,NJ,Triangle,45 seconds,\"Diamond shaped shiny reflective ufo sighted in Hunterdon County, NJ.\",3/4/2016'],\n",
       "  ['2/28/16 16:30,Goose Creek,SC,Cylinder,3,It was moving northwest slow about 5000 feet off ground then stopped and started moving south. We turned around to slap a picture.,3/4/2016'],\n",
       "  ['2/28/16 15:00,Levene,AZ,Triangle,25 minutes,\"White, shiny triangles.\",3/4/2016'],\n",
       "  ['2/28/16 15:00,Charlotte (outside of; I-485),NC,Other,5 minutes+,Daytime sighting of Boeing 737s suspended motionless in air over 485 outside Charlotte.,3/4/2016'],\n",
       "  ['2/28/16 06:59,Rubidoux,CA,Light,20 minutes,Bright blue ufo and major power outage in my town.,3/4/2016'],\n",
       "  ['2/28/16 05:20,Ivy Bluff,TN,Light,4 minutes,\"Very large, bright & slowly flashing object moving across the western horizon heading south!\",3/4/2016'],\n",
       "  ['2/28/16 05:00,Washington,PA,Light,90 minutes,I saw a bright light in the sky that was brighter then the north star so I filmed it and it started moving in every direction and expan,3/4/2016'],\n",
       "  ['2/28/16 03:48,Westminster,CO,Chevron,3-4 seconds,Three white lights in chevron formation shoot across sky and then vanish.,3/4/2016'],\n",
       "  ['2/28/16 01:00,Osceola,IN,Rectangle,30 minutes,\"((HOAX??)) While I was outside, I observed an Orb flying low zipping around like it was filming the area.\",3/4/2016'],\n",
       "  ['2/27/16 22:37,Eastham,MA,Sphere,30 minutes,\"Multiple \"\"bulbs\"\" traveling from sea shelf Coast Guard to Bayside.\",3/4/2016'],\n",
       "  ['2/27/16 21:45,Farmington,MO,Changing,1 minute,\"Large rod ufo moving toward St. Louis, Missouri, from Farmingtom, Missouri.\",3/4/2016'],\n",
       "  ['2/27/16 21:20,Erlanger,KY,Triangle,5 minutes,Red triangular shape bouncing and hovering in the sky.,3/4/2016'],\n",
       "  ['2/27/16 21:15,Faribault,MN,,~3 hours,12+ UFOS Observed by Single Witness.,5/6/2016'],\n",
       "  ['2/27/16 20:05,Fort Collins,CO,Other,2 minutes,Dark red object flies fast in weird directions over night sky.,3/4/2016'],\n",
       "  ['2/27/16 20:00,Holiday,FL,Fireball,45-60 seconds,\"My stepfather saw them first as he was driving home, he called my mother and I out once he drove up and toward the south west from our\",3/4/2016'],\n",
       "  ['2/27/16 20:00,Sioux City,IA,Formation,10 seconds,My husband and I were grilling when I saw a boomerang shaped object that was translucent and very dimly lit in a peachy/pink color. It,3/4/2016'],\n",
       "  ['2/27/16 20:00,Plam Bay,FL,Sphere,5 minutes,Orange glowing lights over Palm Bay.,3/4/2016'],\n",
       "  ['2/27/16 17:35,Bethesda,MD,,1 second,\"I was sitting by the window when suddenly there was a bright flash and a loud \"\"BOOM.\"\" At first I was afraid NIH had been bombed.\",3/4/2016'],\n",
       "  ['2/27/16 15:30,Delray Beach,FL,Cigar,45 minutes,\"Bright, rectangular shaped object over the Atlantic Ocean, in Delray Beach, FL.\",3/11/2016'],\n",
       "  ['2/27/16 06:00,Creede,CO,Sphere,2 minutes,\"Two spheres, bright as Jupiter, then faded after several minutes.\",3/4/2016'],\n",
       "  ['2/27/16 01:00,Dillsburg,PA,Light,3 minutes,\"3 motionless, bright lights in the sky for about 3 minutes, then very quickly moved out of view.\",3/4/2016'],\n",
       "  ['2/27/16 00:25,South Jordan,UT,Unknown,5 minutes,Red flashing lights in circular motion flying fast!,3/4/2016'],\n",
       "  ['2/26/16 23:30,Nogales,,Sphere,45 seconds,\"Spotted the objects moving slow on the W near Nogales, AZ; 5-10 objects moving N to S. 10-25 more appear!\",3/4/2016'],\n",
       "  ['2/26/16 21:22,Poland,ME,Triangle,15 seconds,Triangle craft moving slowly with a blue light in each point. The front facing point was shining a bright beam of light.,3/4/2016'],\n",
       "  ['2/26/16 20:30,Houston,TX,Triangle,10 seconds,I saw a traingle shaped object in the sky no lights but blended into the darkness like it was moving through water. Lasted few seconds,3/4/2016'],\n",
       "  ['2/26/16 20:20,Cedar Hill/Burnsmill,MO,Cone,Ongoing,\"This \"\"thing\"\" was flashing colors, and every few often the horizon line would glow. ((NUFORC Note: Possibly Sirius? PD))\",3/4/2016'],\n",
       "  ['2/26/16 20:03,Chandler,AZ,Light,3 minutes,Heard a loud helicopter so I knew it was military and I ran outside right after my house began to tremble. Saw a helicopter fly right o,3/4/2016'],\n",
       "  ['2/26/16 19:30,Sacaton,AZ,Disk,30 seconds,\"Was exiting Gila River Reservation, Sacaton. Noticed three lights blinking, just hovering near the desert, east of Interstate 10.\",3/4/2016'],\n",
       "  ['2/26/16 19:20,White Sulphur Springs,MT,Disk,20 minutes,\"S sky bright lights, white, green and red flashing with no movement for 20 min. +. ((NUFORC Note: Possible sighting of Sirius? PD))\",3/4/2016'],\n",
       "  ['2/26/16 15:00,Gainesville,MO,Cylinder,5-8 seconds,\"Was outside walking my cat and seen this object fly over.'],\n",
       "  ['It made no sound, had no wings. Possibly no windows. It was Cylinder shape\",3/4/2016'],\n",
       "  ['2/26/16 13:11,Palm Springs,AZ,Disk,1 second,\"Picture taken, object cannot be explained. No reflection possible we can explain. Have photo to share\",4/1/2016'],\n",
       "  ['2/26/16 09:45,Niceville,FL,Fireball,1 minute,\"4 large fireballs, veritical line, slow moving, and spaced perfectly.\",3/4/2016'],\n",
       "  ['2/26/16 09:06,Chandler,AZ,Light,~2 seconds,Daytime silver streak.,2/26/2016'],\n",
       "  ['2/26/16 05:50,Lower Mount Bethel,PA,Triangle,15 seconds,\"Triangular craft observed in the sky at sunrise, moving west to east, right above the tree line.\",2/26/2016'],\n",
       "  ['2/26/16 01:15,Daimus (Spain),,Triangle,30 seconds,\"2 huge crafts flew over us, then stopped 500 meters away, then took of vertically with high speed. They where as large as oil tankers.\",2/26/2016'],\n",
       "  ['2/26/16 01:10,Brookings,SD,Diamond,10 minutes,Moving star-like object with short red and blue beams coming out of it.,2/26/2016'],\n",
       "  ['2/26/16 00:50,Vancouver (Canada),BC,Disk,1/1 minutes,\"I observed UFO through 15x70 binoculars, so close that I could see black dust on the walls of the \"\"vehicle.\"\"\",3/4/2016'],\n",
       "  ['2/26/16,Lompoc,CA,Light,,Mysterious light activity observed during rocket launch from VAFB,3/4/2016'],\n",
       "  ['2/25/16 22:30,Hamilton,MT,Light,2 minutes,Lights surrounding an airplane with helicopter in pursuit.,2/26/2016'],\n",
       "  ['2/25/16 21:25,Alamogordo,NM,Sphere,5 minutes,\"We saw 2 orange orbs stationary, side by side on the horizon. Within seconds, the first orb disappeared, then the second disappeared.\",2/26/2016'],\n",
       "  ['2/25/16 21:00,Waterflow,NM,Light,~2 minutes,\"Two bright lights disappear over Farmington, NM.\",2/26/2016'],\n",
       "  ['2/25/16 19:00,Johnson Creek (on outskirts of; on Hwy 94 east),WI,Triangle,2 minutes,Triangle shaped ufo clearly seen coming back to Milwaukee from the WIAA state wrestling tournament. Was initially thought to be a helic,3/11/2016'],\n",
       "  ['2/25/16 12:45,Rancho Bernardo,CA,Formation,15 minutes,A formation of objects swirling and changing brightness.,2/26/2016'],\n",
       "  ['2/25/16 04:15,Clements,AL,Circle,5 seconds,White sphere.,2/26/2016'],\n",
       "  ['2/25/16 00:00,Jacksonville,FL,Circle,2 sequential nights,\"((HOAX??)) I stepped outside during night hours and look up to the sky, because I\\'m a skeptic. Started seeing these odd white lights.\",3/4/2016'],\n",
       "  ['2/24/16 20:45,Sodaville,OR,Disk,4-5 minutes,Disc shaped glowing lights tonight with pictures and video!,2/26/2016'],\n",
       "  ['2/24/16 19:25,Copan,OK,Other,5 minutes,\"We were driving back from Dewey, OK; my husband who was sitting passenger said look at that!! There was three bright, orange lights.\",2/26/2016'],\n",
       "  ['2/24/16 19:00,Spokane,WA,Light,10-15 seconds,Bright star like object that crossed sky then went straight up out of sight.,2/26/2016'],\n",
       "  ['2/24/16 19:00,El Dorado,KS,Unknown,10 minutes,\"Three strange disappearing lights outside of Towanda/El Dorado, Kansas.\",2/26/2016'],\n",
       "  ['2/23/16 22:45,Riverside,CA,Light,4 seconds,\"Strange light appears out of thin air and shoots down into earth, but not before disappearing again.\",3/4/2016'],\n",
       "  ['2/23/16 22:00,Dieppe (Canada),NB,Fireball,2 minutes,\"Glowing orange star, or Mars look-alike, floating in sky.\",3/4/2016'],\n",
       "  ['2/23/16 20:00,Meridian,ID,Circle,3 months,First time I saw it I ignored it. Thought it was an airplane or some flickering Star that would go away. But every night now for about,2/26/2016'],\n",
       "  ['2/23/16 18:55,Auburn,WA,Formation,~5 minutes,\"Two formations of bright objects (13 in total) flying from East to West over the Auburn Valley, in WA.\",2/26/2016'],\n",
       "  ['2/23/16 18:50,Auburn,WA,Cylinder,12 minutes,\"They came at first a few together than more in larger groups then smaller scattered groups, last just 3 then 1, all coming from the nor\",2/26/2016'],\n",
       "  ['2/23/16 18:15,Leander,TX,Cigar,2-3 minutes,Cigar-shaped object about the size of an airliner tracking slowly across the sky.,2/26/2016'],\n",
       "  ['2/23/16 16:10,Phalaborwa (South Africa),SK,Cone,5 minutes,\"Strange light over Northern Phalaborwa/Kruger National Park, South Africa.\",3/4/2016'],\n",
       "  ['2/23/16 06:45,Livermore,CA,Cone,10 seconds,Cone shaped several colors falling fast right in front of moon,2/26/2016'],\n",
       "  ['2/22/16 23:50,Ft. Myers,FL,Light,30 seconds,\"Very quick moving yellow/orange light moving away from me below clouds, went over horizon and did not see again\",2/26/2016'],\n",
       "  ['2/22/16 23:45,Warren,MI,Other,45 minutes,Star burst object.,2/26/2016'],\n",
       "  [\"2/22/16 23:35,Fredericksburg,VA,Sphere,3 minutes,This wasn't natural seem to be large slow moving no sound and extremely bright lighting up tree tops.,2/26/2016\"],\n",
       "  ['2/22/16 23:30,Kansas City,KS,Light,1 hour +,\"White/blue light seen southwest of Kansas City, Kansas.\",2/26/2016'],\n",
       "  ['2/22/16 22:00,Binghamton,NY,Circle,20,3 circles of lights with little light clusters in the centers of each. Hovering slowly.,2/26/2016'],\n",
       "  ['2/22/16 22:00,Alamogordo,NM,Sphere,5 minutes,Outside @~ 8:00pm on the E bench of the mountains above the city. We noticed some orange orbs flashing on and off north of the base.,2/26/2016'],\n",
       "  ['2/22/16 21:40,Vancouver,OR,Disk,30 seconds,\"Blue object over Portland, Oregon.\",2/26/2016'],\n",
       "  ['2/22/16 20:00,Mountlake Terrace,WA,Sphere,10 minutes,((HOAX??)) Flying red and orange round lights in sky.,2/26/2016'],\n",
       "  ['2/22/16 19:39,Milford,NH,Unknown,,Arriving home my wife and I saw two purple lights. At first glance I assumed they were planes then one double backed on its self the o,2/26/2016'],\n",
       "  ['2/22/16 19:00,Lebanon,MO,Fireball,90 minutes,\"Several Orange Globe Fireball Lights Low in the Sky, Winking Out and Coming Back In Other Locations.\",2/26/2016'],\n",
       "  ['2/22/16 19:00,Durham,NC,Light,a few minutes,Two green one white light seen over South Square.,2/26/2016'],\n",
       "  ['2/22/16 18:56,Wilkeson,WA,Triangle,2 minutes,\"Triangle shaped craft spotted above Wilkeson, WA.\",3/11/2016'],\n",
       "  ['2/22/16 13:00,Odessa,FL,Circle,1 minute,\"On February 22, 2016, at approx. 13:00 hrs., this obj. in the photo flew by in a NE dir.. ((NUFORC Note: Lens flare from Sun. PD))\",2/26/2016'],\n",
       "  ['2/22/16 06:30,Tracy,CA,Light,1 minute,Blue light streaking across Tracy.,2/26/2016'],\n",
       "  ['2/22/16 06:15,Preston,MN,Teardrop,20 minutes,\"My mom, two brothers, and myself were driving down the road from Fountain to Preston and as we were driving we saw a floating craft wit\",2/26/2016'],\n",
       "  ['2/22/16 06:00,Cincinnati,OH,Light,2 minutes,Bright light moving south to north very high rate of speed was not a plane brightness of a star,2/26/2016'],\n",
       "  ['2/22/16 04:16,Bakersfield,CA,Light,16 minutes,Saw an unidentifiable flying object in the sky shooting beams of light during an earthquake.,2/26/2016'],\n",
       "  ['2/22/16 04:13,Bel Air,MD,,1 seconds,\"Mysterious, large boom shakes house, 4am.\",2/26/2016'],\n",
       "  ['2/21/16 21:30,San Rafael,CA,Light,25 minutes,Triangular and rectangular formations of hovering lights over Bay,2/26/2016'],\n",
       "  ['2/21/16 20:45,Grand Rapids,MI,Sphere,4 minutes,5-6 orbs in the form of a line in 4 and 2 behind it with gaps in between. Yellow/orange colored over antenna in the city,4/22/2016'],\n",
       "  ['2/21/16 19:20,Sandy,OR,Fireball,<20 seconds,Huge ball of light falls to earth after stalling.,2/26/2016'],\n",
       "  ['2/21/16 19:00,Harrison,NY,Circle,5 minutes,\"At approximately 7:00 pm on February 21, 2016 Myself, my husband & my son saw 11-12 clear bright orange lights moving in a v formation\",2/26/2016'],\n",
       "  ['2/21/16 15:15,Baltimore,MD,Oval,2.5 minutes,Three oval-shaped objects came together and flew in formation before separating and flying away.,2/26/2016'],\n",
       "  ['2/21/16 06:50,Arvada,CO,Circle,5 minutes,\"Small balls of light changing positions, sharp turns.\",2/26/2016'],\n",
       "  ['2/20/16 23:45,San Luis Obispo,CA,Fireball,3 minutes,\"Orange fireball, emitted a blinking object and flew upwards until it was as small as a star.\",2/26/2016'],\n",
       "  ['2/20/16 23:00,Suffield,CT,Light,2-3 minutes,\"Strange orange constant glowing light, coming over from the mountain top of West Suffield area, heading towards Southwick, Congamond\",2/26/2016'],\n",
       "  ['2/20/16 20:30,Oak Island,NC,Circle,45 minutes,\"Red-orange circular objects seen in southern sky over ocean off of Oak Island, NC\",4/29/2016'],\n",
       "  ['2/20/16 20:00,Lordstown,OH,Unknown,21:00,Two large craft hovering over Lordstown (Trumbull/Mahoning County border).,2/26/2016'],\n",
       "  ['2/20/16 19:40,Lakeland,FL,Circle,2 minutes,Eight gold colored orbs of light.,2/26/2016'],\n",
       "  ['2/20/16 19:30,Gresham,OR,Flash,2 seconds,Super bright flash of light a week after a wave of UFO sightings,3/11/2016'],\n",
       "  ['2/20/16 19:00,Belleville,NJ,Circle,10 minutes,4 ufos moving silently across the sky. 2 were in formation.,2/26/2016'],\n",
       "  ['2/20/16 18:45,Hanover,PA,Light,5 minutes,\"6 red lights moving slowly, in two sets of 3, E to W, changing formations. Have video footage of second set.\",2/26/2016'],\n",
       "  ['2/20/16 18:00,Saint Francis,KS,Changing,45 seconds,My friend and I were driving down the road and looked up over a wheat field and seen one red dot that was stationary.,2/26/2016'],\n",
       "  ['2/20/16 17:50,Towson,MD,Fireball,60 seconds,\"Noticed streaks in the sky while driving. At first one, then two, then three.\",2/26/2016'],\n",
       "  ['2/20/16 16:20,Peoria,AZ,Light,45 seconds,Set of four lights flying in formation.,2/26/2016'],\n",
       "  ['2/20/16 16:00,Emmett,ID,Light,4 minutes,\"Diamond shaped light hovering over hills, radio station fuzzed out.\",2/26/2016'],\n",
       "  ['2/20/16 05:07,Colerain Township,OH,Cylinder,2 minutes,Cylindrical object in the southern sky with glowing red and white lights in the lower half.,2/26/2016'],\n",
       "  ['2/20/16 02:00,Wichita,,Other,5 minutes,I noticed an object that had emerald green lights over Kellogg and it was going W and stopped and started going E.,2/26/2016'],\n",
       "  ['2/20/16 01:04,Mesa,AZ,Triangle,1 minute,\"Very low, large, fast traveling lights that just disappeared quickly with no clouds in the sky. There were 3 lights in a triangle shape\",2/26/2016'],\n",
       "  ['2/19/16 23:00,Esko,MN,Circle,20 minutes,\"I was letting my dogs back in from outside, and suddenly noticed something moving, at first I thought it was an airplane, but clearly w\",2/26/2016'],\n",
       "  ['2/19/16 22:05,Newtown,OH,Light,<10 seconds,\"A very bright light, brighten than star, appeared then shot off straight, and stopped again., three times then disappeared rapidly.\",2/26/2016'],\n",
       "  ['2/19/16 21:55,Florence,AL,Light,2 minutes,\"6 lights in line formation moving northeast from Oneil bridge area over Florence, AL.\",2/26/2016'],\n",
       "  ['2/19/16 21:15,Hoffman,IL,Teardrop,5 seconds,\"Greenish white fireball ,that was going west in a descending arc, brightly visible for several seconds.\",2/26/2016'],\n",
       "  ['2/19/16 21:00,Churchville,PA,Egg,3-5 seconds,\"After hearing helicopter in area for approx. 5 minutes, I looked out window and coming from S to N is a helicopter.\",2/26/2016'],\n",
       "  ['2/19/16 21:00,Kingston,IL,Light,5 minutes,\"5 hovering lights near Kingston, IL.\",2/26/2016'],\n",
       "  ['2/19/16 21:00,Columbus,OH,Flash,2 hours,\"Over the South side of Columbus, Ohio.\",2/26/2016'],\n",
       "  ['2/19/16 20:43,Evansville,IN,Circle,5 seconds,Blue and white streak with tail traveling in NE sky that disappeared then followed by a blue circular shape with a white ring twice.,2/26/2016'],\n",
       "  ['2/19/16 19:45,Pueblo,CO,Sphere,1 minute,\"Group of 6-7 red-orange spheres, moving independently at different altitudes\",2/26/2016'],\n",
       "  ['2/19/16 19:32,Santa Rosa,CA,Light,20 minutes,My husband and I watched 4 orange lights fly slowly and quietly towards us over a fairly busy intersection.As they ascended the lights,2/26/2016'],\n",
       "  ['2/19/16 19:30,Nashville,TN,Light,>30 minutes,Two Large Oval Lights Above the Clouds Two Nights in One Week,2/26/2016'],\n",
       "  ['2/19/16 18:51,Estrella (west of Phoenix),AZ,Light,5 minutes,\"Cluster of 13 Lights over Estrella, AZ, seen for 5 minutes by two witnesses.\",2/26/2016'],\n",
       "  ['2/19/16 18:43,Avondale,AZ,Light,2 minutes,\"15-20 lights in the horizon, bright very close together, all disappeared within 5 seconds of each other. Video from Avondale.\",2/26/2016'],\n",
       "  ['2/19/16 18:38,Phoenix,AZ,Formation,6 minutes,\"At first sight, we thought...the Phoenix Lights are back!!!\",2/26/2016'],\n",
       "  ['2/19/16 18:30,Maricopa,AZ,Formation,10-15 minutes,Strange cluster of bright white lights over the southwest sky,2/26/2016'],\n",
       "  ['2/19/16 18:30,Gainesville,MO,Triangle,5 minutes,\"My boyfriend and I have been seen an Object North of us.'],\n",
       "  ['There is Fields and cattle that direction.'],\n",
       "  ['We see this object off and o\",3/4/2016'],\n",
       "  ['2/19/16 11:00,Tallapoosa,,Sphere,All night long,Hovering lights.,2/26/2016'],\n",
       "  ['2/19/16 09:00,Madisonville,LA,Light,10 minutes,Was on Tchefuncte River and three orange lights with one red blinking in formation but got over town you can see the silhouette of one,2/26/2016'],\n",
       "  ['2/19/16 06:30,Maricopa,AZ,Rectangle,10 minutes,Multi light formation high in the sky,2/26/2016'],\n",
       "  ['2/19/16 00:45,Blue Springs,,Circle,hours,\"Bright white with rotating colored lights-blue/red/green, silent, stationary. Visible with naked eye. ((NUFORC Note: Star? PD))\",2/26/2016'],\n",
       "  ['2/18/16 22:00,Glens Falls,NY,Light,20 minutes,\"Erratic lights seen, which exchanged position and flashed out and on again.\",2/19/2016'],\n",
       "  ['2/18/16 21:00,Victoria (above)(Canada),BC,Light,20 seconds,ZIG ZAGGING SATELLITE EVENTUALLY MAKING A TURN OVER CLOUD COVER,2/26/2016'],\n",
       "  ['2/18/16 20:45,Anchorage,AK,Circle,3-5 minutes,\"Orange circular craft hovering over House in Anchorage, AK. ((NUFORC Note: Video on NUFORC homepage. PD))\",2/19/2016'],\n",
       "  ['2/18/16 19:00,Foresthill,CA,Cone,13 minutes,\"Obj. was flashing different color lights, blue red and chrome like. Was hovering above the mountain top. ((NUFORC Note: Sirius? PD))\",2/19/2016'],\n",
       "  ['2/18/16 19:00,Gallatin (town of; Red Hook zip),NY,Other,3 minutes,Large boomerang shaped object in the night sky.,2/26/2016'],\n",
       "  ['2/18/16 18:44,Chandler,AZ,Light,5 minutes,Two clusters of orange flashing/flickering objects over Chandler,2/19/2016'],\n",
       "  ['2/18/16 18:10,Salem,NH,Light,4 minutes,\"Bright ball of light over Salem, NH; 2 witnesses.\",2/26/2016'],\n",
       "  ['2/18/16 18:00,New Hampton,NH,Triangle,5-10 minutes,\"Object moving in one direction, and then switched directions, heading the opposite way. Triangular shaped, three white lights at each t\",2/19/2016'],\n",
       "  ['2/17/16 22:30,Philadelphia,PA,Light,10 minutes,4 orange lights seen moving W to E over Philadelphia. Two lights moving together at some distance suddenly got close to each othe,2/19/2016'],\n",
       "  ['2/17/16 20:40,Farmington/Helenville,WI,Formation,5 minutes,\"3 red lights, one blinking, moving in formation or possibly on vehicle\",2/26/2016'],\n",
       "  ['2/17/16 20:30,Chicopee,MA,Light,5 minutes,\"2 slow, silent lights 1 mile away from WARB; followed quickly by 2 black military helicopters.\",2/19/2016'],\n",
       "  ['2/17/16 20:00,Spring Prairie,WI,Unknown,?,\"Was driving N on Hwy. 120, just S of Hwy. 11, when above my car flew a triangular plane-like formation of 3 bright green lights.\",2/19/2016'],\n",
       "  ['2/17/16 19:45,Cape Coral,FL,Triangle,6 minutes,Florida is a Hot Spot for Black Budget aircraft and Space Capable vehicles,2/19/2016'],\n",
       "  ['2/17/16 19:44,Hong Kong (pilot report; in-flight),,Sphere,4-5 minutes,\"Airline Captain and 1st Officer witness a bright blue, stationary, object in the northern sky, perhaps at 60,000\\' altitude.\",2/19/2016'],\n",
       "  ['2/17/16 19:30,Wellton,AZ,Formation,45 minutes,Formation of bright orange lights appearing and disappearing over AZ desert.,2/26/2016'],\n",
       "  ['2/17/16 19:30,Miami (Suburbs),FL,Triangle,10 minutes,\"Triangle formation, three lights proceeding one red light.\",2/19/2016'],\n",
       "  ['2/17/16 19:00,Martinsville,VA,Circle,~3 minutes,Three circular formations of green lights seemed to float in the sky around 7:00.,2/19/2016'],\n",
       "  ['2/17/16 19:00,Greeley,CO,Fireball,5 minutes,\"2 orange glowing balls in the air, not flashing red or white like airplanes, traveling very slow then one cut W and slowly disappears.\",2/19/2016'],\n",
       "  ['2/17/16 18:08,Yonkers,NY,Light,9 seconds,\"White star-like, comet-like object with white trail.\",2/19/2016'],\n",
       "  ['2/17/16 18:05,Rocky Ford,CO,Unknown,40 minutes,\"Strange Lights Date: 2-17-16 Time: 18:05 to 18:45 Location: Downtown Rocky Ford, Colo.'],\n",
       "  ['Conditions: Night, partly clouded sky (Black\",2/19/2016'],\n",
       "  ['2/17/16 16:49,Portage,IN,Triangle,30 seconds,It was a black figure almost like a v it had at least 60 lights it came down low I got a good look then took off in a blink of an eye.,2/19/2016'],\n",
       "  ['2/17/16 02:00,New London,WI,Flash,10-15 minutes,Random pulses of bright white light some brighter than others randomly appeared in the sky with no associated sound or heading .,2/19/2016'],\n",
       "  ['2/17/16 00:00,Tulsa,OK,Light,10 minutes,\"It was a light going in half a circle every 6 seconds; it made a whistling sound, then it stopped and a car alarm went off.\",2/19/2016'],\n",
       "  ['2/16/16 22:30,Casa Grande (near),AZ,Light,5 minutes,Bright pair of white lights south of Phoenix area.,2/26/2016'],\n",
       "  ['2/16/16 21:59,Ford,WA,Circle,4 minutes,I was in my room ready for bed. I told my 18 year old to take our dog out to go to the bathroom before bed. He took her outside. Immed,2/19/2016'],\n",
       "  ['2/16/16 19:52,Birch Run,MI,Formation,3-4 minutes,\"6 RED/ORANGE ORBS, PLUS 1--SPEED/SPACING/R SAME.\",2/19/2016'],\n",
       "  ['2/16/16 19:19,Kill Devil Hills,NC,Fireball,,Looked like a ball of fire going fast across sky and disappear into the west sky.,2/19/2016'],\n",
       "  ['2/16/16 19:14,Arlington,VA,Teardrop,5 seconds,Bright fast moving glowing green object low in horizon at early evening,2/19/2016'],\n",
       "  ['2/16/16 19:12,Hertford,NC,Sphere,,\"Green flame with tail in Hertford, NC-was it a meteor?\",2/19/2016'],\n",
       "  ['2/16/16 17:12,Williamsburg,VA,Fireball,3-4 seconds,\"Object was moving rapidly left to right, approximately 300-500\\' AGL, orange yellow fiery tail front end looked white/bluish in color\",2/19/2016'],\n",
       "  ['2/16/16 17:00,Enterprise,WA,Fireball,30 seconds,A large white fireball with a smoke or vapor trail flew Northwest.,2/19/2016'],\n",
       "  [\"2/16/16 06:45,Kasilof,AK,Light,10-15 seconds,Unidentified brilliant green/blue light appeared at children's bus stop.,2/19/2016\"],\n",
       "  ['2/16/16 01:30,Pangburn,AR,Flash,1 minute,\"Blue flash, no streaks, no flashing lights, instant direction changes.\",3/4/2016'],\n",
       "  ['2/16/16 01:22,Federal Way,WA,Flash,Pacific Hwy,\"((HOAX??)) As we were inside, the town goes completely black as we walk outside multiple green flashes were seen in the E sky.\",2/19/2016'],\n",
       "  ['2/16/16 00:30,Federal Way,WA,Flash,2 seconds,Bright flash with no sound lighted up backyard.,2/26/2016'],\n",
       "  ['2/16/16 00:30,Federal Way,WA,Flash,3-5 seconds,Addendum to original report.,2/26/2016'],\n",
       "  ['2/16/16 00:30,Auburn,WA,,1 second,Today at 12:30am on 2/16/16 while heading southbound on Highway 167 I witnessed a blue flash in the sky while passing by the city of Au,2/19/2016'],\n",
       "  ['2/16/16 00:15,Rapid City,SD,Unknown,>1 hour,Sounds in the middle of the night.,2/19/2016'],\n",
       "  ['2/15/16 22:05,Tunkhannock,PA,Triangle,~1 minute,On a ride home after work we were driving home on the highway when we both noticed said flying object about 200-300ft directly above ou,3/24/2016'],\n",
       "  ['2/15/16 20:35,Virginia Beach,VA,Triangle,1 minute,Triangular object with dim orange lights.,3/18/2016'],\n",
       "  ['2/15/16 19:00,Dubuque,IA,Fireball,10-12 seconds,\"((HOAX??)) I spotted a crimson light heading W for maybe 5 sec. It stopped, changed color to a emerald green and shot off to the W.\",2/19/2016'],\n",
       "  ['2/15/16 18:00,Newport Beach,CA,Formation,30 minutes,Sitting on Balboa Island looking in the direction of the pavilion which is NW two objects.,2/19/2016'],\n",
       "  ['2/15/16 17:00,Houston,TX,Sphere,15 seconds,Red ball-like aircraft spotted from private aircraft.,2/19/2016'],\n",
       "  ['2/15/16 12:50,Santa Rosa,CA,Other,?,\"Strangest thing... On our way to the lake, it caught the corner of my eye. The only way I can describe it is... Looked like a flying du\",2/19/2016'],\n",
       "  ['2/15/16 09:30,Philadelphia,PA,,2-3 seconds,\"((HOAX??)) One or two bright green circles flashing darted through the sky, it scared the hell out of me. I live in the NW Phila..\",2/19/2016'],\n",
       "  ['2/15/16 03:37,Pingrup (Australia),,Unknown,50 minutes,\"Common sightings in the mornings of red and green aircraft of some sort flying low altitudes above the township of pingrup,, Western Au\",2/19/2016'],\n",
       "  ['2/15/16 03:00,East Aurora,NY,Triangle,10 minutes,I was traveling south bound on the 400. I noticed in the distance above trees what looked like a Chinese lantern but very bright as if,2/19/2016'],\n",
       "  [\"2/15/16 00:20,Columbus,OH,Flash,Brief,On 71 southbound near the Budweiser plant. A green flash lit the entire sky behind the clouds sort of like heat lightning except it's,2/19/2016\"],\n",
       "  ['2/14/16 22:00,Santa Fe (on ranch),CA,Light,8 minutes,\"Strange moving light, making quick movements of great distance and s-shaped turns.\",2/19/2016'],\n",
       "  ['2/14/16 22:00,Ran home Santa Fe,CA,Light,8 minutes,Strange moving light making quick movements of great distance and s shaped turns,2/26/2016'],\n",
       "  ['2/14/16 20:50,Indio,CA,Circle,5 seconds,\"Saw lighted object fly across sky in about 5 seconds, flying west to east.\",2/19/2016'],\n",
       "  ['2/14/16 20:48,Woodbridge,VA,Sphere,8 minutes,\"Orange orbs or spheres, flying in formation some materializing from nowhere, no sound whatsoever, then some ascended.\",2/19/2016'],\n",
       "  ['2/14/16 20:20,Orlando,FL,Light,2 minutes,Saw 9 reddish/orange lights flying in very slow formation for approximately 2 before disappearing behind clouds.,2/19/2016'],\n",
       "  ['2/14/16 19:40,Hayward,CA,Triangle,10-15 seconds,Semi-transparent triangle shaped low and slow object,2/19/2016'],\n",
       "  ['2/14/16 19:30,Eugene,OR,Light,5 minutes,\"((HOAX??)) Orange light in sky, moving fast until a parachute opened and object descended into Eugene area.\",2/19/2016'],\n",
       "  ['2/14/16 19:00,Lakewood,CA,Unknown,2 minutes,\"Orange circular object that traveled at a high rate of speed, slowed to a stop, and then faded away.\",2/19/2016'],\n",
       "  ['2/14/16 18:30,Naples,FL,Cylinder,5 minutes,\"Bright-orange, glowing object moving at a fast pace across the sky and suddenly vanishing.\",2/19/2016'],\n",
       "  ['2/14/16 18:30,Pottersville,NY,Light,20 minutes,Two lights similar to planes move erratically & rendezvous.,2/26/2016'],\n",
       "  ['2/14/16 14:00,South Gate,CA,Sphere,2 minutes,\"One of many this day. Orb flyby captured with a telescope. Almost missed this one by mistake.'],\n",
       "  ['https://youtu.be/pDaMu_Qf8Ls\",2/19/2016'],\n",
       "  ['2/14/16 10:45,Newhall,CA,Rectangle,1 minute,I looked at a picture on ufo sighting 2015 and was suprised to see a picture of what I had seen,2/19/2016'],\n",
       "  ['2/14/16 07:30,Pinellas,FL,Fireball,6 seconds,I was driving my car and caught site of what i thought was a craft or meteorite falling to earth i was awaiting the explosion but never,3/24/2016'],\n",
       "  ['2/14/16 04:40,Beacon Falls,CT,Flash,4 seconds,\"Was outside smoking and a bright blue light lit up the back of my house. Thought it was a car, but happened to look up and saw the brig\",2/19/2016'],\n",
       "  ['2/14/16 04:35,Bridgewater,NJ,Flash,3 seconds,My back yard light up like lightening. 3 bright flashes blue/white color.,2/19/2016'],\n",
       "  ['2/14/16 04:35,West Suffield,CT,Fireball,5 seconds,\"LAYING IN BED LOOKING OUT WINDOW AND SAW A BRIGHT FLASH TRAILING FROM NORTHWEST TO SOUTHEAST . IT APPEARED GREENISH IN COLOR TO ME , I\",2/26/2016'],\n",
       "  ['2/14/16 04:35,Fairfield,CT,Unknown,3 seconds,I was getting something from the car. The sky suddenly lit up blue. Then in the sky a streak of fire and it made a sparkling noice.,2/19/2016'],\n",
       "  ['2/14/16 04:30,East Hampton,NY,Fireball,3 seconds,Bright orange light shines down into my bathroom window then disappears.,2/19/2016'],\n",
       "  ['2/14/16 04:30,Starview,PA,Flash,1 second,\"Bright flash, followed by fireball.\",2/19/2016'],\n",
       "  ['2/14/16 00:30,Hull (East Yorkshire) (UK/England),,Triangle,1 minute,\"Delta UFO type lights over Hull, UK.\",2/19/2016'],\n",
       "  ['2/13/16 22:30,Port Hueneme,CA,Triangle,4 seconds,Black trianular object with six very large faint light blue lights along the leading edges of each side,2/19/2016'],\n",
       "  ['2/13/16 22:00,Erie,CO,Triangle,2-5 seconds,5-6 objects flying in v formation,2/19/2016'],\n",
       "  ['2/13/16 21:30,West Mobile,AL,Fireball,2 minutes,\"((HOAX??)) 5 \"\"sequinized\"\" fireballs in the sky.\",2/19/2016'],\n",
       "  ['2/13/16 21:00,Carpenteria,CA,Sphere,2 minutes,\"Bright red light hovered a minute, then zoomed off fast.\",2/19/2016'],\n",
       "  ['2/13/16 21:00,Greensboro,NC,Triangle,10 seconds,\"Black trangular object, silent, slow, and a set of very faint lights around it\\'s perimeter.\",2/19/2016'],\n",
       "  ['2/13/16 20:30,Thibodaux,LA,Light,10 minutes,\"10 red lighted craft moving at low altitude across the sky above Thibodaux, LA\",2/19/2016'],\n",
       "  ['2/13/16 20:00,Boise,ID,,2 minutes,\"Red lights coming from the N to S, then disappearing as they came over the foothills. 5 separate lights. Would normally be airc\",2/19/2016'],\n",
       "  ['2/13/16 18:30,Staten Island,NY,Cigar,1 minute,\"Bright orange light, long and skinny, hovering over tree line at dusk that flew in a straight line and very fast.\",2/26/2016'],\n",
       "  ['2/13/16 18:30,Farmingdale,NY,Light,3 minutes,Unexplained very bright light in the night sky.,2/19/2016'],\n",
       "  ['2/13/16 18:22,Morrisville,PA,Triangle,5-10 minutes,\"Red Lights triangle shape flying over Morrisville, PA\",2/19/2016'],\n",
       "  ['2/13/16 14:30,Phoenix,AZ,Circle,1 hour+,High altitude white disc observed.,2/19/2016'],\n",
       "  ['2/13/16 13:00,Spring Creek,NV,Sphere,1+ hours,\"Viewed a white orb moving north to south over Spring Creek, NV.\",2/19/2016'],\n",
       "  ['2/13/16 11:30,Monticello,MN,Triangle,,I went out to take garbage out and I was looking at stars. Then I saw again This trianglar thing moving slowly towards me. It hovers re,2/19/2016'],\n",
       "  ['2/13/16 09:38,Palmer,AK,Light,Since i saw it the 10th,The continuation of the UFO activity in Palmer on the tenth at 23:00 night time. One UFO still in the general UFO hotspot with activity,2/19/2016'],\n",
       "  ['2/13/16 06:07,Traralgon South (Australia),,Light,2 minutes,Rapidly moving light travelling a large distance in short timeframe,2/19/2016'],\n",
       "  ['2/13/16 05:47,Wheeler AAF,HI,Light,2 seconds,Seen 2 white orbs appeared to be bouncing off each other.,2/19/2016'],\n",
       "  ['2/13/16 05:30,Wichita,KS,Changing,A few seconds,One light became four,2/19/2016'],\n",
       "  ['2/13/16 01:43,Grayling,MI,Oval,35 seconds,\"Noticed a blue oval like orb streak past the highway as I was going up on 75 northbound, road was empty. Made me do a double take and t\",2/19/2016'],\n",
       "  [\"2/13/16 01:00,Newburg,IN,Circle,loud Humming and strange,((HOAX??)) I witnessed a triangle with 3 lights on each side I've seen a bright ball with dark inside the ball I heard sirens noises.,2/19/2016\"],\n",
       "  ['2/12/16 23:30,Seabrook,NH,Circle,10 minutes,\"I was driving home from work. I look up and see 2 bright white circles flying in what appears to be a side by side formation, keeping\",2/19/2016'],\n",
       "  ['2/12/16 23:00,Fort Lauderdale,FL,Changing,30 minutes,Light beings bring ships onto sand @ Ft. Lauderdale Beach,2/19/2016'],\n",
       "  ['2/12/16 22:05,Ojo Caliente,NM,Light,75 minutes,Girlfriend walked out the house looked up and saw rapidly blinking light various colors.I retrieved binoculars and was able to see diff,2/19/2016'],\n",
       "  [\"2/12/16 21:00,La Porte,TX,Circle,7 seconds,((HOAX??)) The light was so bright I thought the neighbors' house was on fire. Bright red lights there was no sound.,2/19/2016\"],\n",
       "  ['2/12/16 17:00,Springfield,OR,Other,1 minute,\"Large \"\"T\"\" shaped craft hovered just above tree line over parking lot of McKenzie Willamette Hospital.\",4/29/2016'],\n",
       "  [\"2/12/16 16:38,Hickory Hills,IL,Light,20 second,1 or 2 lights that were maybe UFO's.,2/26/2016\"],\n",
       "  ['2/11/16 23:35,Seatac,WA,,5 minutes,\"Blue lights over Angle Lake in Seatac, WA.\",2/19/2016'],\n",
       "  ['2/11/16 22:05,Casa Grande,AZ,Sphere,5 minutes,\"2 amber orbs seen hovering stationary, 2 more amber orbs appeared shortly after. First set disapeared followed shortly by the second se\",2/19/2016'],\n",
       "  ['2/11/16 22:00,Lo de Marcos (Mexico),,Light,10 minutes,Two bright orange light that appeared in the sky over the Pacific Ocean . Disappears for 1min and reappear in a parallel allagment and,2/19/2016'],\n",
       "  ['2/11/16 19:40,Tampa,FL,Oval,15-30 minutes,Large bright white/blue orb or saucer hovering in the sky. ((NUFORC Note: Sighting of Sirius?? PD)),2/19/2016'],\n",
       "  ['2/11/16 19:00,Zion,IL,Disk,Few seconds,A bunch of lights with the silhouette of a saucer.,2/19/2016'],\n",
       "  ['2/11/16 18:00,Henderson,NC,Other,10 minutes,My husband son and myself and a friend was walking in dark home from parents house up road from us and in the southern sky heading no,2/26/2016'],\n",
       "  ['2/11/16 17:50,Salt Lake City,UT,Circle,10 minutes,\"Silver orb hovering at 5 km, just east of the Salt Lake Valley.\",2/19/2016'],\n",
       "  ['2/11/16 11:30,Anaheim,CA,Other,10,\"Two orange-ish blinking lights, 30 degrees from horizon, faded then disappeared.\",2/11/2016'],\n",
       "  ['2/11/16 07:00,Laguna Beach,CA,Fireball,2 seconds,I was looking toward the ocean when I saw a greenish blue ball sailing across the sky. It looked almost like a flare.,2/19/2016'],\n",
       "  ['2/11/16 06:45,Costa Mesa,CA,Fireball,2 minutes,Bright fireball that vanished immediately.,2/11/2016'],\n",
       "  ['2/11/16 06:45,Tustin,CA,Light,10 seconds,Lime green streak of light going from east to west at 6:45 a.m. on Wed 2/11/2016.,2/19/2016'],\n",
       "  ['2/11/16 06:45,Ramona,CA,Light,15 seconds,Moving object with green tail/stream.,2/11/2016'],\n",
       "  ['2/11/16 06:44,Palm Desert,CA,Fireball,3 seconds,\"Bright green fireball traveling (generally) west to east and about 1,000 feet above ground it extinguished and was no longer visible.\",2/11/2016'],\n",
       "  ['2/11/16 06:42,San Diego,CA,Other,2 seconds,Pink and green flash and disappeared.,2/11/2016'],\n",
       "  ['2/11/16 06:40,Temecula,CA,Triangle,Seconds,Sun glinted off a triangular shaped object going the speed of a shooting star then disappeared making no sound and leaving no trail.,2/11/2016'],\n",
       "  ['2/11/16 06:40,Cerritos,CA,Teardrop,<1 minute,Bright glowing blueish green ball (shaped like a fireball) spotted speeding downward from the sky.,2/11/2016'],\n",
       "  ['2/11/16 06:40,San Diego,CA,Light,5 seconds,Blue light streaks across San Diego sky.,2/11/2016'],\n",
       "  ['2/11/16 06:40,Victorville,CA,Fireball,8 seconds,Green/blue fireball travels across morning sky. ((NUFORC Note: We believe object was a meteor. See video. PD)),2/19/2016'],\n",
       "  ['2/11/16 06:40,South Gate,CA,Light,20 seconds,Bright bluish greenish light shooting across sky.,2/11/2016'],\n",
       "  ['2/11/16 06:37,Santa Clarita,CA,Fireball,10 seconds,\"Like a greenish/blue meteor. A tail on one end, and a ball at the other (like a flash). Appeared only seconds, and then disappeared.\",2/11/2016'],\n",
       "  ['2/11/16 06:30,Oxnard,CA,Light,<1 minute,\"Driving towards work, I was driving in Tice Avenue towards point mugu and a green light moved from sky to ground, there was not an expl\",2/11/2016'],\n",
       "  ['2/11/16 06:30,Lompoc,CA,Cylinder,5 minutes,I SEEN A GREEN FAST MOVING MACHINE WITH A BRIGHT YELLOW LINE FOLLOWING IT. BEFORE I COULD REACH FOR MY CELL PHONE IT DISAPPEARD BEHIND,2/11/2016'],\n",
       "  ['2/11/16 06:20,Whittier,CA,Fireball,15 seconds,\"At approx. 0620 hrs., I was traveling southbound on the 605 freeway passing the city of Whittier. Traffic was heavy so I was travel\",2/19/2016'],\n",
       "  ['2/11/16 06:15,Odenton,MD,Unknown,~5 minutes,\"Two parallel bright white lights in sky over Odenton, MD. As I came out to go to work I notice the one light. However, as I looked to m\",2/11/2016'],\n",
       "  ['2/11/16 06:00,Burbank,CA,Fireball,20 seconds,\"While walking in Burbank on Hollywood Way, looking towards Toluca Lake, I saw a very bright green fireball streak.\",2/19/2016'],\n",
       "  ['2/11/16 04:50,Methuen,MA,Other,1 hour,Moving red glowing orb of light.,2/11/2016'],\n",
       "  ['2/11/16 03:45,La Junta,CO,Fireball,30 minutes,Flying object shoot out in the sky.,3/11/2016'],\n",
       "  ['2/11/16 03:45,Salinas,CA,Light,2 minutes,Bright orange/red light; made no sound.,2/11/2016'],\n",
       "  ['2/10/16 22:00,Batavia,NY,Cone,10 minutes,Upside down pyramid with four rows of lights with glowing green humanoid (also orb).,2/11/2016'],\n",
       "  ['2/10/16 22:00,Lebo,KS,Sphere,~1 minute,\"Red, orange, blue multi-colored ufo.\",2/11/2016'],\n",
       "  ['2/10/16 19:30,Bothell/Kirkland,WA,Other,All night till sun rise,Large flashing rainbow colored lights seen @630-7pm over I-405 N/S in Bothell/Woodinville/Juanita. ((NUFORC Note: Sirius? PD)),2/19/2016'],\n",
       "  ['2/10/16 18:40,Bean Station,TN,Light,5 seconds,\"Bright green light spotted, not an airplane.\",2/11/2016'],\n",
       "  ['2/10/16 18:00,Radford,VA,Triangle,Minutes,\"Black triangle, small (maybe 4-6 feet to a side,possibly smaller), lights on the corner, flying NE along I-81.Seen from the south bound\",3/11/2016'],\n",
       "  ['2/10/16 16:00,Palmer,AK,Light,,\"2 star like lights flashing red green and blue moving in every direction, also their were shooting star like lights that shot upward\",2/11/2016'],\n",
       "  ['2/10/16 10:45,Paradise Valley,AZ,Light,5 minute,\"Second night of two amber lights returning, flickering from exact fixed position. This time I brought a second witness.\",2/11/2016'],\n",
       "  ['2/10/16 07:15,Beaverton,OR,Disk,~10 minutes,White to yellow disc object in NE sky that split into two pieces.,2/11/2016'],\n",
       "  ['2/10/16 07:00,Olympia,WA,Light,3 minutes,Bright light moves across the sky- then stops for a minute or two- then falls out of the sky and out of sight,2/11/2016'],\n",
       "  ['2/10/16 06:15,Cutler Bay,FL,Fireball,3 minutes,This morning at approximately 6:15 I was standing on my front porch facing due south. It was still dark when I looked up at 90 degrees,2/11/2016'],\n",
       "  [\"2/10/16 06:00,Garden Grove,CA,Changing,~4 hours,Twinkled like a star while it was still dark. Only it didn't stop when the sun came up.,2/11/2016\"],\n",
       "  ['2/10/16 05:23,Riverbank,CA,Cross,7 minutes,Saw strange red grey orb that looked like wizard of Oz white whitch then it grew to the size of baseball.,2/11/2016'],\n",
       "  ['2/10/16 05:20,Arcata,CA,Unknown,10 minutes,Downward directed cone of light emanating from small object travelling NE to SW at 5:20 AM.,2/11/2016'],\n",
       "  ['2/10/16 05:20,Reno,NV,Cone,3-4 minutes,\"White cone shaped object in the early morning sky over Reno, NV.\",2/11/2016'],\n",
       "  ['2/10/16 05:20,San Ramon,CA,Teardrop,45 seconds,\"Point of light with faint, wispy weather-balloon-shaped feature protruding from its side. ((NUFORC Note: Rocket. PD))\",2/11/2016'],\n",
       "  ['2/10/16 05:20,Lewiston,ID,Light,6 minutes,Moving satellite looking light with a visible toroidal energy ring.,2/11/2016'],\n",
       "  ['2/10/16 05:20,Vancouver,WA,Sphere,3 minutes,Large round shape moving from the west to the east across the sky,2/19/2016'],\n",
       "  ['2/10/16 05:15,Lebanon,OR,Circle,30 seconds,Large circular craft flew silently over man walking his dog.,2/11/2016'],\n",
       "  ['2/10/16 05:15,Geyserville,CA,Circle,5 minutes,\"Round, glowing on opposite sides, light in the middle. West to east, 5 min.\",2/11/2016'],\n",
       "  ['2/10/16 05:15,Gresham,OR,Light,4 minutes,Two strange illuminated semi circle of Vapor expand and the bright star-like light appears and one half semi circle disappear and the o,2/11/2016'],\n",
       "  ['2/10/16 05:15,Watchung,NJ,Chevron,3 minutes,\"Chevron-shaped craft flying low and slow over Watchung, NJ.\",2/26/2016'],\n",
       "  ['2/10/16 05:15,Newport,OR,Other,<2 minutes,T-shaped craft traveling offshore that was absolutely not a helicopter or airplane of any sort,2/11/2016'],\n",
       "  ['2/10/16 05:15,Ione,OR,Triangle,continuous,Observed a triangular shaped filmy patch of light moving from east to west at 5:15 am north of Ione.,2/11/2016'],\n",
       "  ['2/10/16 05:10,Culver,OR,,5 minutes,Appeared to be a large star with a sort of spot light shining from the side outward. At first i thought maybe it was the space station,2/11/2016'],\n",
       "  ['2/10/16 05:00,Ashland,OR,Triangle,10 minutes,Bright point of light resembling satellite but followed by triangular illuminated shape.,2/11/2016'],\n",
       "  ['2/10/16 05:00,Idanha,OR,Other,5 minutes,Awe inspiring and a bit scary when it was right above me.,2/11/2016'],\n",
       "  ['2/10/16 05:00,Oakridge,OR,Other,12-15 minutes,Large object moves slowly across early morning sky with shooting stars and comet tails.,2/11/2016'],\n",
       "  ['2/10/16 03:45,Kingsburg,CA,Light,2 minutes,Bright red light southwest sky remained still then suddenly vanished.,2/11/2016'],\n",
       "  ['2/10/16 00:30,Napier (Hawkes Bay) (New Zealand),,Disk,1-2 minutes,\"Whirinaki Beach (Hawkes Bay)(New Zealand - Disk of lights observed silently hovering, traveling less than 40km/h (25mi/h).\",2/11/2016'],\n",
       "  ['2/9/16 22:00,Alexandria,LA,Fireball,3 seconds,Burning ball of fire.,2/11/2016'],\n",
       "  ['2/9/16 21:15,Paradise Valley,AZ,Light,15 minutes,\"Amber light flickered into bright position over Paradise Valley, joined by second amber light, faded and returned many times\",2/11/2016'],\n",
       "  ['2/9/16 21:15,Fredonia,PA,Light,8 minutes,\"3 lights, non-blinking, emminating same location following same pattern followed one another.\",2/11/2016'],\n",
       "  ['2/9/16 21:00,Laredo,TX,Sphere,non stop,\"Last night, I was at my back yard and while in a phone call, I saw coming a bright orange sphere flying towards North. As its very com\",2/11/2016'],\n",
       "  ['2/9/16 20:15,Perris,CA,Triangle,10 seconds,Black reflective triangle seen over head gliding through the sky slowly. Had a circular light at each triangle point.,2/11/2016'],\n",
       "  ['2/9/16 19:00,Boise,ID,Cylinder,10 minutes,I was walking my dog in a SE neighborhood. We walk this trail often so the dog can run freely. I got to the far end of the trail and no,2/11/2016'],\n",
       "  ['2/9/16 15:30,Oklahoma City,OK,Circle,15 seconds,\"At 3:30 on in February 9th 2016, I stepped outside to smoke a cigarette and my 2yr old said she saw a &quot;plane,&quot; note that she\",2/11/2016'],\n",
       "  ['2/9/16 14:30,Tulsa,OK,Disk,4 seconds,\"While F-16s took off from TUL, a white disc/cloud object accelerated and disappeared on horizon.\",2/11/2016'],\n",
       "  ['2/9/16 08:00,White Sulphur Springs,MT,Other,2 minutes,A white or silver eye shaped craft.,2/19/2016'],\n",
       "  ['2/9/16 07:10,Clackamas,OR,Diamond,15 minutes,Bright golden square object has a bright golden light move away from the &quot;parent&quot; object.,2/11/2016'],\n",
       "  ['2/9/16 05:00,Perrine,FL,Rectangle,2 minutes,\"Elongated, fiery objects flying vertically in a decending motion.\",2/11/2016'],\n",
       "  ['2/9/16 04:40,Lancaster,SC,Triangle,5 minutes,\"7 aircraft single file due west over Lancaster, SC. Second from last had headlights, the rest did not. All had blinking red lights.\",2/11/2016'],\n",
       "  ['2/9/16 00:45,Delta/Tsawwassen (Canada),BC,Sphere,5-10 seconds,\"Blue-green sphere appears over the ocean, hovers for a few seconds, before shooting off, and vanished.\",2/19/2016'],\n",
       "  ['2/8/16 23:00,Maple Ridge (Canada),BC,Unknown,5 minutes,Sitting on my deck between 11:55 pm and until 12:00am approximately. First saw 4 orange lights low moving together at plane speed or fa,2/11/2016'],\n",
       "  ['2/8/16 22:00,Prescott,AZ,Other,45 minutes,My husband and I were driving home from Phoenix arizona to Prescott arizona and on the way back home we saw this red light floating acr,2/11/2016'],\n",
       "  ['2/8/16 22:00,Gainesville,GA,Light,in the sky,CANDY CANE BRITE LIGHT MOVE AND A CURCLE AREA IN THE SKY.,2/11/2016'],\n",
       "  ['2/8/16 21:00,Allentown,PA,Sphere,~3 minutes,\"2 twin spheres of orange light encircle airport, state trooper helicopter take off and chase\",2/11/2016'],\n",
       "  ['2/8/16 20:15,Eagle River,AK,Cigar,10 minutes,White light taveling in a circular motion.,2/11/2016'],\n",
       "  ['2/8/16 19:35,Missoula,MT,Other,30 minutes,Star-like appearance with amber light to top right. Movements forward and back for half an hour. ((NUFORC Note: Star?? PD)),2/11/2016'],\n",
       "  ['2/8/16 19:00,York,ME,Other,3-5 minutes,\"I was driving when I saw a strange plane-like object with a flashing light floating, then flying extremely slow and close to ground.\",2/11/2016'],\n",
       "  ['2/8/16 19:00,Santa Cruz,CA,Triangle,1 minute,\"Low, slow-flying unit, triangle shape with round orange lights on each tip. soundless.\",2/11/2016'],\n",
       "  ['2/8/16 18:50,Mill Creek,WA,Triangle,8 minutes,\"Black Triangular object with red pulsating lights seen in Mill Creek, WA.\",2/11/2016'],\n",
       "  ['2/8/16 18:30,\"Washington, D.C. & Baltimore (between; on I-295)\",MD,Triangle,,\"Hovering airplane-like craft over I-295, between Washington, D.C., and Baltimore.\",2/11/2016'],\n",
       "  ['2/8/16 17:00,Hermosa Beach,CA,Light,1:30,\"Strange Light Over Palos Verdes, CA, from Hermosa Beach Pier 6pm [Sunset]\",2/11/2016'],\n",
       "  ['2/8/16 13:00,West Palm Beach,FL,Other,2-3 minutes,Was approximately 13:00 give or take a few min. I was standing outside.The sky was very clear except for some downward looking wisps ab,2/11/2016'],\n",
       "  ['2/8/16 06:10,Tulsa,OK,Unknown,30 seconds,Orange light.,2/19/2016'],\n",
       "  ['2/8/16 03:00,Graham,NC,Light,20 minutes,I observed a light over a local cell phone tower early this morning. This light was yellow and red in nature. I assumed it was a norm,2/11/2016'],\n",
       "  ['2/7/16 22:00,Alamogordo,NM,Sphere,2-3 minutes,Orange orbs fly over neighborhood.,2/26/2016'],\n",
       "  ['2/7/16 21:00,Dewey,AZ,Chevron,2.00,\"Orange light going south, circling to west and disappearing up to west. About 2 minutes. Quite bright to dissappering up.\",2/11/2016'],\n",
       "  ['2/7/16 19:40,Antelope,CA,Triangle,,Lights suspended in arid in triangle pattern with additional single light at short distance,2/11/2016'],\n",
       "  ['2/7/16 15:30,Miami,FL,Disk,4 seconds,White/transparent disc like shaped object flying at low altitude over Tamiami Trail West. Duration: 3-4 secs,2/11/2016'],\n",
       "  ['2/7/16 11:50,Palm Beach Gardens,FL,Other,45 seconds,\"Three sphere-shaped UFO\\'s were seen high up in the sky, in broad daylight. One of them was ahead of the other two, which were doing cro\",2/11/2016'],\n",
       "  ['2/7/16 07:00,Los Ranchos de Albuquerque,NM,Triangle,5 minutes,Bright yellow light moved side to side then disappeared.,2/11/2016'],\n",
       "  ['2/7/16 06:00,Pataskala,OH,Circle,1-2 seconds,Green fireball with a tail that looked like sparks falling towards earth 6AM,2/11/2016'],\n",
       "  ['2/7/16 05:52,Culpeper,VA,Sphere,3-5 minutes,Two spheres move in unusual ways in early morning.,2/11/2016'],\n",
       "  ['2/6/16 22:35,Longview,WA,,,Green blue light illuminating sky.,2/11/2016'],\n",
       "  ['2/6/16 22:00,Spring Hill,TN,Circle,2 minute,\"((ADVERTISING LIGHTS??)) Circle with four lights, zig zag pattern military type helocopter right behind it.\",2/11/2016'],\n",
       "  ['2/6/16 21:30,Akron,OH,Light,~90 minutes,\"20-30 multicolored fast moving orbs seen over Akron, Ohio.\",2/11/2016'],\n",
       "  ['2/6/16 21:20,Temecula,CA,Triangle,Few seconds,\"Very high, south sound east direction. No noise, transparent, three lights one on each end. Disappeared when overhead, couldn\\'t see it\",2/11/2016'],\n",
       "  ['2/6/16 20:40,Gainesville,VA,Light,30 minutes,\"Four silent, orange lights moving from SW to NE from horizon to horizon in about a minute.\",2/11/2016'],\n",
       "  ['2/6/16 19:41,Anchorage,AK,Circle,3 minutes,Circular craft over flying downtown Anchorage at 5th Ave East bound. Red solid light with white light oscillating.,2/11/2016'],\n",
       "  ['2/6/16 19:35,Aurora,CO,Fireball,30 seconds,A diamond on fire came straight up and moved sideways very quickly,2/11/2016'],\n",
       "  ['2/6/16 19:15,Fenton,MO,Light,5 seconds,Bright light shoots eastward over Fenton at 1000mph and disappears.,2/11/2016'],\n",
       "  ['2/6/16 19:00,Claysburg,PA,Light,25 seconds,\"Two satellite-looking objects stopping, reversing, rotating and changing direction before disappearing in the distance.\",2/11/2016'],\n",
       "  ['2/6/16 18:45,Camp Lake,WI,Light,10 seconds,\"Brilliant bright light in a perfect round shape, close to the ground without any sound. it was traveling very fast\",2/11/2016'],\n",
       "  ['2/6/16 18:40,Petaluma,CA,Circle,5 minutes,\"Dull orange orb over Petaluma, CA, for over five minutes 2/6/2016, a portion of which was a very bright, fiery orange.\",2/11/2016'],\n",
       "  ['2/6/16 07:06,Pekin,IL,Circle,5 seconds,Green ball floating in the air.,2/11/2016'],\n",
       "  ['2/6/16 06:30,Winston-Salem,NC,Circle,2 minutes,My grandma and I were going down 52b and at 1st we saw a super bright light and were first though that it was a plan but as we got clos,2/11/2016'],\n",
       "  ['2/6/16 05:35,North Canton,OH,Oval,25 minutes,\"Single orange, elliptical object, hovering.\",2/19/2016'],\n",
       "  ['2/6/16 05:10,Newnan,GA,Unknown,30 seconds,Circling white lights.,2/11/2016'],\n",
       "  ['2/5/16 22:40,Littleton,CO,Circle,10 minutes,2 flying objects flying quickly and erratically near the foothills south west of Denver. First object was pink and blue but would turn,2/11/2016'],\n",
       "  ['2/5/16 21:43,Melbourne (Australia),,Light,5-7 minutes,2 UFOS OVER BRUNSWICK 2 DAYS IN A ROW!,2/11/2016'],\n",
       "  ['2/5/16 21:30,Selkirk,NY,Cross,hovering until we past it,My family went out for dinner on our way back home we traveled the nys thurway we past a trooper who had someone pulled over and shortl,2/11/2016'],\n",
       "  ['2/5/16 20:35,Southmont,NC,Cross,90 seconds,5 unidentified craft flew over our house heading toward High Rock Lake.,2/11/2016'],\n",
       "  ['2/5/16 20:35,Colorado Springs,CO,Disk,2-3 minutes,\"Football-shaped saucer, red and gold over Colo Springs Feb 5 2016 8:35 pm mst.\",2/11/2016'],\n",
       "  ['2/5/16 20:30,Everett,WA,Formation,3-5 seconds,I witnessed a formation of 7-9 white lights fly silently from East to West at moderate speed and disappear after 3-5 seconds.,2/19/2016'],\n",
       "  ['2/5/16 20:30,Costa Mesa,CA,Circle,15 minutes,Me and my two friends were driving and we saw a giant saucer going vertical slowly and low over us. We followed it for 15 min.,2/11/2016'],\n",
       "  ['2/5/16 20:20,Staten Island,NY,Light,10 minutes,2-3 lights following eachother in the sky for 20 minutes where they moved from east to west.,2/11/2016'],\n",
       "  ['2/5/16 20:15,Carefree,AZ,Oval,10 minutes,20 amber lights- erratic movement.,2/11/2016'],\n",
       "  ['2/5/16 20:10,Cheektowaga,NY,Rectangle,15-20 seconds,\"Large retangular craft with five circular lights on the bottom.'],\n",
       "  ['Craft made no sound and seemed to be floating through the air rather\",2/11/2016'],\n",
       "  ['2/5/16 20:00,Shawnee,KS,Light,15 minutes,They looked like stars that were moving in a straight trajectory.,2/11/2016'],\n",
       "  [\"2/5/16 20:00,South Barrington,IL,Circle,2 minutes,5 circular UFO's were seen flying over The Glen of South Barrington.,2/11/2016\"],\n",
       "  ['2/5/16 20:00,Cooleemee,NC,Unknown,4 minutes,\"7 dark masses slowly fly past low above the trees, moving N to S following the South Yadkin River.\",2/19/2016'],\n",
       "  ['2/5/16 19:49,Austin,TX,Fireball,1 minute,Orange light ascending above south Austin - rocket or missile?,2/11/2016'],\n",
       "  ['2/5/16 19:30,Goodyear,AZ,Light,minutes,Looked like flares.,2/11/2016'],\n",
       "  ['2/5/16 19:00,Doylestown,PA,Formation,10-30 seconds,Two bright lights over Philadelphia that faded from view after several seconds.,2/11/2016'],\n",
       "  ['2/5/16 19:00,Durham,NC,Formation,5-10 minutes,Spotted a formation of slow moving objects flying North in column with red flashing lights with one white light per craft. This occured,2/11/2016'],\n",
       "  ['2/5/16 19:00,Springfield,IL,Sphere,1 minute,Fire in the sky.,2/11/2016'],\n",
       "  ['2/5/16 18:58,Durham,NC,Light,3 minutes,\"We witnessed a line of lights, 7 in number, alternating white, red. First thought it was a string or airplanes, but they were perfectly\",2/11/2016'],\n",
       "  ['2/5/16 18:30,Seattle,WA,Triangle,30 minutes,\"Three triangular objects with very, very bright lights moving in unison across the sky.\",2/11/2016'],\n",
       "  ['2/5/16 17:20,Milwaukee,WI,Triangle,20 seconds,\"Very Very Bright... To fast to be a airplane...Unbelievable,\",2/11/2016'],\n",
       "  ['2/4/16 23:00,Colorado Springs,CO,Disk,3 minutes,\"Red fog in room, blueish chrome disk outside of front door, buzzing and pop noise, weird behavior from wife and dog.\",2/11/2016'],\n",
       "  ['2/4/16 21:00,Estes Park,CO,Oval,3 minutes,Bright light with attached string of lights in Eastern sky of Estes Park,2/11/2016'],\n",
       "  ['2/4/16 20:53,Camas,WA,,3 minutes,Bright light behind the trees reflecting white light to sky. No object.,2/11/2016'],\n",
       "  ['2/4/16 20:30,Bradenton,FL,Oval,15 seconds,\"Lightning style beam from ground to mid sky, then an oval shape appeared with glowing pulsating white lights.\",2/11/2016'],\n",
       "  ['2/4/16 20:07,Medina,OH,Light,5 minutes,Very different colored orb the color was yellowish orange maybe a small amount of red it stayed in place about 3 mins then went west.,3/11/2016'],\n",
       "  ['2/4/16 19:30,Tucson,AZ,Sphere,20 minutes,\"Eight large, slow moving, noiseless orange-red spheres traveling over Tucson evening sky.\",2/19/2016'],\n",
       "  ['2/4/16 18:46,Roseburg,OR,Circle,10 seconds,\"Very large, bright white light seen over hill.\",2/11/2016'],\n",
       "  ['2/4/16 18:40,Tucson,AZ,Sphere,1 minutes,\"Orb moving across Mt. Lemmon, AZ.\",2/11/2016'],\n",
       "  [\"2/4/16 18:30,Greeley,CO,Unknown,10 seconds,I cannot believe I'm doing this but- what I saw I can certainly not say it was an airplane or anything reasonable. Yesterday was really,2/11/2016\"],\n",
       "  ['2/4/16 18:15,Woodland Hills,CA,Circle,10 minutes,\"Two lights over Hidden Hills, hovering.\",2/11/2016'],\n",
       "  ['2/4/16 17:00,Los Angeles (Venice Beach),CA,Teardrop,15 seconds,\"Yesterday at sunset a completely identified object, 1 of the Predator Iraq war drones flying silently east to west opposite the LAX.\",2/11/2016'],\n",
       "  ['2/4/16 13:00,New London,MN,Circle,,Bright round object swooped insight.,2/11/2016'],\n",
       "  ['2/4/16 06:30,Goodyear,AZ,Cigar,still active,\"Cigar-shaped craft, or something, in the sky to the West.\",2/4/2016'],\n",
       "  ['2/4/16 01:50,Fresno,CA,Other,3-4 minutes,\"02/04/2016, Fresno, CA, Doughnut, 4-5 min, hovered, then landed super quick in front of vehicle, huge round craft, brown/gold, vanished\",5/6/2016'],\n",
       "  ['2/3/16 22:00,Mobile,AL,Oval,1 second,Oval thing flying ahead with bright lights.,2/4/2016'],\n",
       "  ['2/3/16 22:00,Waretown,NJ,Disk,10 minutes,\"Brilliant Illumination, hovering in night sky. 2 other discs flying around.\",2/4/2016'],\n",
       "  ['2/3/16 19:00,Fife,WA,Flash,15 seconds,Green/Teal flashing lights seen from Interstate 5.,2/4/2016'],\n",
       "  ['2/3/16 18:25,Salinas,CA,Unknown,5 minutes,Slow-moving craft with rectangular light that changed colors as it swept through an arc,2/4/2016'],\n",
       "  ['2/3/16 17:05,Austin,TX,Light,10 seconds,\"As I was driving south on street, I saw extremely bright light very high in the sky off south a bit.\",2/4/2016'],\n",
       "  ['2/3/16 17:00,Cypress,TX,Unknown,10 minutes,\"Object was small, spherical-shape with lighted tip craft that rocketed straight up in the sky, going super fast up and then turn right.\",2/11/2016'],\n",
       "  ['2/3/16 05:28,Lupton City,TN,Circle,4 minutes,Black hovering shaped craft darting through behind the clouds.,2/4/2016'],\n",
       "  ['2/3/16 04:21,Kingston,MA,Fireball,1 second,\"Large green fireball sighted falling south of Kingston, MA.\",2/4/2016'],\n",
       "  ['2/3/16 02:10,Roseburg,OR,Fireball,2 minutes,Orange lights west of Roseburg.,2/4/2016'],\n",
       "  ['2/2/16 20:15,Boise,ID,Light,3 minutes,\"Solitary Red Light in Southern Sky, hovering, moving strangely and suddenly about, then disappearing.\",2/4/2016'],\n",
       "  ['2/2/16 20:15,North Port,FL,Circle,30 minutes,\"Approximately 50 red circles of lights, travelling in a northerly direction. Some clusters; variations in speed and position.\",2/4/2016'],\n",
       "  ['2/2/16 19:00,Toms River,NJ,Other,10 minutes,\"Craft speeding in diving position, with an orange/yellow glow. Then it came to a hault and hovered for a brief time then was gone\",2/19/2016'],\n",
       "  ['2/2/16 18:50,Rio Rancho,NM,Light,10 minutes,White light moving steady at a low altitude with no noise.,2/4/2016'],\n",
       "  ['2/2/16 18:30,Lake Ozark,MO,Circle,4 seconds,\"I saw what looked like a shooting star. However, since it just turned evening, I felt that was unlikely. It was moving very fast.\",2/4/2016'],\n",
       "  ['2/2/16 18:00,Baltimore,MD,Triangle,60 seconds,\"Backwards flying, triangle, no sound ship 3 lights\",2/4/2016'],\n",
       "  ['2/2/16 15:00,Raleigh,NC,Sphere,5-10 seconds,Very shiny sphere-like object in the sky dropping/hovering slowly then GONE!,2/11/2016'],\n",
       "  ['2/2/16 13:00,West Orange,NJ,Light,25 minutes,White glowing light that drifted and eventually stay suspended.,2/4/2016'],\n",
       "  ['2/2/16 05:00,Atlantic City,NJ,Circle,5 seconds,\"2 dull red circles went straight across my full ocean view from N towards SE, just after 5:00 am. (Sunrise wasn\\'t until 7:01.)\",2/4/2016'],\n",
       "  ['2/2/16 01:15,Boise,ID,Triangle,~1 minute,Dancing disc zig-zags through the sky.,3/4/2016'],\n",
       "  ['2/1/16 22:00,Granite Bay,CA,Other,5 minutes,\"Cluster of color changing lights in sky, stationary, then moving slowly, then vanishing.\",2/4/2016'],\n",
       "  ['2/1/16 22:00,Los Angeles,CA,Circle,30 minutes,Lights over Pacific Ocean,6/1/2016'],\n",
       "  ['2/1/16 21:55,Charleston,SC,Sphere,1 minute,Bright red light sphere moving silently and very low in the sky,2/4/2016'],\n",
       "  ['2/1/16 21:42,Rochester,NY,Light,15-30 seconds,\"Yellow/orange bright light over Rochester, NY.\",2/4/2016'],\n",
       "  ['2/1/16 19:30,Port Orange,FL,Fireball,5-10 minutes,\"5 orange lights over Daytona, FL.\",2/11/2016'],\n",
       "  ['2/1/16 18:30,Milwaukee,WI,Fireball,4 seconds,\"Fireball, Lake Michigan, Milwaukee.\",2/4/2016'],\n",
       "  ['2/1/16 18:30,Sun Prairie,WI,Light,3 seconds,\"Low streaking light moving extremely quickly, on a downward trajectory. Flared green, and then disappeared.\",2/4/2016'],\n",
       "  ['2/1/16 18:25,Lombard,IL,Disk,10 seconds,\"Sighting in Lombard, IL.\",2/4/2016'],\n",
       "  [\"2/1/16 11:58,Kearns,UT,Teardrop,1 hour,11:58 go our for a smoke and spot a object in the west sky pull out my phone start recording and it's moving really fast I compare a pl,2/4/2016\"],\n",
       "  ['2/1/16 11:58,Kearns,UT,Changing,1 hour,happened to catch a flickering object to the west of me.,2/4/2016'],\n",
       "  ['2/1/16 08:45,South Windsor,CT,Sphere,1 minute,\"Very large craft hovering above me, complete silence, apprx 150 ft wide, one beam underneath and one round light on each side.\",2/4/2016'],\n",
       "  ['2/1/16 08:00,Taunton,MA,Cross,seconds,\"Strange looking object, not a bug.\",6/3/2016'],\n",
       "  ['2/1/16 07:24,Tokyo (Japan),,Disk,~5 minutes,Four blue-ish-green disk-shaped objects hovered in the sky for a couple of minutes before gliding away towards the mountains,2/4/2016'],\n",
       "  ['2/1/16 06:38,Lupton City,TN,Disk,5 seconds,Captured a UFO on my phone after taking pictures of cloud formations at the river,2/4/2016'],\n",
       "  ['2/1/16 00:00,Paradise Valley,AZ,Disk,,\"Blimp sized and shaped craft pulsating light spotted low in the clouds of Paradise Valley, AZ, that hit incredible speed.\",2/4/2016']]]"
      ]
     },
     "execution_count": 23,
     "metadata": {},
     "output_type": "execute_result"
    }
   ],
   "source": [
    "# The results should contain rows with ufeffDate from January and February 2016\n",
    "read_csv_list(['/datasets/mfudge/ufo-sightings/ufo-sightings-2016-01.csv', \n",
    "              '/datasets/mfudge/ufo-sightings/ufo-sightings-2016-02.csv'])"
   ]
  },
  {
   "cell_type": "markdown",
   "metadata": {},
   "source": [
    "Below, we will be using ** Titanic ** data from Seaborn package. "
   ]
  },
  {
   "cell_type": "code",
   "execution_count": 24,
   "metadata": {
    "collapsed": true
   },
   "outputs": [],
   "source": [
    "import numpy as np\n",
    "import pandas as pd\n",
    "import seaborn as sns\n",
    "titanic_df = sns.load_dataset('titanic')"
   ]
  },
  {
   "cell_type": "code",
   "execution_count": 25,
   "metadata": {
    "scrolled": false
   },
   "outputs": [
    {
     "data": {
      "text/html": [
       "<div>\n",
       "<style>\n",
       "    .dataframe thead tr:only-child th {\n",
       "        text-align: right;\n",
       "    }\n",
       "\n",
       "    .dataframe thead th {\n",
       "        text-align: left;\n",
       "    }\n",
       "\n",
       "    .dataframe tbody tr th {\n",
       "        vertical-align: top;\n",
       "    }\n",
       "</style>\n",
       "<table border=\"1\" class=\"dataframe\">\n",
       "  <thead>\n",
       "    <tr style=\"text-align: right;\">\n",
       "      <th></th>\n",
       "      <th>survived</th>\n",
       "      <th>pclass</th>\n",
       "      <th>sex</th>\n",
       "      <th>age</th>\n",
       "      <th>sibsp</th>\n",
       "      <th>parch</th>\n",
       "      <th>fare</th>\n",
       "      <th>embarked</th>\n",
       "      <th>class</th>\n",
       "      <th>who</th>\n",
       "      <th>adult_male</th>\n",
       "      <th>deck</th>\n",
       "      <th>embark_town</th>\n",
       "      <th>alive</th>\n",
       "      <th>alone</th>\n",
       "    </tr>\n",
       "  </thead>\n",
       "  <tbody>\n",
       "    <tr>\n",
       "      <th>0</th>\n",
       "      <td>0</td>\n",
       "      <td>3</td>\n",
       "      <td>male</td>\n",
       "      <td>22.0</td>\n",
       "      <td>1</td>\n",
       "      <td>0</td>\n",
       "      <td>7.2500</td>\n",
       "      <td>S</td>\n",
       "      <td>Third</td>\n",
       "      <td>man</td>\n",
       "      <td>True</td>\n",
       "      <td>NaN</td>\n",
       "      <td>Southampton</td>\n",
       "      <td>no</td>\n",
       "      <td>False</td>\n",
       "    </tr>\n",
       "    <tr>\n",
       "      <th>1</th>\n",
       "      <td>1</td>\n",
       "      <td>1</td>\n",
       "      <td>female</td>\n",
       "      <td>38.0</td>\n",
       "      <td>1</td>\n",
       "      <td>0</td>\n",
       "      <td>71.2833</td>\n",
       "      <td>C</td>\n",
       "      <td>First</td>\n",
       "      <td>woman</td>\n",
       "      <td>False</td>\n",
       "      <td>C</td>\n",
       "      <td>Cherbourg</td>\n",
       "      <td>yes</td>\n",
       "      <td>False</td>\n",
       "    </tr>\n",
       "    <tr>\n",
       "      <th>2</th>\n",
       "      <td>1</td>\n",
       "      <td>3</td>\n",
       "      <td>female</td>\n",
       "      <td>26.0</td>\n",
       "      <td>0</td>\n",
       "      <td>0</td>\n",
       "      <td>7.9250</td>\n",
       "      <td>S</td>\n",
       "      <td>Third</td>\n",
       "      <td>woman</td>\n",
       "      <td>False</td>\n",
       "      <td>NaN</td>\n",
       "      <td>Southampton</td>\n",
       "      <td>yes</td>\n",
       "      <td>True</td>\n",
       "    </tr>\n",
       "    <tr>\n",
       "      <th>3</th>\n",
       "      <td>1</td>\n",
       "      <td>1</td>\n",
       "      <td>female</td>\n",
       "      <td>35.0</td>\n",
       "      <td>1</td>\n",
       "      <td>0</td>\n",
       "      <td>53.1000</td>\n",
       "      <td>S</td>\n",
       "      <td>First</td>\n",
       "      <td>woman</td>\n",
       "      <td>False</td>\n",
       "      <td>C</td>\n",
       "      <td>Southampton</td>\n",
       "      <td>yes</td>\n",
       "      <td>False</td>\n",
       "    </tr>\n",
       "    <tr>\n",
       "      <th>4</th>\n",
       "      <td>0</td>\n",
       "      <td>3</td>\n",
       "      <td>male</td>\n",
       "      <td>35.0</td>\n",
       "      <td>0</td>\n",
       "      <td>0</td>\n",
       "      <td>8.0500</td>\n",
       "      <td>S</td>\n",
       "      <td>Third</td>\n",
       "      <td>man</td>\n",
       "      <td>True</td>\n",
       "      <td>NaN</td>\n",
       "      <td>Southampton</td>\n",
       "      <td>no</td>\n",
       "      <td>True</td>\n",
       "    </tr>\n",
       "  </tbody>\n",
       "</table>\n",
       "</div>"
      ],
      "text/plain": [
       "   survived  pclass     sex   age  sibsp  parch     fare embarked  class  \\\n",
       "0         0       3    male  22.0      1      0   7.2500        S  Third   \n",
       "1         1       1  female  38.0      1      0  71.2833        C  First   \n",
       "2         1       3  female  26.0      0      0   7.9250        S  Third   \n",
       "3         1       1  female  35.0      1      0  53.1000        S  First   \n",
       "4         0       3    male  35.0      0      0   8.0500        S  Third   \n",
       "\n",
       "     who  adult_male deck  embark_town alive  alone  \n",
       "0    man        True  NaN  Southampton    no  False  \n",
       "1  woman       False    C    Cherbourg   yes  False  \n",
       "2  woman       False  NaN  Southampton   yes   True  \n",
       "3  woman       False    C  Southampton   yes  False  \n",
       "4    man        True  NaN  Southampton    no   True  "
      ]
     },
     "execution_count": 25,
     "metadata": {},
     "output_type": "execute_result"
    }
   ],
   "source": [
    "titanic_df.head()"
   ]
  },
  {
   "cell_type": "code",
   "execution_count": 26,
   "metadata": {
    "scrolled": true
   },
   "outputs": [
    {
     "name": "stdout",
     "output_type": "stream",
     "text": [
      "<class 'pandas.core.frame.DataFrame'>\n",
      "RangeIndex: 891 entries, 0 to 890\n",
      "Data columns (total 15 columns):\n",
      "survived       891 non-null int64\n",
      "pclass         891 non-null int64\n",
      "sex            891 non-null object\n",
      "age            714 non-null float64\n",
      "sibsp          891 non-null int64\n",
      "parch          891 non-null int64\n",
      "fare           891 non-null float64\n",
      "embarked       889 non-null object\n",
      "class          891 non-null category\n",
      "who            891 non-null object\n",
      "adult_male     891 non-null bool\n",
      "deck           203 non-null category\n",
      "embark_town    889 non-null object\n",
      "alive          891 non-null object\n",
      "alone          891 non-null bool\n",
      "dtypes: bool(2), category(2), float64(2), int64(4), object(5)\n",
      "memory usage: 80.6+ KB\n"
     ]
    }
   ],
   "source": [
    "titanic_df.info()"
   ]
  },
  {
   "cell_type": "markdown",
   "metadata": {},
   "source": [
    "** Below step createes a column 'agerange' which indicates the age from 0 -16 as 'child' and above that as 'adult' **"
   ]
  },
  {
   "cell_type": "code",
   "execution_count": 28,
   "metadata": {
    "collapsed": true
   },
   "outputs": [],
   "source": [
    "titanic_df['agerange'] = pd.cut(titanic_df['age'], [0, 16, 100], labels=['child', 'adult'])"
   ]
  },
  {
   "cell_type": "markdown",
   "metadata": {},
   "source": [
    "2.4- ** Summarize ** Using Python, compute the average survival rate and count for each age range by sex for all the classes. "
   ]
  },
  {
   "attachments": {
    "image.png": {
     "image/png": "[encoded data removed]"
    }
   },
   "cell_type": "markdown",
   "metadata": {},
   "source": [
    "The output of the dataframe should be like this:\n",
    "![image.png](attachment:image.png)\n",
    "\n",
    "** Hint ** Groupby the columns 'pclass', 'sex' and 'agerange' and then compute the mean and count. "
   ]
  },
  {
   "cell_type": "code",
   "execution_count": 29,
   "metadata": {},
   "outputs": [
    {
     "data": {
      "text/html": [
       "<div>\n",
       "<style>\n",
       "    .dataframe thead tr:only-child th {\n",
       "        text-align: right;\n",
       "    }\n",
       "\n",
       "    .dataframe thead th {\n",
       "        text-align: left;\n",
       "    }\n",
       "\n",
       "    .dataframe tbody tr th {\n",
       "        vertical-align: top;\n",
       "    }\n",
       "</style>\n",
       "<table border=\"1\" class=\"dataframe\">\n",
       "  <thead>\n",
       "    <tr style=\"text-align: right;\">\n",
       "      <th></th>\n",
       "      <th></th>\n",
       "      <th></th>\n",
       "      <th>Survived</th>\n",
       "      <th>Count</th>\n",
       "    </tr>\n",
       "    <tr>\n",
       "      <th>pclass</th>\n",
       "      <th>sex</th>\n",
       "      <th>agerange</th>\n",
       "      <th></th>\n",
       "      <th></th>\n",
       "    </tr>\n",
       "  </thead>\n",
       "  <tbody>\n",
       "    <tr>\n",
       "      <th rowspan=\"4\" valign=\"top\">1</th>\n",
       "      <th rowspan=\"2\" valign=\"top\">female</th>\n",
       "      <th>adult</th>\n",
       "      <td>0.974684</td>\n",
       "      <td>79</td>\n",
       "    </tr>\n",
       "    <tr>\n",
       "      <th>child</th>\n",
       "      <td>0.833333</td>\n",
       "      <td>6</td>\n",
       "    </tr>\n",
       "    <tr>\n",
       "      <th rowspan=\"2\" valign=\"top\">male</th>\n",
       "      <th>adult</th>\n",
       "      <td>0.377551</td>\n",
       "      <td>98</td>\n",
       "    </tr>\n",
       "    <tr>\n",
       "      <th>child</th>\n",
       "      <td>1.000000</td>\n",
       "      <td>3</td>\n",
       "    </tr>\n",
       "    <tr>\n",
       "      <th rowspan=\"4\" valign=\"top\">2</th>\n",
       "      <th rowspan=\"2\" valign=\"top\">female</th>\n",
       "      <th>adult</th>\n",
       "      <td>0.906250</td>\n",
       "      <td>64</td>\n",
       "    </tr>\n",
       "    <tr>\n",
       "      <th>child</th>\n",
       "      <td>1.000000</td>\n",
       "      <td>10</td>\n",
       "    </tr>\n",
       "    <tr>\n",
       "      <th rowspan=\"2\" valign=\"top\">male</th>\n",
       "      <th>adult</th>\n",
       "      <td>0.068182</td>\n",
       "      <td>88</td>\n",
       "    </tr>\n",
       "    <tr>\n",
       "      <th>child</th>\n",
       "      <td>0.818182</td>\n",
       "      <td>11</td>\n",
       "    </tr>\n",
       "    <tr>\n",
       "      <th rowspan=\"4\" valign=\"top\">3</th>\n",
       "      <th rowspan=\"2\" valign=\"top\">female</th>\n",
       "      <th>adult</th>\n",
       "      <td>0.420290</td>\n",
       "      <td>69</td>\n",
       "    </tr>\n",
       "    <tr>\n",
       "      <th>child</th>\n",
       "      <td>0.545455</td>\n",
       "      <td>33</td>\n",
       "    </tr>\n",
       "    <tr>\n",
       "      <th rowspan=\"2\" valign=\"top\">male</th>\n",
       "      <th>adult</th>\n",
       "      <td>0.129630</td>\n",
       "      <td>216</td>\n",
       "    </tr>\n",
       "    <tr>\n",
       "      <th>child</th>\n",
       "      <td>0.270270</td>\n",
       "      <td>37</td>\n",
       "    </tr>\n",
       "  </tbody>\n",
       "</table>\n",
       "</div>"
      ],
      "text/plain": [
       "                        Survived  Count\n",
       "pclass sex    agerange                 \n",
       "1      female adult     0.974684     79\n",
       "              child     0.833333      6\n",
       "       male   adult     0.377551     98\n",
       "              child     1.000000      3\n",
       "2      female adult     0.906250     64\n",
       "              child     1.000000     10\n",
       "       male   adult     0.068182     88\n",
       "              child     0.818182     11\n",
       "3      female adult     0.420290     69\n",
       "              child     0.545455     33\n",
       "       male   adult     0.129630    216\n",
       "              child     0.270270     37"
      ]
     },
     "execution_count": 29,
     "metadata": {},
     "output_type": "execute_result"
    }
   ],
   "source": [
    "grouped_data = pd.concat(\n",
    "    [titanic_df.groupby(['pclass', 'sex', 'agerange'])['survived'].mean(),\n",
    "     titanic_df.groupby(['pclass', 'sex', 'agerange'])['survived'].count()],\n",
    "    axis=1)\n",
    "grouped_data.columns = ['Survived', 'Count']\n",
    "grouped_data"
   ]
  },
  {
   "cell_type": "markdown",
   "metadata": {},
   "source": [
    "## 3. HDFS"
   ]
  },
  {
   "cell_type": "markdown",
   "metadata": {},
   "source": [
    "3.1- ** File system manipulation with HDFS  ** In the terminal, create a directory in HDFS in your home folder called `ist718_homework1` and put all `tsv` files from `/datasets/mfudge/grades/` in there. \n",
    "In the cell below, execute the command `fsck` with the option to see the files (`-files`) and blocks (`-blocks`) on the folder you just created. **Remember to put the absolute path to the directory**"
   ]
  },
  {
   "cell_type": "code",
   "execution_count": 30,
   "metadata": {},
   "outputs": [
    {
     "name": "stdout",
     "output_type": "stream",
     "text": [
      "FSCK started by rpatel10 (auth:SIMPLE) from /128.230.190.71 for path /user/rpatel10/ist718_homework1 at Wed Oct 04 19:41:10 EDT 2017\n",
      "/user/rpatel10/ist718_homework1 <dir>\n",
      "/user/rpatel10/ist718_homework1/fall2015.tsv 107 bytes, 1 block(s):  OK\n",
      "0. BP-1592408621-128.230.190.71-1485224025476:blk_1073788704_47903 len=107 Live_repl=2\n",
      "\n",
      "/user/rpatel10/ist718_homework1/fall2016.tsv 108 bytes, 1 block(s):  OK\n",
      "0. BP-1592408621-128.230.190.71-1485224025476:blk_1073788705_47904 len=108 Live_repl=2\n",
      "\n",
      "/user/rpatel10/ist718_homework1/spring2016.tsv 95 bytes, 1 block(s):  OK\n",
      "0. BP-1592408621-128.230.190.71-1485224025476:blk_1073788706_47905 len=95 Live_repl=2\n",
      "\n",
      "Status: HEALTHY\n",
      " Total size:\t310 B\n",
      " Total dirs:\t1\n",
      " Total files:\t3\n",
      " Total symlinks:\t\t0\n",
      " Total blocks (validated):\t3 (avg. block size 103 B)\n",
      " Minimally replicated blocks:\t3 (100.0 %)\n",
      " Over-replicated blocks:\t0 (0.0 %)\n",
      " Under-replicated blocks:\t0 (0.0 %)\n",
      " Mis-replicated blocks:\t\t0 (0.0 %)\n",
      " Default replication factor:\t2\n",
      " Average block replication:\t2.0\n",
      " Corrupt blocks:\t\t0\n",
      " Missing replicas:\t\t0 (0.0 %)\n",
      " Number of data-nodes:\t\t2\n",
      " Number of racks:\t\t1\n",
      "FSCK ended at Wed Oct 04 19:41:10 EDT 2017 in 1 milliseconds\n",
      "\n",
      "\n",
      "The filesystem under path '/user/rpatel10/ist718_homework1' is HEALTHY\n"
     ]
    },
    {
     "name": "stderr",
     "output_type": "stream",
     "text": [
      "Connecting to namenode via http://ist-s-718-01.syr.edu:50070/fsck?ugi=rpatel10&files=1&blocks=1&path=%2Fuser%2Frpatel10%2Fist718_homework1\n"
     ]
    }
   ],
   "source": [
    "%%bash\n",
    "# Path code for put .tsv files in hadoop file system\n",
    "# hdfs dfs -mkdir ist718_homework1\n",
    "# hdfs dfs -put /datasets/mfudge/grades/*.tsv ist718_homework1\n",
    "# -------------------------------------------\n",
    "hdfs fsck /user/rpatel10/ist718_homework1 -files -blocks"
   ]
  },
  {
   "cell_type": "markdown",
   "metadata": {
    "collapsed": true
   },
   "source": [
    "How many total blocks are in the system? How many replicas?"
   ]
  },
  {
   "cell_type": "code",
   "execution_count": 31,
   "metadata": {
    "collapsed": true
   },
   "outputs": [],
   "source": [
    "# write total number of blocks here\n",
    "\n",
    "# Total blocks (validated): 3 (avg. block size 103 B)\n",
    "\n",
    "# Total blocks are 3"
   ]
  },
  {
   "cell_type": "markdown",
   "metadata": {},
   "source": [
    "3.2- **Reading from from HDFS  ** Using the command `-cat` within `hdfs dfs`, read all the `tsv` files in `/datasets/grades/` and, using pipe with `wc`, count the number of records in all the files. **Hint:** You see count 14 recods"
   ]
  },
  {
   "cell_type": "code",
   "execution_count": 32,
   "metadata": {},
   "outputs": [
    {
     "name": "stdout",
     "output_type": "stream",
     "text": [
      "14\n"
     ]
    }
   ],
   "source": [
    "%%bash\n",
    "hdfs dfs -cat /user/rpatel10/ist718_homework1/*.tsv | wc -l"
   ]
  },
  {
   "cell_type": "markdown",
   "metadata": {
    "collapsed": true
   },
   "source": [
    "# 4. MapReduce with Spark"
   ]
  },
  {
   "cell_type": "markdown",
   "metadata": {},
   "source": [
    "# \n",
    "If you are having trouble with the connection, then go to *Kernel* in the Jupyter notebook menu and choose *Restart* and rerun the code below."
   ]
  },
  {
   "cell_type": "code",
   "execution_count": 1,
   "metadata": {},
   "outputs": [
    {
     "ename": "ModuleNotFoundError",
     "evalue": "No module named 'findspark'",
     "output_type": "error",
     "traceback": [
      "\u001b[1;31m---------------------------------------------------------------------------\u001b[0m",
      "\u001b[1;31mModuleNotFoundError\u001b[0m                       Traceback (most recent call last)",
      "\u001b[1;32m<ipython-input-1-fe0a4eeb2543>\u001b[0m in \u001b[0;36m<module>\u001b[1;34m()\u001b[0m\n\u001b[1;32m----> 1\u001b[1;33m \u001b[1;32mimport\u001b[0m \u001b[0mfindspark\u001b[0m\u001b[1;33m\u001b[0m\u001b[0m\n\u001b[0m\u001b[0;32m      2\u001b[0m \u001b[0mfindspark\u001b[0m\u001b[1;33m.\u001b[0m\u001b[0minit\u001b[0m\u001b[1;33m(\u001b[0m\u001b[1;34m'/opt/cloudera/parcels/SPARK2/lib/spark2/'\u001b[0m\u001b[1;33m)\u001b[0m\u001b[1;33m\u001b[0m\u001b[0m\n\u001b[0;32m      3\u001b[0m \u001b[1;33m\u001b[0m\u001b[0m\n\u001b[0;32m      4\u001b[0m \u001b[1;31m# import the library\u001b[0m\u001b[1;33m\u001b[0m\u001b[1;33m\u001b[0m\u001b[0m\n\u001b[0;32m      5\u001b[0m \u001b[1;32mimport\u001b[0m \u001b[0mpyspark\u001b[0m\u001b[1;33m\u001b[0m\u001b[0m\n",
      "\u001b[1;31mModuleNotFoundError\u001b[0m: No module named 'findspark'"
     ]
    }
   ],
   "source": [
    "import findspark\n",
    "findspark.init('/opt/cloudera/parcels/SPARK2/lib/spark2/')\n",
    "\n",
    "# import the library\n",
    "import pyspark\n",
    "from pyspark.sql import SparkSession\n",
    "# for Spark 2.0, we have a unified entry point to the cluster\n",
    "spark = SparkSession.builder.\\\n",
    "    getOrCreate()\n",
    "# for previous versions, we can simulate SparkContext and SQLContext\n",
    "sc = spark.sparkContext\n",
    "sqlContext = spark\n",
    "\n",
    "# Display information about current execution\n",
    "spark.conf.get('spark.org.apache.hadoop.yarn.server.webproxy.amfilter.AmIpFilter.param.PROXY_URI_BASES')"
   ]
  },
  {
   "cell_type": "markdown",
   "metadata": {},
   "source": [
    "#### Reading text files from HDFS\n",
    "\n",
    "With Spark context in variable `sc`, you can read a set of files directly from HDFS by providing a glob. For example, to read a set of `tsv` files previously uploaded by the professor in HDFS, do the following:"
   ]
  },
  {
   "cell_type": "code",
   "execution_count": 34,
   "metadata": {
    "collapsed": true
   },
   "outputs": [],
   "source": [
    "grades_rdd = sc.textFile('/datasets/grades/*.tsv')"
   ]
  },
  {
   "cell_type": "code",
   "execution_count": 35,
   "metadata": {},
   "outputs": [
    {
     "data": {
      "text/plain": [
       "/datasets/grades/*.tsv MapPartitionsRDD[1] at textFile at NativeMethodAccessorImpl.java:0"
      ]
     },
     "execution_count": 35,
     "metadata": {},
     "output_type": "execute_result"
    }
   ],
   "source": [
    "grades_rdd"
   ]
  },
  {
   "cell_type": "code",
   "execution_count": 36,
   "metadata": {},
   "outputs": [
    {
     "data": {
      "text/plain": [
       "'2015\\tFall\\tIST101\\t1\\tA'"
      ]
     },
     "execution_count": 36,
     "metadata": {},
     "output_type": "execute_result"
    }
   ],
   "source": [
    "grades_rdd.first()"
   ]
  },
  {
   "cell_type": "code",
   "execution_count": 37,
   "metadata": {},
   "outputs": [
    {
     "data": {
      "text/plain": [
       "['2015\\tFall\\tIST101\\t1\\tA',\n",
       " '2015\\tFall\\tIST195\\t3\\tA',\n",
       " '2015\\tFall\\tIST233\\t3\\tB+',\n",
       " '2015\\tFall\\tSOC101\\t3\\tA-',\n",
       " '2015\\tFall\\tMAT221\\t3\\tC']"
      ]
     },
     "execution_count": 37,
     "metadata": {},
     "output_type": "execute_result"
    }
   ],
   "source": [
    "grades_rdd.take(5)"
   ]
  },
  {
   "cell_type": "code",
   "execution_count": 38,
   "metadata": {},
   "outputs": [
    {
     "data": {
      "text/plain": [
       "14"
      ]
     },
     "execution_count": 38,
     "metadata": {},
     "output_type": "execute_result"
    }
   ],
   "source": [
    "grades_rdd.count()"
   ]
  },
  {
   "cell_type": "code",
   "execution_count": 39,
   "metadata": {},
   "outputs": [
    {
     "data": {
      "text/plain": [
       "['2015\\tFall\\tIST101\\t1\\tA',\n",
       " '2015\\tFall\\tIST195\\t3\\tA',\n",
       " '2015\\tFall\\tIST233\\t3\\tB+',\n",
       " '2015\\tFall\\tSOC101\\t3\\tA-',\n",
       " '2015\\tFall\\tMAT221\\t3\\tC',\n",
       " '2016\\tFall\\tIST346\\t3\\tA',\n",
       " '2016\\tFall\\tCHE111\\t4\\tA-',\n",
       " '2016\\tFall\\tPSY120\\t3\\tB+',\n",
       " '2016\\tFall\\tIST256\\t3\\tA',\n",
       " '2016\\tFall\\tENG121\\t3\\tB+',\n",
       " '2016\\tSpring\\tGEO110\\t3\\tB+',\n",
       " '2016\\tSpring\\tMAT222\\t3\\tA',\n",
       " '2016\\tSpring\\tSOC121\\t3\\tC+',\n",
       " '2016\\tSpring\\tBIO240\\t3\\tB-']"
      ]
     },
     "execution_count": 39,
     "metadata": {},
     "output_type": "execute_result"
    }
   ],
   "source": [
    "grades_rdd.collect()"
   ]
  },
  {
   "cell_type": "markdown",
   "metadata": {},
   "source": [
    "As  you can see, `textFile` reads the files line by line, transparetly, and creates a Resilient Distributed Dataset (RDD), where each line is an element of the list."
   ]
  },
  {
   "cell_type": "markdown",
   "metadata": {},
   "source": [
    "4.1- ** Create a function that formats the lines ** Define a function that will `map` each line of the RDD and return the elements separated by tabs. Additionally, make sure that the column corresponding to credit is transformed into an *integer* . You can reuse some of the functionality defined previously. \n",
    "\n",
    "**Hint**: In Python, it is very easy to replace an indivual element of a list. For example, suppose that there is a list `columns` as follows:"
   ]
  },
  {
   "cell_type": "code",
   "execution_count": 40,
   "metadata": {
    "collapsed": true
   },
   "outputs": [],
   "source": [
    "columns = ['Fall', '3']"
   ]
  },
  {
   "cell_type": "markdown",
   "metadata": {},
   "source": [
    "Now, we can transform the element `'3'` into a number:"
   ]
  },
  {
   "cell_type": "code",
   "execution_count": 41,
   "metadata": {},
   "outputs": [
    {
     "name": "stdout",
     "output_type": "stream",
     "text": [
      "['Fall', 3]\n"
     ]
    }
   ],
   "source": [
    "columns[1] = int(columns[1])\n",
    "print(columns)"
   ]
  },
  {
   "cell_type": "markdown",
   "metadata": {},
   "source": [
    "Now define the function that takes each line,  splits by tab, and replaces replace the data types appropriately"
   ]
  },
  {
   "cell_type": "code",
   "execution_count": 42,
   "metadata": {
    "collapsed": true
   },
   "outputs": [],
   "source": [
    "def split_columns(line):\n",
    "    columns = line.split('\\t')  \n",
    "    columns[3] = int(columns[3])\n",
    "    return columns"
   ]
  },
  {
   "cell_type": "markdown",
   "metadata": {},
   "source": [
    "Executing the code should result in something like this:\n",
    "    \n",
    "```python\n",
    "In: grades_rdd.map(split_columns).collect()\n",
    "```\n",
    "\n",
    "```bash\n",
    "Out:\n",
    "[['2015', 'Fall', 'IST101', 1, 'A'],\n",
    " ['2015', 'Fall', 'IST195', 3, 'A'],\n",
    " ['2015', 'Fall', 'IST233', 3, 'B+'],\n",
    " ['2015', 'Fall', 'SOC101', 3, 'A-'],\n",
    " ['2015', 'Fall', 'MAT221', 3, 'C'],\n",
    " ['2016', 'Fall', 'IST346', 3, 'A'],\n",
    " ['2016', 'Fall', 'CHE111', 4, 'A-'],\n",
    " ['2016', 'Fall', 'PSY120', 3, 'B+'],\n",
    " ['2016', 'Fall', 'IST256', 3, 'A'],\n",
    " ['2016', 'Fall', 'ENG121', 3, 'B+'],\n",
    " ['2016', 'Spring', 'GEO110', 3, 'B+'],\n",
    " ['2016', 'Spring', 'MAT222', 3, 'A'],\n",
    " ['2016', 'Spring', 'SOC121', 3, 'C+'],\n",
    " ['2016', 'Spring', 'BIO240', 3, 'B-']]\n",
    "```"
   ]
  },
  {
   "cell_type": "code",
   "execution_count": 43,
   "metadata": {},
   "outputs": [
    {
     "data": {
      "text/plain": [
       "[['2015', 'Fall', 'IST101', 1, 'A'],\n",
       " ['2015', 'Fall', 'IST195', 3, 'A'],\n",
       " ['2015', 'Fall', 'IST233', 3, 'B+'],\n",
       " ['2015', 'Fall', 'SOC101', 3, 'A-'],\n",
       " ['2015', 'Fall', 'MAT221', 3, 'C'],\n",
       " ['2016', 'Fall', 'IST346', 3, 'A'],\n",
       " ['2016', 'Fall', 'CHE111', 4, 'A-'],\n",
       " ['2016', 'Fall', 'PSY120', 3, 'B+'],\n",
       " ['2016', 'Fall', 'IST256', 3, 'A'],\n",
       " ['2016', 'Fall', 'ENG121', 3, 'B+'],\n",
       " ['2016', 'Spring', 'GEO110', 3, 'B+'],\n",
       " ['2016', 'Spring', 'MAT222', 3, 'A'],\n",
       " ['2016', 'Spring', 'SOC121', 3, 'C+'],\n",
       " ['2016', 'Spring', 'BIO240', 3, 'B-']]"
      ]
     },
     "execution_count": 43,
     "metadata": {},
     "output_type": "execute_result"
    }
   ],
   "source": [
    "# run your code here\n",
    "grades_data_rdd = grades_rdd.map(split_columns)\n",
    "grades_data_rdd.collect()"
   ]
  },
  {
   "cell_type": "markdown",
   "metadata": {
    "collapsed": true
   },
   "source": [
    "4.2- ** Enrich the dataset  ** Chain the `map` operation of the previous question into another `map` that enriches the dataset. This new operation should append an element to the list corresponding to the numerical value of the letter grade. Use the following table to do such transformation:\n",
    "\n",
    "|letter|number|\n",
    "|--|-|\n",
    "|A |4|\n",
    "|A-|3.7|\n",
    "|B+|3.3|\n",
    "|B|3|\n",
    "|B-|2.7|\n",
    "|C+|2.3|\n",
    "|C|2|\n",
    "|C-|1.7|\n",
    "|D+|1.3|\n",
    "|D|1|\n",
    "|F|0|"
   ]
  },
  {
   "cell_type": "markdown",
   "metadata": {},
   "source": [
    "**Hint**: to chain several comparisons, you can use the `elif` control flow structure. Or even better, you can define a dictionary whose keys are the letter grade and values are the number"
   ]
  },
  {
   "cell_type": "code",
   "execution_count": 44,
   "metadata": {
    "collapsed": true
   },
   "outputs": [],
   "source": [
    "def enrich_record(record):\n",
    "    if record[4] == 'A':\n",
    "        record.append(4)\n",
    "    elif record[4] == 'A-':\n",
    "        record.append(3.7)\n",
    "    elif record[4] == 'B+':\n",
    "        record.append(3.3)\n",
    "    elif record[4] == 'B':\n",
    "        record.append(3)\n",
    "    elif record[4] == 'B-':\n",
    "        record.append(2.7)\n",
    "    elif record[4] == 'C+':\n",
    "        record.append(2.3)\n",
    "    elif record[4] == 'C':\n",
    "        record.append(2)\n",
    "    elif record[4] == 'C-':\n",
    "        record.append(1.7)\n",
    "    elif record[4] == 'D+':\n",
    "        record.append(1.3)\n",
    "    elif record[4] == 'D':\n",
    "        record.append(1)\n",
    "    elif record[4] == 'F':\n",
    "        record.append(0)\n",
    "    modified_record = record\n",
    "    return modified_record"
   ]
  },
  {
   "cell_type": "markdown",
   "metadata": {},
   "source": [
    "The expected result of the code should look something like this:\n",
    "\n",
    "```python\n",
    "In: grades_data_rdd.map(enrich_record).collect()\n",
    "```\n",
    "\n",
    "```bash\n",
    "Out:\n",
    "[['2015', 'Fall', 'IST101', 1, 'A', 4],\n",
    " ['2015', 'Fall', 'IST195', 3, 'A', 4],\n",
    " ['2015', 'Fall', 'IST233', 3, 'B+', 3.3],\n",
    " ['2015', 'Fall', 'SOC101', 3, 'A-', 3.7],\n",
    " ['2015', 'Fall', 'MAT221', 3, 'C', 2],\n",
    " ['2016', 'Fall', 'IST346', 3, 'A', 4],\n",
    " ['2016', 'Fall', 'CHE111', 4, 'A-', 3.7],\n",
    " ['2016', 'Fall', 'PSY120', 3, 'B+', 3.3],\n",
    " ['2016', 'Fall', 'IST256', 3, 'A', 4],\n",
    " ['2016', 'Fall', 'ENG121', 3, 'B+', 3.3],\n",
    " ['2016', 'Spring', 'GEO110', 3, 'B+', 3.3],\n",
    " ['2016', 'Spring', 'MAT222', 3, 'A', 4],\n",
    " ['2016', 'Spring', 'SOC121', 3, 'C+', 2.3],\n",
    " ['2016', 'Spring', 'BIO240', 3, 'B-', 2.7]]\n",
    "```"
   ]
  },
  {
   "cell_type": "code",
   "execution_count": 45,
   "metadata": {
    "scrolled": true
   },
   "outputs": [
    {
     "data": {
      "text/plain": [
       "[['2015', 'Fall', 'IST101', 1, 'A', 4],\n",
       " ['2015', 'Fall', 'IST195', 3, 'A', 4],\n",
       " ['2015', 'Fall', 'IST233', 3, 'B+', 3.3],\n",
       " ['2015', 'Fall', 'SOC101', 3, 'A-', 3.7],\n",
       " ['2015', 'Fall', 'MAT221', 3, 'C', 2],\n",
       " ['2016', 'Fall', 'IST346', 3, 'A', 4],\n",
       " ['2016', 'Fall', 'CHE111', 4, 'A-', 3.7],\n",
       " ['2016', 'Fall', 'PSY120', 3, 'B+', 3.3],\n",
       " ['2016', 'Fall', 'IST256', 3, 'A', 4],\n",
       " ['2016', 'Fall', 'ENG121', 3, 'B+', 3.3],\n",
       " ['2016', 'Spring', 'GEO110', 3, 'B+', 3.3],\n",
       " ['2016', 'Spring', 'MAT222', 3, 'A', 4],\n",
       " ['2016', 'Spring', 'SOC121', 3, 'C+', 2.3],\n",
       " ['2016', 'Spring', 'BIO240', 3, 'B-', 2.7]]"
      ]
     },
     "execution_count": 45,
     "metadata": {},
     "output_type": "execute_result"
    }
   ],
   "source": [
    "# run the code here\n",
    "enriched_rdd = grades_data_rdd.map(enrich_record)\n",
    "enriched_rdd.collect()"
   ]
  },
  {
   "cell_type": "markdown",
   "metadata": {},
   "source": [
    "4.3- ** Data analysis with MapReduce ** Many people are curious about the cumulative credits they have per program. The grade dataset contains a description of the course (e.g., `IST101`) which consists of three letters for the program (e.g., `IST`) and three numbers for the course number (e.g., `101`). Using MapReduce, use the `grades_data_rdd` RDD to construct a MapReduce program that computes the total number of credits per program. **Hint**: Define a map function that takes the records in `grades_data_rdd` and generates appropriate key value pairs, where the key is the program. Then, define a reduce function that combines pairs of values appropriately."
   ]
  },
  {
   "cell_type": "code",
   "execution_count": 46,
   "metadata": {
    "collapsed": true
   },
   "outputs": [],
   "source": [
    "# define the map function here\n",
    "def map_program_credits(record):\n",
    "    key = record[2]\n",
    "    key = key[:3]\n",
    "    value = record[3]\n",
    "    return [key, value]\n",
    "\n",
    "# define the reduce function here\n",
    "def reduce_program_credits(value1, value2):\n",
    "    new_value = value1 + value2\n",
    "    return new_value"
   ]
  },
  {
   "cell_type": "markdown",
   "metadata": {},
   "source": [
    "The result of the computation should look something like this\n",
    "\n",
    "```python\n",
    "In: grades_data_rdd.map(map_program_credits).reduceByKey(reduce_program_credits).collect()\n",
    "```\n",
    "\n",
    "```bash\n",
    "Out: \n",
    "[('ENG', 3),\n",
    " ('IST', 13),\n",
    " ('MAT', 6),\n",
    " ('CHE', 4),\n",
    " ('SOC', 6),\n",
    " ('GEO', 3),\n",
    " ('PSY', 3),\n",
    " ('BIO', 3)]\n",
    "```"
   ]
  },
  {
   "cell_type": "code",
   "execution_count": 47,
   "metadata": {
    "scrolled": true
   },
   "outputs": [
    {
     "data": {
      "text/plain": [
       "[('ENG', 3),\n",
       " ('SOC', 6),\n",
       " ('MAT', 6),\n",
       " ('CHE', 4),\n",
       " ('IST', 13),\n",
       " ('GEO', 3),\n",
       " ('PSY', 3),\n",
       " ('BIO', 3)]"
      ]
     },
     "execution_count": 47,
     "metadata": {},
     "output_type": "execute_result"
    }
   ],
   "source": [
    "# run the code here\n",
    "grades_data_rdd.map(map_program_credits).reduceByKey(reduce_program_credits).collect()"
   ]
  },
  {
   "cell_type": "markdown",
   "metadata": {},
   "source": [
    "4.4- ** Cumulative GPA with MapReduce  ** The cumulative GPA reported in any transcript is the average of the numerical score of a course weighted by the credits of such course. Construct a MapReduce job that takes the `enriched_rdd` RDD and returns the cumulative GPA *per semester*. **Hint** In class, we discussed the MapReduce job for computing avereage. In this case, the key-value pairs will be similar but instead of counting the number of elements considered in the avarage so far, we need to count the credits. Clearly, the key needs to be the semester."
   ]
  },
  {
   "cell_type": "code",
   "execution_count": 48,
   "metadata": {
    "collapsed": true
   },
   "outputs": [],
   "source": [
    "def map_weighted_gpa(record):\n",
    "    key = record[1]\n",
    "    value = [record[5],record[3]]\n",
    "    return [key, value]\n",
    "\n",
    "def reduce_weighted_gpa(value1, value2):\n",
    "    new_value = value1[1] + value2[1]\n",
    "    new_key = ((value1[0]*value1[1])+(value2[0]*value2[1]))/new_value\n",
    "    return [new_key, new_value]"
   ]
  },
  {
   "cell_type": "markdown",
   "metadata": {},
   "source": [
    "The results should look something like this:\n",
    "\n",
    "```python\n",
    "In: enriched_rdd.map(map_weighted_gpa).reduceByKey(reduce_weighted_gpa).collect()\n",
    "```\n",
    "\n",
    "```bash\n",
    "Out: [('Fall', [3.503448275862069, 29]), ('Spring', [3.0749999999999997, 12])]\n",
    "```"
   ]
  },
  {
   "cell_type": "code",
   "execution_count": 49,
   "metadata": {},
   "outputs": [
    {
     "data": {
      "text/plain": [
       "[('Fall', [3.503448275862069, 29]), ('Spring', [3.0749999999999997, 12])]"
      ]
     },
     "execution_count": 49,
     "metadata": {},
     "output_type": "execute_result"
    }
   ],
   "source": [
    "# run your code here\n",
    "enriched_rdd.map(map_weighted_gpa).reduceByKey(reduce_weighted_gpa).collect()"
   ]
  },
  {
   "cell_type": "code",
   "execution_count": null,
   "metadata": {
    "collapsed": true
   },
   "outputs": [],
   "source": []
  }
 ],
 "metadata": {
  "anaconda-cloud": {},
  "kernelspec": {
   "display_name": "Python 3",
   "language": "python",
   "name": "python3"
  },
  "language_info": {
   "codemirror_mode": {
    "name": "ipython",
    "version": 3
   },
   "file_extension": ".py",
   "mimetype": "text/x-python",
   "name": "python",
   "nbconvert_exporter": "python",
   "pygments_lexer": "ipython3",
   "version": "3.6.1"
  }
 },
 "nbformat": 4,
 "nbformat_minor": 2
}
